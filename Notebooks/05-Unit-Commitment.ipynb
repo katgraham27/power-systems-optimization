{
 "cells": [
  {
   "cell_type": "markdown",
   "metadata": {},
   "source": [
    "# Unit Commitment\n",
    "\n",
    "_**[Power Systems Optimization](https://github.com/east-winds/power-systems-optimization)**_\n",
    "\n",
    "_by Michael R. Davidson and Jesse D. Jenkins (last updated: October 11, 2022)_\n",
    "\n",
    "This notebook will build on the economic dispatch (ED) model by introducing binary startup (called \"commitment\") decisions, constraints, and costs of thermal generators. Similar to ED, it minimizes the short-run production costs of meeting electricity demand, but these additions are necessary for operating systems with large amounts of (inflexible) thermal generation. They also entail significant computational trade-offs.\n",
    "\n",
    "****\n",
    "\n",
    "We build up the model in several stages. We first start with the simplest model that incorporates unit commitment decisions in order to understand the logic of three-variable commitment formulations.\n",
    "\n",
    "Next, we introduce moderate complexity through the addition of ramp constraints&mdash;which we need to be modified from the ED to account for startups and shutdowns.\n",
    "\n",
    "Finally, we model a more realistic unit commitment that includes reserves&mdash;an important feature of day-ahead scheduling in power systems."
   ]
  },
  {
   "cell_type": "markdown",
   "metadata": {},
   "source": [
    "## Introduction to unit commitment\n",
    "\n",
    "Engineering considerations severely limit the possible output ranges of power plants. System operators need to be aware of these limitations when scheduling generation to meet demand. Thermal power plants, in particular, due to their complex designs, thermodynamic cycles, and material properties, can be particularly challenging. In practice, due to the times involved in bringing these power plants online, much of this scheduling is done day-ahead, which gives rise to the need for a day-ahead market.\n",
    "\n",
    "**Unit commitment** (UC) is the problem of minimizing short-run costs of production inclusive of production and startup costs, in order to meet a given demand and considering relevant engineering constraints of the generators. It is built on the ED model in that it typically considers all of the same variables in addition to the new startup-related variables and constraints&mdash;hence, it is also sometimes called unit commitment and economic dispatch (UCED). This notebook, for simplicity, only considers a single-bus case, while typical formulations usually include a simplified network representation."
   ]
  },
  {
   "cell_type": "markdown",
   "metadata": {},
   "source": [
    "## Simple unit commitment\n",
    "\n",
    "We start with the simplest case that incorporates unit commitment, building on the `economic_dispatch_multi` problem of the [Economic Dispatch notebook](04-Economic-Dispatch.ipynb).\n",
    "\n",
    "\n",
    "$$\n",
    "\\begin{align}\n",
    "\\min \\ & \\sum_{g \\in G, t \\in T} VarCost_g \\times GEN_{g,t} + \\sum_{g \\in G_{thermal}, t \\in T} StartUpCost_g \\times START_{g,t} \\\\\n",
    "\\end{align}\n",
    "$$\n",
    "$$\n",
    "\\begin{align}\n",
    "\\text{s.t.} & \\\\\n",
    " & \\sum_{g} GEN_{g,t} = Demand_t & \\forall \\quad t \\in T \\\\\n",
    " & GEN_{g,t} \\leq Pmax_{g,t} & \\forall \\quad g \\notin G_{thermal} , t \\in T \\\\\n",
    " & GEN_{g,t} \\geq Pmin_{g,t} & \\forall \\quad g \\notin G_{thermal} , t \\in T \\\\\n",
    " & GEN_{g,t} \\leq Pmax_{g,t} \\times COMMIT_{g,t} & \\forall \\quad g \\in G_{thermal} , t \\in T \\\\\n",
    " & GEN_{g,t} \\geq Pmin_{g,t} \\times COMMIT_{g,t} & \\forall \\quad g \\in G_{thermal} , t \\in T \\\\\n",
    " & COMMIT_{g,t} \\geq \\sum_{t'≥t-MinUp_g}^{t} START_{g,t} & \\forall \\quad g \\in G_{thermal} , t \\in T \\\\\n",
    " & 1-COMMIT_{g,t} \\geq \\sum_{t'≥t-MinDown_g}^{t} SHUT_{g,t} &\\forall \\quad g \\in G_{thermal} , t \\in T \\\\\n",
    "  & COMMIT_{g,t+1} - COMMIT_{g,t} =&\\\\\n",
    " & \\quad START_{g,t+1} - SHUT_{g,t+1} &\\forall \\quad G_{thermal} \\in G , t = 1..T-1 \n",
    "\\end{align}\n",
    "$$\n",
    "\n",
    "\n",
    "The **decision variables** in the above problem:\n",
    "\n",
    "- $GEN_{g}$, generation (in MW) produced by each generator, $g$\n",
    "- $START_{g,t}$, startup decision (binary) of thermal generator $g$ at time $t$\n",
    "- $SHUT_{g,t}$, shutdown decision (binary) of thermal generator $g$ at time $t$\n",
    "- $COMMIT_{g,t}$, commitment status (binary) of generator $g$ at time $t$\n",
    "\n",
    "The **parameters** are:\n",
    "\n",
    "- $Pmin_g$, the minimum operating bounds for generator $g$ (based on engineering or natural resource constraints)\n",
    "- $Pmax_g$, the maximum operating bounds for generator $g$ (based on engineering or natural resource constraints)\n",
    "- $Demand$, the demand (in MW)\n",
    "- $VarCost_g = VarOM_g + HeatRate_g \\times FuelCost_g$, the variable cost of generator $g$ \n",
    "- $StartUpCost_g$, the startup cost of generator $g$\n",
    "- $MinUp_g$, the minimum up time of generator $g$, or the minimum time after start-up before a unit can shut down\n",
    "- $MinDown_g$, the minimum down time of generator $g$, or the minimum time after shut-down before a unit can start again\n",
    "\n",
    "In addition, we introduce a few different sets:\n",
    "\n",
    "- $G$, the set of all generators\n",
    "- $G_{thermal} \\subset G$, the subset of thermal generators for which commitment is necessary\n",
    "- $T$, the set of all time periods over which we are optimizing commitment and dispatch decisions\n",
    "\n",
    "Finally, the **three-variable commitment equations** capture the basic logic of commitment:\n",
    "\n",
    "- Units incur costs when they startup (not when they shutdown)\n",
    "- Units must stay on (and off) for a minimum period of time&mdash;in lieu of explicitly enforcing a startup trajectory\n",
    "- Some summations (simplified here) will need to be modified near the beginning of the time period\n",
    "\n",
    "There are some further resources at the bottom for alternative and/or more complex formulations of the UC.\n",
    "\n",
    "Now, let's implement UC."
   ]
  },
  {
   "cell_type": "markdown",
   "metadata": {},
   "source": [
    "### 1. Load packages"
   ]
  },
  {
   "cell_type": "code",
   "execution_count": 1,
   "metadata": {},
   "outputs": [
    {
     "name": "stderr",
     "output_type": "stream",
     "text": [
      "┌ Info: For saving to png with the Plotly backend PlotlyBase and PlotlyKaleido need to be installed.\n",
      "└ @ Plots /Users/jdj2/.julia/packages/Plots/W75kY/src/backends.jl:319\n"
     ]
    }
   ],
   "source": [
    "using JuMP, HiGHS\n",
    "using Plots; plotly();\n",
    "using VegaLite  # to make some nice plots\n",
    "using DataFrames, CSV, PrettyTables\n",
    "ENV[\"COLUMNS\"]=120; # Set so all columns of DataFrames and Matrices are displayed"
   ]
  },
  {
   "cell_type": "markdown",
   "metadata": {},
   "source": [
    "### 2. Load and format data\n",
    "\n",
    "We will use data loosely based on San Diego Gas and Electric (SDG&E, via the [PowerGenome](https://github.com/gschivley/PowerGenome) data platform) including a few neighboring generators and adjustments to make the problem easy to solve, consisting of:\n",
    "\n",
    "- 33 generators (we added a few more to ensure we can provide enough reserves)\n",
    "- estimated hourly demand for 2020 (net load at the transmission substation level after subtracting 600MW of behind-the-meter solar from original demand)\n",
    "- variable generation capacity factors\n",
    "- estimated natural gas fuel costs\n",
    "\n",
    "In order to demonstrate the impacts of unit commitment, we will keep our high solar sensitivity case from the [Economic Dispatch notebook](04-Economic-Dispatch.ipynb) (with 3,500 MW of solar PV) to produce large variations in net load (demand less available renewable supply) required to meet demand (similar to [California's infamous \"Duck Curve\"](https://www.caiso.com/Documents/FlexibleResourcesHelpRenewables_FastFacts.pdf)). "
   ]
  },
  {
   "cell_type": "code",
   "execution_count": 2,
   "metadata": {},
   "outputs": [],
   "source": [
    "datadir = joinpath(\"uc_data\") \n",
    "gen_info = CSV.read(joinpath(datadir,\"Generators_data.csv\"), DataFrame);\n",
    "fuels = CSV.read(joinpath(datadir,\"Fuels_data.csv\"), DataFrame);\n",
    "loads = CSV.read(joinpath(datadir,\"Demand.csv\"), DataFrame);\n",
    "gen_variable = CSV.read(joinpath(datadir,\"Generators_variability.csv\"), DataFrame);\n",
    "\n",
    "# Rename all columns to lowercase (by convention)\n",
    "for f in [gen_info, fuels, loads, gen_variable]\n",
    "    rename!(f,lowercase.(names(f)))\n",
    "end"
   ]
  },
  {
   "cell_type": "markdown",
   "metadata": {},
   "source": [
    "**Construct generator dataframe**"
   ]
  },
  {
   "cell_type": "code",
   "execution_count": 3,
   "metadata": {},
   "outputs": [],
   "source": [
    "# Keep columns relevant to our UC model \n",
    "select!(gen_info, 1:26) # columns 1:26\n",
    "gen_df = outerjoin(gen_info,  fuels, on = :fuel) # load in fuel costs and add to data frame\n",
    "rename!(gen_df, :cost_per_mmbtu => :fuel_cost)   # rename column for fuel cost\n",
    "gen_df.fuel_cost[ismissing.(gen_df[:,:fuel_cost])] .= 0\n",
    "\n",
    "# create \"is_variable\" column to indicate if this is a variable generation source (e.g. wind, solar):\n",
    "gen_df[!, :is_variable] .= false\n",
    "gen_df[in([\"onshore_wind_turbine\",\"small_hydroelectric\",\"solar_photovoltaic\"]).(gen_df.resource),\n",
    "    :is_variable] .= true;\n",
    "\n",
    "# create full name of generator (including geographic location and cluster number)\n",
    "#  for use with variable generation dataframe\n",
    "gen_df.gen_full = lowercase.(gen_df.region .* \"_\" .* gen_df.resource .* \"_\" .* string.(gen_df.cluster) .* \".0\");\n",
    "\n",
    "# remove generators with no capacity (e.g. new build options that we'd use if this was capacity expansion problem)\n",
    "gen_df = gen_df[gen_df.existing_cap_mw .> 0,:];"
   ]
  },
  {
   "cell_type": "markdown",
   "metadata": {},
   "source": [
    "**Modify load and variable generation dataframes**"
   ]
  },
  {
   "cell_type": "code",
   "execution_count": 4,
   "metadata": {},
   "outputs": [],
   "source": [
    "# 1. Convert from GMT to GMT-8\n",
    "gen_variable.hour = mod.(gen_variable.hour .- 9, 8760) .+ 1 \n",
    "sort!(gen_variable, :hour)\n",
    "loads.hour = mod.(loads.hour .- 9, 8760) .+ 1\n",
    "sort!(loads, :hour);\n",
    "\n",
    "# 2. Convert from \"wide\" to \"long\" format\n",
    "gen_variable_long = stack(gen_variable, \n",
    "                        Not(:hour), \n",
    "                        variable_name=:gen_full,\n",
    "                        value_name=:cf);\n",
    "# Now we have a \"long\" dataframe"
   ]
  },
  {
   "cell_type": "markdown",
   "metadata": {},
   "source": [
    "### 3. Create solver function"
   ]
  },
  {
   "cell_type": "markdown",
   "metadata": {},
   "source": [
    "As a utility function, since we do this alot, we'll create a function to convert JuMP AxisArray outputs with two indexes to DataFrames."
   ]
  },
  {
   "cell_type": "code",
   "execution_count": 5,
   "metadata": {},
   "outputs": [
    {
     "data": {
      "text/plain": [
       "value_to_df_2dim (generic function with 1 method)"
      ]
     },
     "execution_count": 5,
     "metadata": {},
     "output_type": "execute_result"
    }
   ],
   "source": [
    "#=\n",
    "Function to convert JuMP outputs (technically, AxisArrays) with two-indexes to a dataframe\n",
    "Inputs:\n",
    "    var -- JuMP AxisArray (e.g., value.(GEN))\n",
    "Reference: https://jump.dev/JuMP.jl/v0.19/containers/\n",
    "=#\n",
    "function value_to_df_2dim(var)\n",
    "    solution = DataFrame(var.data, :auto)\n",
    "    ax1 = var.axes[1]\n",
    "    ax2 = var.axes[2]\n",
    "    cols = names(solution)\n",
    "    insertcols!(solution, 1, :r_id => ax1)\n",
    "    solution = stack(solution, Not(:r_id), variable_name=:hour)\n",
    "    solution.hour = foldl(replace, [cols[i] => ax2[i] for i in 1:length(ax2)], init=solution.hour)\n",
    "    rename!(solution, :value => :gen)\n",
    "    solution.hour = convert.(Int64,solution.hour)\n",
    "    return solution\n",
    "end"
   ]
  },
  {
   "cell_type": "markdown",
   "metadata": {},
   "source": [
    "Then we'll create a function to create and solve a simple unit commitment problem with specified input data."
   ]
  },
  {
   "cell_type": "code",
   "execution_count": 24,
   "metadata": {},
   "outputs": [
    {
     "data": {
      "text/plain": [
       "unit_commitment_simple (generic function with 2 methods)"
      ]
     },
     "execution_count": 24,
     "metadata": {},
     "output_type": "execute_result"
    }
   ],
   "source": [
    "#=\n",
    "Function to solve simple unit commitment problem (commitment equations)\n",
    "Inputs:\n",
    "    gen_df -- dataframe with generator info\n",
    "    loads  -- load by time\n",
    "    gen_variable -- capacity factors of variable generators (in \"long\" format)\n",
    "    mip_gap -- desired relative MIP gap to pass to solver\n",
    "=#\n",
    "function unit_commitment_simple(gen_df, loads, gen_variable, mip_gap)\n",
    "    UC = Model(HiGHS.Optimizer)\n",
    "    set_optimizer_attribute(UC, \"mip_rel_gap\", mip_gap)\n",
    "\n",
    "    # Define sets based on data\n",
    "    # Note the creation of several different sets of generators for use in\n",
    "    # different equations.\n",
    "        # Thermal resources for which unit commitment constraints apply\n",
    "    G_thermal = gen_df[gen_df[!,:up_time] .> 0,:r_id] \n",
    "        # Non-thermal resources for which unit commitment constraints do NOT apply \n",
    "    G_nonthermal = gen_df[gen_df[!,:up_time] .== 0,:r_id]\n",
    "        # Variable renewable resources\n",
    "    G_var = gen_df[gen_df[!,:is_variable] .== 1,:r_id]\n",
    "        # Non-variable (dispatchable) resources\n",
    "    G_nonvar = gen_df[gen_df[!,:is_variable] .== 0,:r_id]\n",
    "        # Non-variable and non-thermal resources\n",
    "    G_nt_nonvar = intersect(G_nonvar, G_nonthermal)\n",
    "        # Set of all generators (above are all subsets of this)\n",
    "    G = gen_df.r_id\n",
    "        # All time periods (hours) over which we are optimizing\n",
    "    T = loads.hour\n",
    "        # A subset of time periods that excludes the last time period\n",
    "    T_red = loads.hour[1:end-1]  # reduced time periods without last one\n",
    "\n",
    "    # Generator capacity factor time series for variable generators\n",
    "    gen_var_cf = innerjoin(gen_variable, \n",
    "                    gen_df[gen_df.is_variable .== 1 , \n",
    "                        [:r_id, :gen_full, :existing_cap_mw]], \n",
    "                    on = :gen_full)\n",
    "        \n",
    "    # Decision variables   \n",
    "    @variables(UC, begin\n",
    "            # Continuous decision variables\n",
    "        GEN[G, T]  >= 0     # generation\n",
    "            # Bin = binary variables; \n",
    "            # the following are all binary decisions that \n",
    "            # can ONLY take the values 0 or 1\n",
    "            # The presence of these discrete decisions makes this an MILP\n",
    "        COMMIT[G_thermal, T], Bin # commitment status (Bin=binary)\n",
    "        START[G_thermal, T], Bin  # startup decision\n",
    "        SHUT[G_thermal, T], Bin   # shutdown decision\n",
    "    end)\n",
    "                \n",
    "    # Objective function\n",
    "        # Sum of variable costs + start-up costs for all generators and time periods\n",
    "    @objective(UC, Min, \n",
    "        sum( (gen_df[gen_df.r_id .== i,:heat_rate_mmbtu_per_mwh][1] * gen_df[gen_df.r_id .== i,:fuel_cost][1] +\n",
    "            gen_df[gen_df.r_id .== i,:var_om_cost_per_mwh][1]) * GEN[i,t] \n",
    "                        for i in G_nonvar for t in T) + \n",
    "        sum(gen_df[gen_df.r_id .== i,:var_om_cost_per_mwh][1] * GEN[i,t] \n",
    "                        for i in G_var for t in T)  + \n",
    "        sum(gen_df[gen_df.r_id .== i,:start_cost_per_mw][1] * \n",
    "            gen_df[gen_df.r_id .== i,:existing_cap_mw][1] *\n",
    "            START[i,t] \n",
    "                        for i in G_thermal for t in T)\n",
    "    )\n",
    "    \n",
    "    # Demand balance constraint (supply must = demand in all time periods)\n",
    "    @constraint(UC, cDemand[t in T], \n",
    "        sum(GEN[i,t] for i in G) == loads[loads.hour .== t,:demand][1])\n",
    "\n",
    "    # Capacity constraints \n",
    "      # 1. thermal generators requiring commitment\n",
    "    @constraint(UC, Cap_thermal_min[i in G_thermal, t in T], \n",
    "        GEN[i,t] >= COMMIT[i, t] * gen_df[gen_df.r_id .== i,:existing_cap_mw][1] *\n",
    "                        gen_df[gen_df.r_id .== i,:min_power][1])\n",
    "    @constraint(UC, Cap_thermal_max[i in G_thermal, t in T], \n",
    "        GEN[i,t] <= COMMIT[i, t] * gen_df[gen_df.r_id .== i,:existing_cap_mw][1])\n",
    "\n",
    "      # 2. non-variable generation not requiring commitment\n",
    "    @constraint(UC, Cap_nt_nonvar[i in G_nt_nonvar, t in T], \n",
    "        GEN[i,t] <= gen_df[gen_df.r_id .== i,:existing_cap_mw][1])\n",
    "    \n",
    "      # 3. variable generation, accounting for hourly capacity factor\n",
    "    @constraint(UC, Cap_var[i in 1:nrow(gen_var_cf)], \n",
    "            GEN[gen_var_cf[i,:r_id], gen_var_cf[i,:hour] ] <= \n",
    "                        gen_var_cf[i,:cf] *\n",
    "                        gen_var_cf[i,:existing_cap_mw])\n",
    "    \n",
    "    # Unit commitment constraints\n",
    "      # 1. Minimum up time\n",
    "    @constraint(UC, Startup[i in G_thermal, t in T],\n",
    "        COMMIT[i, t] >= sum(START[i, tt] \n",
    "                        for tt in intersect(T,\n",
    "                            (t-gen_df[gen_df.r_id .== i,:up_time][1]):t)))\n",
    "\n",
    "      # 2. Minimum down time\n",
    "    @constraint(UC, Shutdown[i in G_thermal, t in T],\n",
    "        1-COMMIT[i, t] >= sum(SHUT[i, tt] \n",
    "                        for tt in intersect(T,\n",
    "                            (t-gen_df[gen_df.r_id .== i,:down_time][1]):t)))\n",
    " \n",
    "      # 3. Commitment state\n",
    "    @constraint(UC, CommitmentStatus[i in G_thermal, t in T_red],\n",
    "        COMMIT[i,t+1] - COMMIT[i,t] == START[i,t+1] - SHUT[i,t+1])\n",
    "    \n",
    "    # Solve statement (! indicates runs in place)\n",
    "    optimize!(UC)\n",
    "\n",
    "    # Generation solution and convert to data frame \n",
    "    # with our helper function defined above\n",
    "    gen = value_to_df_2dim(value.(GEN))\n",
    "\n",
    "    # Commitment status solution and convert to data frame\n",
    "    commit = value_to_df_2dim(value.(COMMIT))\n",
    "\n",
    "    # Calculate curtailment = available wind and/or solar output that \n",
    "    # had to be wasted due to operating constraints\n",
    "    curtail = innerjoin(gen_var_cf, gen, on = [:r_id, :hour])\n",
    "    curtail.curt = curtail.cf .* curtail.existing_cap_mw - curtail.gen\n",
    "    \n",
    "    # Return the solution parameters and objective\n",
    "    return (\n",
    "        gen,\n",
    "        commit,\n",
    "        curtail,\n",
    "        cost = objective_value(UC),\n",
    "        status = termination_status(UC)\n",
    "    )\n",
    "\n",
    "end"
   ]
  },
  {
   "cell_type": "markdown",
   "metadata": {},
   "source": [
    "### 4. Solve a day's unit commitment"
   ]
  },
  {
   "cell_type": "code",
   "execution_count": 25,
   "metadata": {},
   "outputs": [
    {
     "name": "stdout",
     "output_type": "stream",
     "text": [
      "Presolving model\n",
      "2598 rows, 2177 cols, 8905 nonzeros\n",
      "2309 rows, 1827 cols, 10164 nonzeros\n",
      "\n",
      "Solving MIP model with:\n",
      "   2309 rows\n",
      "   1827 cols (1251 binary, 0 integer, 0 implied int., 576 continuous)\n",
      "   10164 nonzeros\n",
      "\n",
      "( 0.0s) Starting symmetry detection\n",
      "( 0.0s) No symmetry present\n",
      "\n",
      "        Nodes      |    B&B Tree     |            Objective Bounds              |  Dynamic Constraints |       Work      \n",
      "     Proc. InQueue |  Leaves   Expl. | BestBound       BestSol              Gap |   Cuts   InLp Confl. | LpIters     Time\n",
      "\n",
      "         0       0         0   0.00%   0               inf                  inf        0      0      0         0     0.0s\n",
      "         0       0         0   0.00%   853832.31776    inf                  inf        0      0      6       644     0.0s\n",
      " R       0       0         0   0.00%   853908.886691   862256.418938      0.97%      188     15     21       691     0.0s\n",
      "\n",
      "Solving report\n",
      "  Status            Optimal\n",
      "  Primal bound      862256.418938\n",
      "  Dual bound        853908.886691\n",
      "  Gap               0.968% (tolerance: 1%)\n",
      "  Solution status   feasible\n",
      "                    862256.418938 (objective)\n",
      "                    0 (bound viol.)\n",
      "                    0 (int. viol.)\n",
      "                    0 (row viol.)\n",
      "  Timing            0.09 (total)\n",
      "                    0.01 (presolve)\n",
      "                    0.00 (postsolve)\n",
      "  Nodes             1\n",
      "  LP iterations     691 (total)\n",
      "                    0 (strong br.)\n",
      "                    47 (separation)\n",
      "                    0 (heuristics)\n"
     ]
    }
   ],
   "source": [
    "# A spring day\n",
    "n=100\n",
    "T_period = (n*24+1):((n+1)*24)\n",
    "\n",
    "# High solar case: 3,500 MW\n",
    "gen_df_sens = copy(gen_df)\n",
    "gen_df_sens[gen_df_sens.resource .== \"solar_photovoltaic\",\n",
    "    :existing_cap_mw] .= 3500\n",
    "\n",
    "loads_multi = loads[in.(loads.hour,Ref(T_period)),:]\n",
    "gen_variable_multi = gen_variable_long[in.(gen_variable_long.hour,Ref(T_period)),:]\n",
    "\n",
    "# Note we reduce the MIP gap tolerance threshold here to increase tractability\n",
    "# Here we set it to a 1% gap (mip_gap=0.01), meaning that we will terminate once we have \n",
    "# a feasible integer solution guaranteed to be within 1% of the objective\n",
    "# function value of the optimal solution (e.g. the upper and lower bound are within 1% of\n",
    "# each other as HiGHS traverses the branch and bound tree).\n",
    "# HiGHS's default MIP gap is 0.0001 (0.01%), which can take a longer time for \n",
    "# any complex problem. So it is important to set this to a realistic value.\n",
    "# For a list of all solver options implemented via HiGHS.jl see \n",
    "# https://github.com/jump-dev/HiGHS.jl\n",
    "solution = unit_commitment_simple(\n",
    "    gen_df_sens, loads_multi, gen_variable_multi, 0.01); #1% MIP Gap"
   ]
  },
  {
   "cell_type": "code",
   "execution_count": 26,
   "metadata": {},
   "outputs": [
    {
     "data": {
      "application/vnd.vegalite.v4+json": {
       "data": {
        "values": [
         {
          "gen_sum": 21.4,
          "hour": 0,
          "resource": "biomass"
         },
         {
          "gen_sum": 42,
          "hour": 0,
          "resource": "hydroelectric_pumped_storage"
         },
         {
          "gen_sum": 1385.106268,
          "hour": 0,
          "resource": "natural_gas_fired_combined_cycle"
         },
         {
          "gen_sum": 0,
          "hour": 0,
          "resource": "natural_gas_fired_combustion_turbine"
         },
         {
          "gen_sum": 163.3088,
          "hour": 0,
          "resource": "_onshore_wind_turbine"
         },
         {
          "gen_sum": 3.184932,
          "hour": 0,
          "resource": "_small_hydroelectric"
         },
         {
          "gen_sum": 0,
          "hour": 0,
          "resource": "_solar_photovoltaic"
         },
         {
          "gen_sum": 21.4,
          "hour": 1,
          "resource": "biomass"
         },
         {
          "gen_sum": 42,
          "hour": 1,
          "resource": "hydroelectric_pumped_storage"
         },
         {
          "gen_sum": 1316.6217880000002,
          "hour": 1,
          "resource": "natural_gas_fired_combined_cycle"
         },
         {
          "gen_sum": 0,
          "hour": 1,
          "resource": "natural_gas_fired_combustion_turbine"
         },
         {
          "gen_sum": 169.79327999999998,
          "hour": 1,
          "resource": "_onshore_wind_turbine"
         },
         {
          "gen_sum": 3.184932,
          "hour": 1,
          "resource": "_small_hydroelectric"
         },
         {
          "gen_sum": 0,
          "hour": 1,
          "resource": "_solar_photovoltaic"
         },
         {
          "gen_sum": 21.4,
          "hour": 2,
          "resource": "biomass"
         },
         {
          "gen_sum": 42,
          "hour": 2,
          "resource": "hydroelectric_pumped_storage"
         },
         {
          "gen_sum": 1336.304668,
          "hour": 2,
          "resource": "natural_gas_fired_combined_cycle"
         },
         {
          "gen_sum": 0,
          "hour": 2,
          "resource": "natural_gas_fired_combustion_turbine"
         },
         {
          "gen_sum": 115.1104,
          "hour": 2,
          "resource": "_onshore_wind_turbine"
         },
         {
          "gen_sum": 3.184932,
          "hour": 2,
          "resource": "_small_hydroelectric"
         },
         {
          "gen_sum": 0,
          "hour": 2,
          "resource": "_solar_photovoltaic"
         },
         {
          "gen_sum": 21.4,
          "hour": 3,
          "resource": "biomass"
         },
         {
          "gen_sum": 41.999999999999986,
          "hour": 3,
          "resource": "hydroelectric_pumped_storage"
         },
         {
          "gen_sum": 1394.862108,
          "hour": 3,
          "resource": "natural_gas_fired_combined_cycle"
         },
         {
          "gen_sum": 0,
          "hour": 3,
          "resource": "natural_gas_fired_combustion_turbine"
         },
         {
          "gen_sum": 100.55296,
          "hour": 3,
          "resource": "_onshore_wind_turbine"
         },
         {
          "gen_sum": 3.184932,
          "hour": 3,
          "resource": "_small_hydroelectric"
         },
         {
          "gen_sum": 0,
          "hour": 3,
          "resource": "_solar_photovoltaic"
         },
         {
          "gen_sum": 21.4,
          "hour": 4,
          "resource": "biomass"
         },
         {
          "gen_sum": 42,
          "hour": 4,
          "resource": "hydroelectric_pumped_storage"
         },
         {
          "gen_sum": 1585.8377879999998,
          "hour": 4,
          "resource": "natural_gas_fired_combined_cycle"
         },
         {
          "gen_sum": 0,
          "hour": 4,
          "resource": "natural_gas_fired_combustion_turbine"
         },
         {
          "gen_sum": 80.57728,
          "hour": 4,
          "resource": "_onshore_wind_turbine"
         },
         {
          "gen_sum": 3.184932,
          "hour": 4,
          "resource": "_small_hydroelectric"
         },
         {
          "gen_sum": 0,
          "hour": 4,
          "resource": "_solar_photovoltaic"
         },
         {
          "gen_sum": 21.4,
          "hour": 5,
          "resource": "biomass"
         },
         {
          "gen_sum": 42,
          "hour": 5,
          "resource": "hydroelectric_pumped_storage"
         },
         {
          "gen_sum": 1770.238108,
          "hour": 5,
          "resource": "natural_gas_fired_combined_cycle"
         },
         {
          "gen_sum": 0,
          "hour": 5,
          "resource": "natural_gas_fired_combustion_turbine"
         },
         {
          "gen_sum": 139.17695999999998,
          "hour": 5,
          "resource": "_onshore_wind_turbine"
         },
         {
          "gen_sum": 3.184932,
          "hour": 5,
          "resource": "_small_hydroelectric"
         },
         {
          "gen_sum": 0,
          "hour": 5,
          "resource": "_solar_photovoltaic"
         },
         {
          "gen_sum": 21.4,
          "hour": 6,
          "resource": "biomass"
         },
         {
          "gen_sum": 42.000000000000014,
          "hour": 6,
          "resource": "hydroelectric_pumped_storage"
         },
         {
          "gen_sum": 1906.297228,
          "hour": 6,
          "resource": "natural_gas_fired_combined_cycle"
         },
         {
          "gen_sum": 33.388000000000005,
          "hour": 6,
          "resource": "natural_gas_fired_combustion_turbine"
         },
         {
          "gen_sum": 74.17984,
          "hour": 6,
          "resource": "_onshore_wind_turbine"
         },
         {
          "gen_sum": 3.184932,
          "hour": 6,
          "resource": "_small_hydroelectric"
         },
         {
          "gen_sum": 193.55,
          "hour": 6,
          "resource": "_solar_photovoltaic"
         },
         {
          "gen_sum": 21.4,
          "hour": 7,
          "resource": "biomass"
         },
         {
          "gen_sum": 41.999999999999964,
          "hour": 7,
          "resource": "hydroelectric_pumped_storage"
         },
         {
          "gen_sum": 1673.803628,
          "hour": 7,
          "resource": "natural_gas_fired_combined_cycle"
         },
         {
          "gen_sum": 33.388000000000005,
          "hour": 7,
          "resource": "natural_gas_fired_combustion_turbine"
         },
         {
          "gen_sum": 49.373439999999995,
          "hour": 7,
          "resource": "_onshore_wind_turbine"
         },
         {
          "gen_sum": 3.184932,
          "hour": 7,
          "resource": "_small_hydroelectric"
         },
         {
          "gen_sum": 773.85,
          "hour": 7,
          "resource": "_solar_photovoltaic"
         },
         {
          "gen_sum": 21.4,
          "hour": 8,
          "resource": "biomass"
         },
         {
          "gen_sum": 41.99999999999994,
          "hour": 8,
          "resource": "hydroelectric_pumped_storage"
         },
         {
          "gen_sum": 932.4589079999998,
          "hour": 8,
          "resource": "natural_gas_fired_combined_cycle"
         },
         {
          "gen_sum": 0,
          "hour": 8,
          "resource": "natural_gas_fired_combustion_turbine"
         },
         {
          "gen_sum": 167.35616,
          "hour": 8,
          "resource": "_onshore_wind_turbine"
         },
         {
          "gen_sum": 3.184932,
          "hour": 8,
          "resource": "_small_hydroelectric"
         },
         {
          "gen_sum": 1671.6000000000001,
          "hour": 8,
          "resource": "_solar_photovoltaic"
         },
         {
          "gen_sum": 21.4,
          "hour": 9,
          "resource": "biomass"
         },
         {
          "gen_sum": 42.00000000000014,
          "hour": 9,
          "resource": "hydroelectric_pumped_storage"
         },
         {
          "gen_sum": 809.904108,
          "hour": 9,
          "resource": "natural_gas_fired_combined_cycle"
         },
         {
          "gen_sum": 0,
          "hour": 9,
          "resource": "natural_gas_fired_combustion_turbine"
         },
         {
          "gen_sum": 131.56096,
          "hour": 9,
          "resource": "_onshore_wind_turbine"
         },
         {
          "gen_sum": 3.184932,
          "hour": 9,
          "resource": "_small_hydroelectric"
         },
         {
          "gen_sum": 2014.95,
          "hour": 9,
          "resource": "_solar_photovoltaic"
         },
         {
          "gen_sum": 21.4,
          "hour": 10,
          "resource": "biomass"
         },
         {
          "gen_sum": 42.00000000000017,
          "hour": 10,
          "resource": "hydroelectric_pumped_storage"
         },
         {
          "gen_sum": 833.5714679999999,
          "hour": 10,
          "resource": "natural_gas_fired_combined_cycle"
         },
         {
          "gen_sum": 0,
          "hour": 10,
          "resource": "natural_gas_fired_combustion_turbine"
         },
         {
          "gen_sum": 111.1936,
          "hour": 10,
          "resource": "_onshore_wind_turbine"
         },
         {
          "gen_sum": 3.184932,
          "hour": 10,
          "resource": "_small_hydroelectric"
         },
         {
          "gen_sum": 2113.65,
          "hour": 10,
          "resource": "_solar_photovoltaic"
         },
         {
          "gen_sum": 21.4,
          "hour": 11,
          "resource": "biomass"
         },
         {
          "gen_sum": 42.00000000000004,
          "hour": 11,
          "resource": "hydroelectric_pumped_storage"
         },
         {
          "gen_sum": 655.654988,
          "hour": 11,
          "resource": "natural_gas_fired_combined_cycle"
         },
         {
          "gen_sum": 0,
          "hour": 11,
          "resource": "natural_gas_fired_combustion_turbine"
         },
         {
          "gen_sum": 92.11008,
          "hour": 11,
          "resource": "_onshore_wind_turbine"
         },
         {
          "gen_sum": 3.184932,
          "hour": 11,
          "resource": "_small_hydroelectric"
         },
         {
          "gen_sum": 2148.65,
          "hour": 11,
          "resource": "_solar_photovoltaic"
         },
         {
          "gen_sum": 0,
          "hour": 12,
          "resource": "biomass"
         },
         {
          "gen_sum": 0,
          "hour": 12,
          "resource": "hydroelectric_pumped_storage"
         },
         {
          "gen_sum": 461.04019999999997,
          "hour": 12,
          "resource": "natural_gas_fired_combined_cycle"
         },
         {
          "gen_sum": 0,
          "hour": 12,
          "resource": "natural_gas_fired_combustion_turbine"
         },
         {
          "gen_sum": 22.674868000000178,
          "hour": 12,
          "resource": "_onshore_wind_turbine"
         },
         {
          "gen_sum": 3.184932,
          "hour": 12,
          "resource": "_small_hydroelectric"
         },
         {
          "gen_sum": 2256.1,
          "hour": 12,
          "resource": "_solar_photovoltaic"
         },
         {
          "gen_sum": 0,
          "hour": 13,
          "resource": "biomass"
         },
         {
          "gen_sum": 0,
          "hour": 13,
          "resource": "hydroelectric_pumped_storage"
         },
         {
          "gen_sum": 461.04019999999997,
          "hour": 13,
          "resource": "natural_gas_fired_combined_cycle"
         },
         {
          "gen_sum": 0,
          "hour": 13,
          "resource": "natural_gas_fired_combustion_turbine"
         },
         {
          "gen_sum": 0,
          "hour": 13,
          "resource": "_onshore_wind_turbine"
         },
         {
          "gen_sum": 0,
          "hour": 13,
          "resource": "_small_hydroelectric"
         },
         {
          "gen_sum": 2204.9598,
          "hour": 13,
          "resource": "_solar_photovoltaic"
         },
         {
          "gen_sum": 0,
          "hour": 14,
          "resource": "biomass"
         },
         {
          "gen_sum": 0,
          "hour": 14,
          "resource": "hydroelectric_pumped_storage"
         },
         {
          "gen_sum": 461.04019999999997,
          "hour": 14,
          "resource": "natural_gas_fired_combined_cycle"
         },
         {
          "gen_sum": 0,
          "hour": 14,
          "resource": "natural_gas_fired_combustion_turbine"
         },
         {
          "gen_sum": 0,
          "hour": 14,
          "resource": "_onshore_wind_turbine"
         },
         {
          "gen_sum": 0,
          "hour": 14,
          "resource": "_small_hydroelectric"
         },
         {
          "gen_sum": 2116.9598,
          "hour": 14,
          "resource": "_solar_photovoltaic"
         },
         {
          "gen_sum": 0,
          "hour": 15,
          "resource": "biomass"
         },
         {
          "gen_sum": 0,
          "hour": 15,
          "resource": "hydroelectric_pumped_storage"
         },
         {
          "gen_sum": 461.04019999999997,
          "hour": 15,
          "resource": "natural_gas_fired_combined_cycle"
         },
         {
          "gen_sum": 0,
          "hour": 15,
          "resource": "natural_gas_fired_combustion_turbine"
         },
         {
          "gen_sum": 24.524868000000087,
          "hour": 15,
          "resource": "_onshore_wind_turbine"
         },
         {
          "gen_sum": 3.184932,
          "hour": 15,
          "resource": "_small_hydroelectric"
         },
         {
          "gen_sum": 1993.25,
          "hour": 15,
          "resource": "_solar_photovoltaic"
         },
         {
          "gen_sum": 21.4,
          "hour": 16,
          "resource": "biomass"
         },
         {
          "gen_sum": 42.00000000000004,
          "hour": 16,
          "resource": "hydroelectric_pumped_storage"
         },
         {
          "gen_sum": 660.9297879999999,
          "hour": 16,
          "resource": "natural_gas_fired_combined_cycle"
         },
         {
          "gen_sum": 0,
          "hour": 16,
          "resource": "natural_gas_fired_combustion_turbine"
         },
         {
          "gen_sum": 57.18527999999999,
          "hour": 16,
          "resource": "_onshore_wind_turbine"
         },
         {
          "gen_sum": 3.184932,
          "hour": 16,
          "resource": "_small_hydroelectric"
         },
         {
          "gen_sum": 1637.3,
          "hour": 16,
          "resource": "_solar_photovoltaic"
         },
         {
          "gen_sum": 21.4,
          "hour": 17,
          "resource": "biomass"
         },
         {
          "gen_sum": 42.0000000000001,
          "hour": 17,
          "resource": "hydroelectric_pumped_storage"
         },
         {
          "gen_sum": 1096.196188,
          "hour": 17,
          "resource": "natural_gas_fired_combined_cycle"
         },
         {
          "gen_sum": 0,
          "hour": 17,
          "resource": "natural_gas_fired_combustion_turbine"
         },
         {
          "gen_sum": 78.61888,
          "hour": 17,
          "resource": "_onshore_wind_turbine"
         },
         {
          "gen_sum": 3.184932,
          "hour": 17,
          "resource": "_small_hydroelectric"
         },
         {
          "gen_sum": 1132.6,
          "hour": 17,
          "resource": "_solar_photovoltaic"
         },
         {
          "gen_sum": 21.4,
          "hour": 18,
          "resource": "biomass"
         },
         {
          "gen_sum": 42,
          "hour": 18,
          "resource": "hydroelectric_pumped_storage"
         },
         {
          "gen_sum": 1592.5,
          "hour": 18,
          "resource": "natural_gas_fired_combined_cycle"
         },
         {
          "gen_sum": 499.34938800000043,
          "hour": 18,
          "resource": "natural_gas_fired_combustion_turbine"
         },
         {
          "gen_sum": 52.61568,
          "hour": 18,
          "resource": "_onshore_wind_turbine"
         },
         {
          "gen_sum": 3.184932,
          "hour": 18,
          "resource": "_small_hydroelectric"
         },
         {
          "gen_sum": 166.95,
          "hour": 18,
          "resource": "_solar_photovoltaic"
         },
         {
          "gen_sum": 21.4,
          "hour": 19,
          "resource": "biomass"
         },
         {
          "gen_sum": 42.00000000000001,
          "hour": 19,
          "resource": "hydroelectric_pumped_storage"
         },
         {
          "gen_sum": 1592.5,
          "hour": 19,
          "resource": "natural_gas_fired_combined_cycle"
         },
         {
          "gen_sum": 780.4865880000002,
          "hour": 19,
          "resource": "natural_gas_fired_combustion_turbine"
         },
         {
          "gen_sum": 61.42848,
          "hour": 19,
          "resource": "_onshore_wind_turbine"
         },
         {
          "gen_sum": 3.184932,
          "hour": 19,
          "resource": "_small_hydroelectric"
         },
         {
          "gen_sum": 0,
          "hour": 19,
          "resource": "_solar_photovoltaic"
         },
         {
          "gen_sum": 21.4,
          "hour": 20,
          "resource": "biomass"
         },
         {
          "gen_sum": 42,
          "hour": 20,
          "resource": "hydroelectric_pumped_storage"
         },
         {
          "gen_sum": 1592.5,
          "hour": 20,
          "resource": "natural_gas_fired_combined_cycle"
         },
         {
          "gen_sum": 774.9982680000005,
          "hour": 20,
          "resource": "natural_gas_fired_combustion_turbine"
         },
         {
          "gen_sum": 71.9168,
          "hour": 20,
          "resource": "_onshore_wind_turbine"
         },
         {
          "gen_sum": 3.184932,
          "hour": 20,
          "resource": "_small_hydroelectric"
         },
         {
          "gen_sum": 0,
          "hour": 20,
          "resource": "_solar_photovoltaic"
         },
         {
          "gen_sum": 21.4,
          "hour": 21,
          "resource": "biomass"
         },
         {
          "gen_sum": 42,
          "hour": 21,
          "resource": "hydroelectric_pumped_storage"
         },
         {
          "gen_sum": 1592.5,
          "hour": 21,
          "resource": "natural_gas_fired_combined_cycle"
         },
         {
          "gen_sum": 502.86642799999987,
          "hour": 21,
          "resource": "natural_gas_fired_combustion_turbine"
         },
         {
          "gen_sum": 96.04864,
          "hour": 21,
          "resource": "_onshore_wind_turbine"
         },
         {
          "gen_sum": 3.184932,
          "hour": 21,
          "resource": "_small_hydroelectric"
         },
         {
          "gen_sum": 0,
          "hour": 21,
          "resource": "_solar_photovoltaic"
         },
         {
          "gen_sum": 21.4,
          "hour": 22,
          "resource": "biomass"
         },
         {
          "gen_sum": 42,
          "hour": 22,
          "resource": "hydroelectric_pumped_storage"
         },
         {
          "gen_sum": 1592.5,
          "hour": 22,
          "resource": "natural_gas_fired_combined_cycle"
         },
         {
          "gen_sum": 202.4459479999999,
          "hour": 22,
          "resource": "natural_gas_fired_combustion_turbine"
         },
         {
          "gen_sum": 126.46912,
          "hour": 22,
          "resource": "_onshore_wind_turbine"
         },
         {
          "gen_sum": 3.184932,
          "hour": 22,
          "resource": "_small_hydroelectric"
         },
         {
          "gen_sum": 0,
          "hour": 22,
          "resource": "_solar_photovoltaic"
         },
         {
          "gen_sum": 21.4,
          "hour": 23,
          "resource": "biomass"
         },
         {
          "gen_sum": 42,
          "hour": 23,
          "resource": "hydroelectric_pumped_storage"
         },
         {
          "gen_sum": 1548.993948,
          "hour": 23,
          "resource": "natural_gas_fired_combined_cycle"
         },
         {
          "gen_sum": 0,
          "hour": 23,
          "resource": "natural_gas_fired_combustion_turbine"
         },
         {
          "gen_sum": 144.42111999999997,
          "hour": 23,
          "resource": "_onshore_wind_turbine"
         },
         {
          "gen_sum": 3.184932,
          "hour": 23,
          "resource": "_small_hydroelectric"
         },
         {
          "gen_sum": 0,
          "hour": 23,
          "resource": "_solar_photovoltaic"
         },
         {
          "gen_sum": 0,
          "hour": 0,
          "resource": "_solar_photovoltaic_btm"
         },
         {
          "gen_sum": 0,
          "hour": 1,
          "resource": "_solar_photovoltaic_btm"
         },
         {
          "gen_sum": 0,
          "hour": 2,
          "resource": "_solar_photovoltaic_btm"
         },
         {
          "gen_sum": 0,
          "hour": 3,
          "resource": "_solar_photovoltaic_btm"
         },
         {
          "gen_sum": 0,
          "hour": 4,
          "resource": "_solar_photovoltaic_btm"
         },
         {
          "gen_sum": 0,
          "hour": 5,
          "resource": "_solar_photovoltaic_btm"
         },
         {
          "gen_sum": 33.18,
          "hour": 6,
          "resource": "_solar_photovoltaic_btm"
         },
         {
          "gen_sum": 132.66,
          "hour": 7,
          "resource": "_solar_photovoltaic_btm"
         },
         {
          "gen_sum": 286.56,
          "hour": 8,
          "resource": "_solar_photovoltaic_btm"
         },
         {
          "gen_sum": 345.42,
          "hour": 9,
          "resource": "_solar_photovoltaic_btm"
         },
         {
          "gen_sum": 362.34,
          "hour": 10,
          "resource": "_solar_photovoltaic_btm"
         },
         {
          "gen_sum": 368.34,
          "hour": 11,
          "resource": "_solar_photovoltaic_btm"
         },
         {
          "gen_sum": 386.76,
          "hour": 12,
          "resource": "_solar_photovoltaic_btm"
         },
         {
          "gen_sum": 387.29999999999995,
          "hour": 13,
          "resource": "_solar_photovoltaic_btm"
         },
         {
          "gen_sum": 374.46,
          "hour": 14,
          "resource": "_solar_photovoltaic_btm"
         },
         {
          "gen_sum": 341.7,
          "hour": 15,
          "resource": "_solar_photovoltaic_btm"
         },
         {
          "gen_sum": 280.68,
          "hour": 16,
          "resource": "_solar_photovoltaic_btm"
         },
         {
          "gen_sum": 194.16,
          "hour": 17,
          "resource": "_solar_photovoltaic_btm"
         },
         {
          "gen_sum": 28.62,
          "hour": 18,
          "resource": "_solar_photovoltaic_btm"
         },
         {
          "gen_sum": 0,
          "hour": 19,
          "resource": "_solar_photovoltaic_btm"
         },
         {
          "gen_sum": 0,
          "hour": 20,
          "resource": "_solar_photovoltaic_btm"
         },
         {
          "gen_sum": 0,
          "hour": 21,
          "resource": "_solar_photovoltaic_btm"
         },
         {
          "gen_sum": 0,
          "hour": 22,
          "resource": "_solar_photovoltaic_btm"
         },
         {
          "gen_sum": 0,
          "hour": 23,
          "resource": "_solar_photovoltaic_btm"
         },
         {
          "gen_sum": 0,
          "hour": 0,
          "resource": "_curtailment"
         },
         {
          "gen_sum": 0,
          "hour": 1,
          "resource": "_curtailment"
         },
         {
          "gen_sum": 0,
          "hour": 2,
          "resource": "_curtailment"
         },
         {
          "gen_sum": 0,
          "hour": 3,
          "resource": "_curtailment"
         },
         {
          "gen_sum": 0,
          "hour": 4,
          "resource": "_curtailment"
         },
         {
          "gen_sum": 0,
          "hour": 5,
          "resource": "_curtailment"
         },
         {
          "gen_sum": 0,
          "hour": 6,
          "resource": "_curtailment"
         },
         {
          "gen_sum": 0,
          "hour": 7,
          "resource": "_curtailment"
         },
         {
          "gen_sum": 0,
          "hour": 8,
          "resource": "_curtailment"
         },
         {
          "gen_sum": 0,
          "hour": 9,
          "resource": "_curtailment"
         },
         {
          "gen_sum": 0,
          "hour": 10,
          "resource": "_curtailment"
         },
         {
          "gen_sum": 0,
          "hour": 11,
          "resource": "_curtailment"
         },
         {
          "gen_sum": 29.418571999999823,
          "hour": 12,
          "resource": "_curtailment"
         },
         {
          "gen_sum": 122.16761199999992,
          "hour": 13,
          "resource": "_curtailment"
         },
         {
          "gen_sum": 119.79625199999982,
          "hour": 14,
          "resource": "_curtailment"
         },
         {
          "gen_sum": 40.885691999999906,
          "hour": 15,
          "resource": "_curtailment"
         },
         {
          "gen_sum": 0,
          "hour": 16,
          "resource": "_curtailment"
         },
         {
          "gen_sum": 0,
          "hour": 17,
          "resource": "_curtailment"
         },
         {
          "gen_sum": 0,
          "hour": 18,
          "resource": "_curtailment"
         },
         {
          "gen_sum": 0,
          "hour": 19,
          "resource": "_curtailment"
         },
         {
          "gen_sum": 0,
          "hour": 20,
          "resource": "_curtailment"
         },
         {
          "gen_sum": 0,
          "hour": 21,
          "resource": "_curtailment"
         },
         {
          "gen_sum": 0,
          "hour": 22,
          "resource": "_curtailment"
         },
         {
          "gen_sum": 0,
          "hour": 23,
          "resource": "_curtailment"
         }
        ]
       },
       "encoding": {
        "color": {
         "field": "resource",
         "scale": {
          "scheme": "category10"
         },
         "type": "nominal"
        },
        "x": {
         "field": "hour",
         "type": "quantitative"
        },
        "y": {
         "field": "gen_sum",
         "stack": "zero",
         "type": "quantitative"
        }
       },
       "mark": "area"
      },
      "image/png": "[encoded data removed]",
      "image/svg+xml": [
       "<?xml version=\"1.0\" encoding=\"utf-8\"?>\n",
       "<!DOCTYPE svg PUBLIC \"-//W3C//DTD SVG 1.1//EN\" \"http://www.w3.org/Graphics/SVG/1.1/DTD/svg11.dtd\">\n",
       "<svg xmlns=\"http://www.w3.org/2000/svg\" xmlns:xlink=\"http://www.w3.org/1999/xlink\" version=\"1.1\" class=\"marks\" width=\"452\" height=\"247\" viewBox=\"0 0 452 247\"><rect width=\"452\" height=\"247\" fill=\"white\"/><g fill=\"none\" stroke-miterlimit=\"10\" transform=\"translate(54,10)\"><g class=\"mark-group role-frame root\" role=\"graphics-object\" aria-roledescription=\"group mark container\"><g transform=\"translate(0,0)\"><path class=\"background\" aria-hidden=\"true\" d=\"M0.5,0.5h200v200h-200Z\" stroke=\"#ddd\"/><g><g class=\"mark-group role-axis\" aria-hidden=\"true\"><g transform=\"translate(0.5,200.5)\"><path class=\"background\" aria-hidden=\"true\" d=\"M0,0h0v0h0Z\" pointer-events=\"none\"/><g><g class=\"mark-rule role-axis-grid\" pointer-events=\"none\"><line transform=\"translate(0,-200)\" x2=\"0\" y2=\"200\" stroke=\"#ddd\" stroke-width=\"1\" opacity=\"1\"/><line transform=\"translate(42,-200)\" x2=\"0\" y2=\"200\" stroke=\"#ddd\" stroke-width=\"1\" opacity=\"1\"/><line transform=\"translate(83,-200)\" x2=\"0\" y2=\"200\" stroke=\"#ddd\" stroke-width=\"1\" opacity=\"1\"/><line transform=\"translate(125,-200)\" x2=\"0\" y2=\"200\" stroke=\"#ddd\" stroke-width=\"1\" opacity=\"1\"/><line transform=\"translate(167,-200)\" x2=\"0\" y2=\"200\" stroke=\"#ddd\" stroke-width=\"1\" opacity=\"1\"/></g></g><path class=\"foreground\" aria-hidden=\"true\" d=\"\" pointer-events=\"none\" display=\"none\"/></g></g><g class=\"mark-group role-axis\" aria-hidden=\"true\"><g transform=\"translate(0.5,0.5)\"><path class=\"background\" aria-hidden=\"true\" d=\"M0,0h0v0h0Z\" pointer-events=\"none\"/><g><g class=\"mark-rule role-axis-grid\" pointer-events=\"none\"><line transform=\"translate(0,200)\" x2=\"200\" y2=\"0\" stroke=\"#ddd\" stroke-width=\"1\" opacity=\"1\"/><line transform=\"translate(0,171)\" x2=\"200\" y2=\"0\" stroke=\"#ddd\" stroke-width=\"1\" opacity=\"1\"/><line transform=\"translate(0,143)\" x2=\"200\" y2=\"0\" stroke=\"#ddd\" stroke-width=\"1\" opacity=\"1\"/><line transform=\"translate(0,114)\" x2=\"200\" y2=\"0\" stroke=\"#ddd\" stroke-width=\"1\" opacity=\"1\"/><line transform=\"translate(0,86)\" x2=\"200\" y2=\"0\" stroke=\"#ddd\" stroke-width=\"1\" opacity=\"1\"/><line transform=\"translate(0,57)\" x2=\"200\" y2=\"0\" stroke=\"#ddd\" stroke-width=\"1\" opacity=\"1\"/><line transform=\"translate(0,29)\" x2=\"200\" y2=\"0\" stroke=\"#ddd\" stroke-width=\"1\" opacity=\"1\"/><line transform=\"translate(0,0)\" x2=\"200\" y2=\"0\" stroke=\"#ddd\" stroke-width=\"1\" opacity=\"1\"/></g></g><path class=\"foreground\" aria-hidden=\"true\" d=\"\" pointer-events=\"none\" display=\"none\"/></g></g><g class=\"mark-group role-axis\" role=\"graphics-symbol\" aria-roledescription=\"axis\" aria-label=\"X-axis titled 'hour' for a linear scale with values from 0 to 24\"><g transform=\"translate(0.5,200.5)\"><path class=\"background\" aria-hidden=\"true\" d=\"M0,0h0v0h0Z\" pointer-events=\"none\"/><g><g class=\"mark-rule role-axis-tick\" pointer-events=\"none\"><line transform=\"translate(0,0)\" x2=\"0\" y2=\"5\" stroke=\"#888\" stroke-width=\"1\" opacity=\"1\"/><line transform=\"translate(42,0)\" x2=\"0\" y2=\"5\" stroke=\"#888\" stroke-width=\"1\" opacity=\"1\"/><line transform=\"translate(83,0)\" x2=\"0\" y2=\"5\" stroke=\"#888\" stroke-width=\"1\" opacity=\"1\"/><line transform=\"translate(125,0)\" x2=\"0\" y2=\"5\" stroke=\"#888\" stroke-width=\"1\" opacity=\"1\"/><line transform=\"translate(167,0)\" x2=\"0\" y2=\"5\" stroke=\"#888\" stroke-width=\"1\" opacity=\"1\"/></g><g class=\"mark-text role-axis-label\" pointer-events=\"none\"><text text-anchor=\"start\" transform=\"translate(0,15)\" font-family=\"sans-serif\" font-size=\"10px\" fill=\"#000\" opacity=\"1\">0</text><text text-anchor=\"middle\" transform=\"translate(41.66666666666667,15)\" font-family=\"sans-serif\" font-size=\"10px\" fill=\"#000\" opacity=\"1\">5</text><text text-anchor=\"middle\" transform=\"translate(83.33333333333334,15)\" font-family=\"sans-serif\" font-size=\"10px\" fill=\"#000\" opacity=\"1\">10</text><text text-anchor=\"middle\" transform=\"translate(125,15)\" font-family=\"sans-serif\" font-size=\"10px\" fill=\"#000\" opacity=\"1\">15</text><text text-anchor=\"middle\" transform=\"translate(166.66666666666669,15)\" font-family=\"sans-serif\" font-size=\"10px\" fill=\"#000\" opacity=\"1\">20</text></g><g class=\"mark-rule role-axis-domain\" pointer-events=\"none\"><line transform=\"translate(0,0)\" x2=\"200\" y2=\"0\" stroke=\"#888\" stroke-width=\"1\" opacity=\"1\"/></g><g class=\"mark-text role-axis-title\" pointer-events=\"none\"><text text-anchor=\"middle\" transform=\"translate(100,30)\" font-family=\"sans-serif\" font-size=\"11px\" font-weight=\"bold\" fill=\"#000\" opacity=\"1\">hour</text></g></g><path class=\"foreground\" aria-hidden=\"true\" d=\"\" pointer-events=\"none\" display=\"none\"/></g></g><g class=\"mark-group role-axis\" role=\"graphics-symbol\" aria-roledescription=\"axis\" aria-label=\"Y-axis titled 'gen_sum' for a linear scale with values from 0 to 3,500\"><g transform=\"translate(0.5,0.5)\"><path class=\"background\" aria-hidden=\"true\" d=\"M0,0h0v0h0Z\" pointer-events=\"none\"/><g><g class=\"mark-rule role-axis-tick\" pointer-events=\"none\"><line transform=\"translate(0,200)\" x2=\"-5\" y2=\"0\" stroke=\"#888\" stroke-width=\"1\" opacity=\"1\"/><line transform=\"translate(0,171)\" x2=\"-5\" y2=\"0\" stroke=\"#888\" stroke-width=\"1\" opacity=\"1\"/><line transform=\"translate(0,143)\" x2=\"-5\" y2=\"0\" stroke=\"#888\" stroke-width=\"1\" opacity=\"1\"/><line transform=\"translate(0,114)\" x2=\"-5\" y2=\"0\" stroke=\"#888\" stroke-width=\"1\" opacity=\"1\"/><line transform=\"translate(0,86)\" x2=\"-5\" y2=\"0\" stroke=\"#888\" stroke-width=\"1\" opacity=\"1\"/><line transform=\"translate(0,57)\" x2=\"-5\" y2=\"0\" stroke=\"#888\" stroke-width=\"1\" opacity=\"1\"/><line transform=\"translate(0,29)\" x2=\"-5\" y2=\"0\" stroke=\"#888\" stroke-width=\"1\" opacity=\"1\"/><line transform=\"translate(0,0)\" x2=\"-5\" y2=\"0\" stroke=\"#888\" stroke-width=\"1\" opacity=\"1\"/></g><g class=\"mark-text role-axis-label\" pointer-events=\"none\"><text text-anchor=\"end\" transform=\"translate(-7,203)\" font-family=\"sans-serif\" font-size=\"10px\" fill=\"#000\" opacity=\"1\">0</text><text text-anchor=\"end\" transform=\"translate(-7,174.42857142857144)\" font-family=\"sans-serif\" font-size=\"10px\" fill=\"#000\" opacity=\"1\">500</text><text text-anchor=\"end\" transform=\"translate(-7,145.85714285714286)\" font-family=\"sans-serif\" font-size=\"10px\" fill=\"#000\" opacity=\"1\">1,000</text><text text-anchor=\"end\" transform=\"translate(-7,117.28571428571428)\" font-family=\"sans-serif\" font-size=\"10px\" fill=\"#000\" opacity=\"1\">1,500</text><text text-anchor=\"end\" transform=\"translate(-7,88.71428571428572)\" font-family=\"sans-serif\" font-size=\"10px\" fill=\"#000\" opacity=\"1\">2,000</text><text text-anchor=\"end\" transform=\"translate(-7,60.14285714285714)\" font-family=\"sans-serif\" font-size=\"10px\" fill=\"#000\" opacity=\"1\">2,500</text><text text-anchor=\"end\" transform=\"translate(-7,31.57142857142858)\" font-family=\"sans-serif\" font-size=\"10px\" fill=\"#000\" opacity=\"1\">3,000</text><text text-anchor=\"end\" transform=\"translate(-7,3)\" font-family=\"sans-serif\" font-size=\"10px\" fill=\"#000\" opacity=\"1\">3,500</text></g><g class=\"mark-rule role-axis-domain\" pointer-events=\"none\"><line transform=\"translate(0,200)\" x2=\"0\" y2=\"-200\" stroke=\"#888\" stroke-width=\"1\" opacity=\"1\"/></g><g class=\"mark-text role-axis-title\" pointer-events=\"none\"><text text-anchor=\"middle\" transform=\"translate(-38,100) rotate(-90) translate(0,-2)\" font-family=\"sans-serif\" font-size=\"11px\" font-weight=\"bold\" fill=\"#000\" opacity=\"1\">gen_sum</text></g></g><path class=\"foreground\" aria-hidden=\"true\" d=\"\" pointer-events=\"none\" display=\"none\"/></g></g><g class=\"mark-group role-scope pathgroup\" role=\"graphics-object\" aria-roledescription=\"group mark container\"><g transform=\"translate(0,0)\"><path class=\"background\" aria-hidden=\"true\" d=\"M0,0h200v200h-200Z\"/><g><g class=\"mark-area role-mark marks\" role=\"graphics-object\" aria-roledescription=\"area mark container\"><path aria-label=\"hour: 0; gen_sum: 21.4; resource: biomass\" role=\"graphics-symbol\" aria-roledescription=\"area mark\" d=\"M0,117.22821325714285L8.333333333333332,121.14161211428569L16.666666666666664,120.01687611428571L25,116.67073668571429L33.33333333333333,105.7578406857143L41.66666666666667,95.22067954285714L50,85.53798697142858L58.333333333333336,98.82333554285714L66.66666666666666,143.0937766857143L75,150.0969081142857L83.33333333333334,148.74448754285714L91.66666666666666,158.91114354285713L100,173.6548457142857L108.33333333333333,173.6548457142857L116.66666666666667,173.6548457142857L125,173.6548457142857L133.33333333333331,158.60972640000003L141.66666666666669,133.7373606857143L150,76.84289211428568L158.33333333333331,60.77790925714284L166.66666666666669,61.091527542857115L175,76.64191840000001L183.33333333333331,93.80880297142858L191.66666666666669,107.86320297142855L191.66666666666669,109.0860601142857L183.33333333333331,95.03166011428573L175,77.86477554285716L166.66666666666669,62.314384685714266L158.33333333333331,62.00076639999998L150,78.06574925714283L141.66666666666669,134.96021782857144L133.33333333333331,159.83258354285715L125,173.6548457142857L116.66666666666667,173.6548457142857L108.33333333333333,173.6548457142857L100,173.6548457142857L91.66666666666666,160.13400068571428L83.33333333333334,149.9673446857143L75,151.31976525714285L66.66666666666666,144.31663382857144L58.333333333333336,100.0461926857143L50,86.76084411428573L41.66666666666667,96.44353668571428L33.33333333333333,106.98069782857145L25,117.89359382857143L16.666666666666664,121.23973325714286L8.333333333333332,122.36446925714284L0,118.4510704Z\" fill=\"#8c564b\"/></g></g><path class=\"foreground\" aria-hidden=\"true\" d=\"\" display=\"none\"/></g><g transform=\"translate(0,0)\"><path class=\"background\" aria-hidden=\"true\" d=\"M0,0h200v200h-200Z\"/><g><g class=\"mark-area role-mark marks\" role=\"graphics-object\" aria-roledescription=\"area mark container\"><path aria-label=\"hour: 0; gen_sum: 42; resource: hydroelectric_pumped_storage\" role=\"graphics-symbol\" aria-roledescription=\"area mark\" d=\"M0,118.4510704L8.333333333333332,122.36446925714284L16.666666666666664,121.23973325714286L25,117.89359382857143L33.33333333333333,106.98069782857145L41.66666666666667,96.44353668571428L50,86.76084411428573L58.333333333333336,100.0461926857143L66.66666666666666,144.31663382857144L75,151.31976525714285L83.33333333333334,149.9673446857143L91.66666666666666,160.13400068571428L100,173.6548457142857L108.33333333333333,173.6548457142857L116.66666666666667,173.6548457142857L125,173.6548457142857L133.33333333333331,159.83258354285715L141.66666666666669,134.96021782857144L150,78.06574925714283L158.33333333333331,62.00076639999998L166.66666666666669,62.314384685714266L175,77.86477554285716L183.33333333333331,95.03166011428573L191.66666666666669,109.0860601142857L191.66666666666669,111.4860601142857L183.33333333333331,97.43166011428572L175,80.26477554285717L166.66666666666669,64.71438468571426L158.33333333333331,64.40076639999998L150,80.46574925714283L141.66666666666669,137.36021782857142L133.33333333333331,162.23258354285716L125,173.6548457142857L116.66666666666667,173.6548457142857L108.33333333333333,173.6548457142857L100,173.6548457142857L91.66666666666666,162.5340006857143L83.33333333333334,152.3673446857143L75,153.71976525714285L66.66666666666666,146.71663382857142L58.333333333333336,102.44619268571431L50,89.16084411428574L41.66666666666667,98.84353668571428L33.33333333333333,109.38069782857144L25,120.2935938285714L16.666666666666664,123.63973325714286L8.333333333333332,124.76446925714284L0,120.8510704Z\" fill=\"#e377c2\"/></g></g><path class=\"foreground\" aria-hidden=\"true\" d=\"\" display=\"none\"/></g><g transform=\"translate(0,0)\"><path class=\"background\" aria-hidden=\"true\" d=\"M0,0h200v200h-200Z\"/><g><g class=\"mark-area role-mark marks\" role=\"graphics-object\" aria-roledescription=\"area mark container\"><path aria-label=\"hour: 0; gen_sum: 1385.106268; resource: natural_gas_fired_combined_cycle\" role=\"graphics-symbol\" aria-roledescription=\"area mark\" d=\"M0,120.8510704L8.333333333333332,124.76446925714284L16.666666666666664,123.63973325714286L25,120.2935938285714L33.33333333333333,109.38069782857144L41.66666666666667,98.84353668571428L50,89.16084411428574L58.333333333333336,102.44619268571431L66.66666666666666,146.71663382857142L75,153.71976525714285L83.33333333333334,152.3673446857143L91.66666666666666,162.5340006857143L100,173.6548457142857L108.33333333333333,173.6548457142857L116.66666666666667,173.6548457142857L125,173.6548457142857L133.33333333333331,162.23258354285716L141.66666666666669,137.36021782857142L150,80.46574925714283L158.33333333333331,64.40076639999998L166.66666666666669,64.71438468571426L175,80.26477554285717L183.33333333333331,97.43166011428572L191.66666666666669,111.4860601142857L191.66666666666669,200L183.33333333333331,188.4316601142857L175,171.26477554285714L166.66666666666669,155.71438468571426L158.33333333333331,155.40076639999998L150,171.46574925714285L141.66666666666669,200L133.33333333333331,200L125,200L116.66666666666667,200L108.33333333333333,200L100,200L91.66666666666666,200L83.33333333333334,200L75,200L66.66666666666666,200L58.333333333333336,198.0921142857143L50,198.0921142857143L41.66666666666667,200L33.33333333333333,200L25,200L16.666666666666664,200L8.333333333333332,200L0,200Z\" fill=\"#7f7f7f\"/></g></g><path class=\"foreground\" aria-hidden=\"true\" d=\"\" display=\"none\"/></g><g transform=\"translate(0,0)\"><path class=\"background\" aria-hidden=\"true\" d=\"M0,0h200v200h-200Z\"/><g><g class=\"mark-area role-mark marks\" role=\"graphics-object\" aria-roledescription=\"area mark container\"><path aria-label=\"hour: 0; gen_sum: 0; resource: natural_gas_fired_combustion_turbine\" role=\"graphics-symbol\" aria-roledescription=\"area mark\" d=\"M0,200L8.333333333333332,200L16.666666666666664,200L25,200L33.33333333333333,200L41.66666666666667,200L50,198.0921142857143L58.333333333333336,198.0921142857143L66.66666666666666,200L75,200L83.33333333333334,200L91.66666666666666,200L100,200L108.33333333333333,200L116.66666666666667,200L125,200L133.33333333333331,200L141.66666666666669,200L150,171.46574925714285L158.33333333333331,155.40076639999998L166.66666666666669,155.71438468571426L175,171.26477554285714L183.33333333333331,188.4316601142857L191.66666666666669,200L191.66666666666669,200L183.33333333333331,200L175,200L166.66666666666669,200L158.33333333333331,200L150,200L141.66666666666669,200L133.33333333333331,200L125,200L116.66666666666667,200L108.33333333333333,200L100,200L91.66666666666666,200L83.33333333333334,200L75,200L66.66666666666666,200L58.333333333333336,200L50,200L41.66666666666667,200L33.33333333333333,200L25,200L16.666666666666664,200L8.333333333333332,200L0,200Z\" fill=\"#bcbd22\"/></g></g><path class=\"foreground\" aria-hidden=\"true\" d=\"\" display=\"none\"/></g><g transform=\"translate(0,0)\"><path class=\"background\" aria-hidden=\"true\" d=\"M0,0h200v200h-200Z\"/><g><g class=\"mark-area role-mark marks\" role=\"graphics-object\" aria-roledescription=\"area mark container\"><path aria-label=\"hour: 0; gen_sum: 163.3088; resource: _onshore_wind_turbine\" role=\"graphics-symbol\" aria-roledescription=\"area mark\" d=\"M0,107.71428571428572L8.333333333333332,111.25714285714285L16.666666666666664,113.25714285714285L25,110.74285714285715L33.33333333333333,100.97142857142858L41.66666666666667,87.08571428571427L50,68.16114285714288L58.333333333333336,44.01942857142858L66.66666666666666,21.453714285714298L75,7.518857142857138L83.33333333333334,0.7234285714285305L91.66666666666666,9.63771428571427L100,21.156571428571414L108.33333333333333,25.525714285714287L116.66666666666667,31.288000000000004L125,38.64571428571426L133.33333333333331,45.561142857142855L141.66666666666669,53.248000000000005L150,62.47885714285712L158.33333333333331,57.08571428571425L166.66666666666669,56.79999999999998L175,70.97142857142858L183.33333333333331,86.4L191.66666666666669,99.42857142857142L191.66666666666669,107.68120685714284L183.33333333333331,93.62680685714287L175,76.45992228571427L166.66666666666669,60.909531428571405L158.33333333333331,60.59591314285713L150,65.4854674285714L141.66666666666669,57.74050742857144L133.33333333333331,48.828873142857155L125,40.0471353142857L116.66666666666667,31.288000000000004L108.33333333333333,25.525714285714287L100,22.452278171428564L91.66666666666666,14.901147428571427L83.33333333333334,7.077348571428543L75,15.036626285714272L66.66666666666666,31.01692342857143L58.333333333333336,46.84076800000001L50,72.39999085714285L41.66666666666667,95.03868342857143L33.33333333333333,105.57584457142859L25,116.48874057142858L16.666666666666664,119.83488L8.333333333333332,120.95961599999998L0,117.04621714285715Z\" fill=\"#ff7f0e\"/></g></g><path class=\"foreground\" aria-hidden=\"true\" d=\"\" display=\"none\"/></g><g transform=\"translate(0,0)\"><path class=\"background\" aria-hidden=\"true\" d=\"M0,0h200v200h-200Z\"/><g><g class=\"mark-area role-mark marks\" role=\"graphics-object\" aria-roledescription=\"area mark container\"><path aria-label=\"hour: 0; gen_sum: 3.184932; resource: _small_hydroelectric\" role=\"graphics-symbol\" aria-roledescription=\"area mark\" d=\"M0,117.04621714285715L8.333333333333332,120.95961599999998L16.666666666666664,119.83488L25,116.48874057142858L33.33333333333333,105.57584457142859L41.66666666666667,95.03868342857143L50,72.39999085714285L58.333333333333336,46.84076800000001L66.66666666666666,31.01692342857143L75,15.036626285714272L83.33333333333334,7.077348571428543L91.66666666666666,14.901147428571427L100,22.452278171428564L108.33333333333333,25.525714285714287L116.66666666666667,31.288000000000004L125,40.0471353142857L133.33333333333331,48.828873142857155L141.66666666666669,57.74050742857144L150,65.4854674285714L158.33333333333331,60.59591314285713L166.66666666666669,60.909531428571405L175,76.45992228571427L183.33333333333331,93.62680685714287L191.66666666666669,107.68120685714284L191.66666666666669,107.86320297142855L183.33333333333331,93.80880297142858L175,76.64191840000001L166.66666666666669,61.091527542857115L158.33333333333331,60.77790925714284L150,65.66746354285713L141.66666666666669,57.92250354285715L133.33333333333331,49.010869257142886L125,40.22913142857141L116.66666666666667,31.288000000000004L108.33333333333333,25.525714285714287L100,22.634274285714273L91.66666666666666,15.083143542857137L83.33333333333334,7.259344685714253L75,15.218622399999981L66.66666666666666,31.19891954285714L58.333333333333336,47.02276411428572L50,72.58198697142856L41.66666666666667,95.22067954285714L33.33333333333333,105.7578406857143L25,116.67073668571429L16.666666666666664,120.01687611428571L8.333333333333332,121.14161211428569L0,117.22821325714285Z\" fill=\"#2ca02c\"/></g></g><path class=\"foreground\" aria-hidden=\"true\" d=\"\" display=\"none\"/></g><g transform=\"translate(0,0)\"><path class=\"background\" aria-hidden=\"true\" d=\"M0,0h200v200h-200Z\"/><g><g class=\"mark-area role-mark marks\" role=\"graphics-object\" aria-roledescription=\"area mark container\"><path aria-label=\"hour: 0; gen_sum: 0; resource: _solar_photovoltaic\" role=\"graphics-symbol\" aria-roledescription=\"area mark\" d=\"M0,117.22821325714285L8.333333333333332,121.14161211428569L16.666666666666664,120.01687611428571L25,116.67073668571429L33.33333333333333,105.7578406857143L41.66666666666667,95.22067954285714L50,72.58198697142856L58.333333333333336,47.02276411428572L66.66666666666666,31.19891954285714L75,15.218622399999981L83.33333333333334,7.259344685714253L91.66666666666666,15.083143542857137L100,22.634274285714273L108.33333333333333,25.525714285714287L116.66666666666667,31.288000000000004L125,40.22913142857141L133.33333333333331,49.010869257142886L141.66666666666669,57.92250354285715L150,65.66746354285713L158.33333333333331,60.77790925714284L166.66666666666669,61.091527542857115L175,76.64191840000001L183.33333333333331,93.80880297142858L191.66666666666669,107.86320297142855L191.66666666666669,107.86320297142855L183.33333333333331,93.80880297142858L175,76.64191840000001L166.66666666666669,61.091527542857115L158.33333333333331,60.77790925714284L150,75.20746354285713L141.66666666666669,122.64250354285716L133.33333333333331,142.57086925714287L125,154.12913142857144L116.66666666666667,152.25713142857143L108.33333333333333,151.52341714285714L100,151.55427428571429L91.66666666666666,137.86314354285713L83.33333333333334,128.0393446857143L75,130.3586224L66.66666666666666,126.71891954285715L58.333333333333336,91.2427641142857L50,83.64198697142857L41.66666666666667,95.22067954285714L33.33333333333333,105.7578406857143L25,116.67073668571429L16.666666666666664,120.01687611428571L8.333333333333332,121.14161211428569L0,117.22821325714285Z\" fill=\"#d62728\"/></g></g><path class=\"foreground\" aria-hidden=\"true\" d=\"\" display=\"none\"/></g><g transform=\"translate(0,0)\"><path class=\"background\" aria-hidden=\"true\" d=\"M0,0h200v200h-200Z\"/><g><g class=\"mark-area role-mark marks\" role=\"graphics-object\" aria-roledescription=\"area mark container\"><path aria-label=\"hour: 0; gen_sum: 0; resource: _solar_photovoltaic_btm\" role=\"graphics-symbol\" aria-roledescription=\"area mark\" d=\"M0,117.22821325714285L8.333333333333332,121.14161211428569L16.666666666666664,120.01687611428571L25,116.67073668571429L33.33333333333333,105.7578406857143L41.66666666666667,95.22067954285714L50,83.64198697142857L58.333333333333336,91.2427641142857L66.66666666666666,126.71891954285715L75,130.3586224L83.33333333333334,128.0393446857143L91.66666666666666,137.86314354285713L100,151.55427428571429L108.33333333333333,151.52341714285714L116.66666666666667,152.25713142857143L125,154.12913142857144L133.33333333333331,142.57086925714287L141.66666666666669,122.64250354285716L150,75.20746354285713L158.33333333333331,60.77790925714284L166.66666666666669,61.091527542857115L175,76.64191840000001L183.33333333333331,93.80880297142858L191.66666666666669,107.86320297142855L191.66666666666669,107.86320297142855L183.33333333333331,93.80880297142858L175,76.64191840000001L166.66666666666669,61.091527542857115L158.33333333333331,60.77790925714284L150,76.84289211428568L141.66666666666669,133.7373606857143L133.33333333333331,158.60972640000003L125,173.6548457142857L116.66666666666667,173.6548457142857L108.33333333333333,173.6548457142857L100,173.6548457142857L91.66666666666666,158.91114354285713L83.33333333333334,148.74448754285714L75,150.0969081142857L66.66666666666666,143.0937766857143L58.333333333333336,98.82333554285714L50,85.53798697142858L41.66666666666667,95.22067954285714L33.33333333333333,105.7578406857143L25,116.67073668571429L16.666666666666664,120.01687611428571L8.333333333333332,121.14161211428569L0,117.22821325714285Z\" fill=\"#9467bd\"/></g></g><path class=\"foreground\" aria-hidden=\"true\" d=\"\" display=\"none\"/></g><g transform=\"translate(0,0)\"><path class=\"background\" aria-hidden=\"true\" d=\"M0,0h200v200h-200Z\"/><g><g class=\"mark-area role-mark marks\" role=\"graphics-object\" aria-roledescription=\"area mark container\"><path aria-label=\"hour: 0; gen_sum: 0; resource: _curtailment\" role=\"graphics-symbol\" aria-roledescription=\"area mark\" d=\"M0,107.71428571428572L8.333333333333332,111.25714285714285L16.666666666666664,113.25714285714285L25,110.74285714285715L33.33333333333333,100.97142857142858L41.66666666666667,87.08571428571427L50,68.16114285714288L58.333333333333336,44.01942857142858L66.66666666666666,21.453714285714298L75,7.518857142857138L83.33333333333334,0.7234285714285305L91.66666666666666,9.63771428571427L100,19.475510171428567L108.33333333333333,18.544707885714296L116.66666666666667,24.442499885714298L125,36.30938902857142L133.33333333333331,45.561142857142855L141.66666666666669,53.248000000000005L150,62.47885714285712L158.33333333333331,57.08571428571425L166.66666666666669,56.79999999999998L175,70.97142857142858L183.33333333333331,86.4L191.66666666666669,99.42857142857142L191.66666666666669,99.42857142857142L183.33333333333331,86.4L175,70.97142857142858L166.66666666666669,56.79999999999998L158.33333333333331,57.08571428571425L150,62.47885714285712L141.66666666666669,53.248000000000005L133.33333333333331,45.561142857142855L125,38.64571428571426L116.66666666666667,31.288000000000004L108.33333333333333,25.525714285714287L100,21.156571428571414L91.66666666666666,9.63771428571427L83.33333333333334,0.7234285714285305L75,7.518857142857138L66.66666666666666,21.453714285714298L58.333333333333336,44.01942857142858L50,68.16114285714288L41.66666666666667,87.08571428571427L33.33333333333333,100.97142857142858L25,110.74285714285715L16.666666666666664,113.25714285714285L8.333333333333332,111.25714285714285L0,107.71428571428572Z\" fill=\"#1f77b4\"/></g></g><path class=\"foreground\" aria-hidden=\"true\" d=\"\" display=\"none\"/></g></g><g class=\"mark-group role-legend\" role=\"graphics-symbol\" aria-roledescription=\"legend\" aria-label=\"Symbol legend titled 'resource' for fill color with 9 values: _curtailment, _onshore_wind_turbine, _small_hydroelectric, _solar_photovoltaic, _solar_photovoltaic_btm, ending with natural_gas_fired_combustion_turbine\"><g transform=\"translate(218,0)\"><path class=\"background\" aria-hidden=\"true\" d=\"M0,0h175v131h-175Z\" pointer-events=\"none\"/><g><g class=\"mark-group role-legend-entry\"><g transform=\"translate(0,16)\"><path class=\"background\" aria-hidden=\"true\" d=\"M0,0h0v0h0Z\" pointer-events=\"none\"/><g><g class=\"mark-group role-scope\" role=\"graphics-object\" aria-roledescription=\"group mark container\"><g transform=\"translate(0,0)\"><path class=\"background\" aria-hidden=\"true\" d=\"M0,0h175v11h-175Z\" pointer-events=\"none\" opacity=\"1\"/><g><g class=\"mark-symbol role-legend-symbol\" pointer-events=\"none\"><path transform=\"translate(6,6)\" d=\"M5,0A5,5,0,1,1,-5,0A5,5,0,1,1,5,0\" fill=\"#1f77b4\" stroke-width=\"1.5\" opacity=\"1\"/></g><g class=\"mark-text role-legend-label\" pointer-events=\"none\"><text text-anchor=\"start\" transform=\"translate(16,9)\" font-family=\"sans-serif\" font-size=\"10px\" fill=\"#000\" opacity=\"1\">_curtailment</text></g></g><path class=\"foreground\" aria-hidden=\"true\" d=\"\" pointer-events=\"none\" display=\"none\"/></g><g transform=\"translate(0,13)\"><path class=\"background\" aria-hidden=\"true\" d=\"M0,0h175v11h-175Z\" pointer-events=\"none\" opacity=\"1\"/><g><g class=\"mark-symbol role-legend-symbol\" pointer-events=\"none\"><path transform=\"translate(6,6)\" d=\"M5,0A5,5,0,1,1,-5,0A5,5,0,1,1,5,0\" fill=\"#ff7f0e\" stroke-width=\"1.5\" opacity=\"1\"/></g><g class=\"mark-text role-legend-label\" pointer-events=\"none\"><text text-anchor=\"start\" transform=\"translate(16,9)\" font-family=\"sans-serif\" font-size=\"10px\" fill=\"#000\" opacity=\"1\">_onshore_wind_turbine</text></g></g><path class=\"foreground\" aria-hidden=\"true\" d=\"\" pointer-events=\"none\" display=\"none\"/></g><g transform=\"translate(0,26)\"><path class=\"background\" aria-hidden=\"true\" d=\"M0,0h175v11h-175Z\" pointer-events=\"none\" opacity=\"1\"/><g><g class=\"mark-symbol role-legend-symbol\" pointer-events=\"none\"><path transform=\"translate(6,6)\" d=\"M5,0A5,5,0,1,1,-5,0A5,5,0,1,1,5,0\" fill=\"#2ca02c\" stroke-width=\"1.5\" opacity=\"1\"/></g><g class=\"mark-text role-legend-label\" pointer-events=\"none\"><text text-anchor=\"start\" transform=\"translate(16,9)\" font-family=\"sans-serif\" font-size=\"10px\" fill=\"#000\" opacity=\"1\">_small_hydroelectric</text></g></g><path class=\"foreground\" aria-hidden=\"true\" d=\"\" pointer-events=\"none\" display=\"none\"/></g><g transform=\"translate(0,39)\"><path class=\"background\" aria-hidden=\"true\" d=\"M0,0h175v11h-175Z\" pointer-events=\"none\" opacity=\"1\"/><g><g class=\"mark-symbol role-legend-symbol\" pointer-events=\"none\"><path transform=\"translate(6,6)\" d=\"M5,0A5,5,0,1,1,-5,0A5,5,0,1,1,5,0\" fill=\"#d62728\" stroke-width=\"1.5\" opacity=\"1\"/></g><g class=\"mark-text role-legend-label\" pointer-events=\"none\"><text text-anchor=\"start\" transform=\"translate(16,9)\" font-family=\"sans-serif\" font-size=\"10px\" fill=\"#000\" opacity=\"1\">_solar_photovoltaic</text></g></g><path class=\"foreground\" aria-hidden=\"true\" d=\"\" pointer-events=\"none\" display=\"none\"/></g><g transform=\"translate(0,52)\"><path class=\"background\" aria-hidden=\"true\" d=\"M0,0h175v11h-175Z\" pointer-events=\"none\" opacity=\"1\"/><g><g class=\"mark-symbol role-legend-symbol\" pointer-events=\"none\"><path transform=\"translate(6,6)\" d=\"M5,0A5,5,0,1,1,-5,0A5,5,0,1,1,5,0\" fill=\"#9467bd\" stroke-width=\"1.5\" opacity=\"1\"/></g><g class=\"mark-text role-legend-label\" pointer-events=\"none\"><text text-anchor=\"start\" transform=\"translate(16,9)\" font-family=\"sans-serif\" font-size=\"10px\" fill=\"#000\" opacity=\"1\">_solar_photovoltaic_btm</text></g></g><path class=\"foreground\" aria-hidden=\"true\" d=\"\" pointer-events=\"none\" display=\"none\"/></g><g transform=\"translate(0,65)\"><path class=\"background\" aria-hidden=\"true\" d=\"M0,0h175v11h-175Z\" pointer-events=\"none\" opacity=\"1\"/><g><g class=\"mark-symbol role-legend-symbol\" pointer-events=\"none\"><path transform=\"translate(6,6)\" d=\"M5,0A5,5,0,1,1,-5,0A5,5,0,1,1,5,0\" fill=\"#8c564b\" stroke-width=\"1.5\" opacity=\"1\"/></g><g class=\"mark-text role-legend-label\" pointer-events=\"none\"><text text-anchor=\"start\" transform=\"translate(16,9)\" font-family=\"sans-serif\" font-size=\"10px\" fill=\"#000\" opacity=\"1\">biomass</text></g></g><path class=\"foreground\" aria-hidden=\"true\" d=\"\" pointer-events=\"none\" display=\"none\"/></g><g transform=\"translate(0,78)\"><path class=\"background\" aria-hidden=\"true\" d=\"M0,0h175v11h-175Z\" pointer-events=\"none\" opacity=\"1\"/><g><g class=\"mark-symbol role-legend-symbol\" pointer-events=\"none\"><path transform=\"translate(6,6)\" d=\"M5,0A5,5,0,1,1,-5,0A5,5,0,1,1,5,0\" fill=\"#e377c2\" stroke-width=\"1.5\" opacity=\"1\"/></g><g class=\"mark-text role-legend-label\" pointer-events=\"none\"><text text-anchor=\"start\" transform=\"translate(16,9)\" font-family=\"sans-serif\" font-size=\"10px\" fill=\"#000\" opacity=\"1\">hydroelectric_pumped_storage</text></g></g><path class=\"foreground\" aria-hidden=\"true\" d=\"\" pointer-events=\"none\" display=\"none\"/></g><g transform=\"translate(0,91)\"><path class=\"background\" aria-hidden=\"true\" d=\"M0,0h175v11h-175Z\" pointer-events=\"none\" opacity=\"1\"/><g><g class=\"mark-symbol role-legend-symbol\" pointer-events=\"none\"><path transform=\"translate(6,6)\" d=\"M5,0A5,5,0,1,1,-5,0A5,5,0,1,1,5,0\" fill=\"#7f7f7f\" stroke-width=\"1.5\" opacity=\"1\"/></g><g class=\"mark-text role-legend-label\" pointer-events=\"none\"><text text-anchor=\"start\" transform=\"translate(16,9)\" font-family=\"sans-serif\" font-size=\"10px\" fill=\"#000\" opacity=\"1\">natural_gas_fired_combined_cy…</text></g></g><path class=\"foreground\" aria-hidden=\"true\" d=\"\" pointer-events=\"none\" display=\"none\"/></g><g transform=\"translate(0,104)\"><path class=\"background\" aria-hidden=\"true\" d=\"M0,0h175v11h-175Z\" pointer-events=\"none\" opacity=\"1\"/><g><g class=\"mark-symbol role-legend-symbol\" pointer-events=\"none\"><path transform=\"translate(6,6)\" d=\"M5,0A5,5,0,1,1,-5,0A5,5,0,1,1,5,0\" fill=\"#bcbd22\" stroke-width=\"1.5\" opacity=\"1\"/></g><g class=\"mark-text role-legend-label\" pointer-events=\"none\"><text text-anchor=\"start\" transform=\"translate(16,9)\" font-family=\"sans-serif\" font-size=\"10px\" fill=\"#000\" opacity=\"1\">natural_gas_fired_combustion_t…</text></g></g><path class=\"foreground\" aria-hidden=\"true\" d=\"\" pointer-events=\"none\" display=\"none\"/></g></g></g><path class=\"foreground\" aria-hidden=\"true\" d=\"\" pointer-events=\"none\" display=\"none\"/></g></g><g class=\"mark-text role-legend-title\" pointer-events=\"none\"><text text-anchor=\"start\" transform=\"translate(0,9)\" font-family=\"sans-serif\" font-size=\"11px\" font-weight=\"bold\" fill=\"#000\" opacity=\"1\">resource</text></g></g><path class=\"foreground\" aria-hidden=\"true\" d=\"\" pointer-events=\"none\" display=\"none\"/></g></g></g><path class=\"foreground\" aria-hidden=\"true\" d=\"\" display=\"none\"/></g></g></g></svg>\n"
      ],
      "text/plain": [
       "@vlplot(\n",
       "    mark=\"area\",\n",
       "    encoding={\n",
       "        x={\n",
       "            field=\"hour\"\n",
       "        },\n",
       "        y={\n",
       "            stack=\"zero\",\n",
       "            field=\"gen_sum\"\n",
       "        },\n",
       "        color={\n",
       "            scale={\n",
       "                scheme=\"category10\"\n",
       "            },\n",
       "            field=\"resource\",\n",
       "            type=\"nominal\"\n",
       "        }\n",
       "    },\n",
       "    data={\n",
       "        values=...\n",
       "    }\n",
       ")"
      ]
     },
     "execution_count": 26,
     "metadata": {},
     "output_type": "execute_result"
    }
   ],
   "source": [
    "# Add in BTM solar and curtailment and plot results\n",
    "\n",
    "sol_gen = innerjoin(solution.gen, \n",
    "                    gen_df[!, [:r_id, :resource]], \n",
    "                    on = :r_id)\n",
    "sol_gen = combine(groupby(sol_gen, [:resource, :hour]), \n",
    "            :gen => sum)\n",
    "\n",
    "# Rename generators (for plotting purposes)\n",
    "sol_gen[sol_gen.resource .== \"solar_photovoltaic\", :resource] .= \"_solar_photovoltaic\"\n",
    "sol_gen[sol_gen.resource .== \"onshore_wind_turbine\", :resource] .= \"_onshore_wind_turbine\"\n",
    "sol_gen[sol_gen.resource .== \"small_hydroelectric\", :resource] .= \"_small_hydroelectric\"\n",
    "\n",
    "# BTM solar\n",
    "btm = DataFrame(resource = repeat([\"_solar_photovoltaic_btm\"]; outer=length(T_period)), \n",
    "    hour = T_period,\n",
    "    gen_sum = gen_variable_multi[gen_variable_multi.gen_full .== \"wec_sdge_solar_photovoltaic_1.0\",:cf] * 600)\n",
    "append!(sol_gen, btm)\n",
    "\n",
    "# Curtailment\n",
    "curtail = combine(groupby(solution.curtail, [:hour]),\n",
    "            :curt => sum)\n",
    "curtail[!, :resource] .= \"_curtailment\"\n",
    "rename!(curtail, :curt_sum => :gen_sum)\n",
    "append!(sol_gen, curtail[:,[:resource, :hour, :gen_sum]])\n",
    "\n",
    "# Rescale hours\n",
    "sol_gen.hour = sol_gen.hour .- T_period[1]\n",
    "\n",
    "sol_gen |>\n",
    "@vlplot(:area, \n",
    "    x=:hour, y={:gen_sum, stack=:zero}, \n",
    "    color={\"resource:n\", scale={scheme=\"category10\"}})"
   ]
  },
  {
   "cell_type": "markdown",
   "metadata": {},
   "source": [
    "Notice that the combined cycle plants flatten out during the day, but don't shut down due to the need for ramping capabilities in the late afternoon/evening, when solar output falls off and evening demand remains strong. This leads to some curtailment of solar from 11:00 - 16:00, which was not present in the Economic Dispatch model. All curtailment is lumped together as the model does not accurately distinguish between whether wind, solar or hydro is curtailed, which in practice is up to the system operator and depends on a variety of factors such as location, interconnection voltage, etc."
   ]
  },
  {
   "cell_type": "markdown",
   "metadata": {},
   "source": [
    "We can examine the commitment status of various units by examining the results in `solution.commit`. "
   ]
  },
  {
   "cell_type": "code",
   "execution_count": 27,
   "metadata": {},
   "outputs": [
    {
     "data": {
      "application/vnd.vegalite.v4+json": {
       "data": {
        "values": [
         {
          "gen_sum": 6,
          "hour": 0,
          "resource": "natural_gas_fired_combined_cycle"
         },
         {
          "gen_sum": 0,
          "hour": 0,
          "resource": "natural_gas_fired_combustion_turbine"
         },
         {
          "gen_sum": 6,
          "hour": 1,
          "resource": "natural_gas_fired_combined_cycle"
         },
         {
          "gen_sum": 0,
          "hour": 1,
          "resource": "natural_gas_fired_combustion_turbine"
         },
         {
          "gen_sum": 6,
          "hour": 2,
          "resource": "natural_gas_fired_combined_cycle"
         },
         {
          "gen_sum": 0,
          "hour": 2,
          "resource": "natural_gas_fired_combustion_turbine"
         },
         {
          "gen_sum": 6,
          "hour": 3,
          "resource": "natural_gas_fired_combined_cycle"
         },
         {
          "gen_sum": 0,
          "hour": 3,
          "resource": "natural_gas_fired_combustion_turbine"
         },
         {
          "gen_sum": 6,
          "hour": 4,
          "resource": "natural_gas_fired_combined_cycle"
         },
         {
          "gen_sum": 0,
          "hour": 4,
          "resource": "natural_gas_fired_combustion_turbine"
         },
         {
          "gen_sum": 6,
          "hour": 5,
          "resource": "natural_gas_fired_combined_cycle"
         },
         {
          "gen_sum": 0,
          "hour": 5,
          "resource": "natural_gas_fired_combustion_turbine"
         },
         {
          "gen_sum": 6,
          "hour": 6,
          "resource": "natural_gas_fired_combined_cycle"
         },
         {
          "gen_sum": 1,
          "hour": 6,
          "resource": "natural_gas_fired_combustion_turbine"
         },
         {
          "gen_sum": 6,
          "hour": 7,
          "resource": "natural_gas_fired_combined_cycle"
         },
         {
          "gen_sum": 1,
          "hour": 7,
          "resource": "natural_gas_fired_combustion_turbine"
         },
         {
          "gen_sum": 4,
          "hour": 8,
          "resource": "natural_gas_fired_combined_cycle"
         },
         {
          "gen_sum": 0,
          "hour": 8,
          "resource": "natural_gas_fired_combustion_turbine"
         },
         {
          "gen_sum": 4,
          "hour": 9,
          "resource": "natural_gas_fired_combined_cycle"
         },
         {
          "gen_sum": 0,
          "hour": 9,
          "resource": "natural_gas_fired_combustion_turbine"
         },
         {
          "gen_sum": 4,
          "hour": 10,
          "resource": "natural_gas_fired_combined_cycle"
         },
         {
          "gen_sum": 0,
          "hour": 10,
          "resource": "natural_gas_fired_combustion_turbine"
         },
         {
          "gen_sum": 4,
          "hour": 11,
          "resource": "natural_gas_fired_combined_cycle"
         },
         {
          "gen_sum": 0,
          "hour": 11,
          "resource": "natural_gas_fired_combustion_turbine"
         },
         {
          "gen_sum": 4,
          "hour": 12,
          "resource": "natural_gas_fired_combined_cycle"
         },
         {
          "gen_sum": 0,
          "hour": 12,
          "resource": "natural_gas_fired_combustion_turbine"
         },
         {
          "gen_sum": 4,
          "hour": 13,
          "resource": "natural_gas_fired_combined_cycle"
         },
         {
          "gen_sum": 0,
          "hour": 13,
          "resource": "natural_gas_fired_combustion_turbine"
         },
         {
          "gen_sum": 4,
          "hour": 14,
          "resource": "natural_gas_fired_combined_cycle"
         },
         {
          "gen_sum": 0,
          "hour": 14,
          "resource": "natural_gas_fired_combustion_turbine"
         },
         {
          "gen_sum": 4,
          "hour": 15,
          "resource": "natural_gas_fired_combined_cycle"
         },
         {
          "gen_sum": 0,
          "hour": 15,
          "resource": "natural_gas_fired_combustion_turbine"
         },
         {
          "gen_sum": 4,
          "hour": 16,
          "resource": "natural_gas_fired_combined_cycle"
         },
         {
          "gen_sum": 0,
          "hour": 16,
          "resource": "natural_gas_fired_combustion_turbine"
         },
         {
          "gen_sum": 4,
          "hour": 17,
          "resource": "natural_gas_fired_combined_cycle"
         },
         {
          "gen_sum": 0,
          "hour": 17,
          "resource": "natural_gas_fired_combustion_turbine"
         },
         {
          "gen_sum": 5,
          "hour": 18,
          "resource": "natural_gas_fired_combined_cycle"
         },
         {
          "gen_sum": 8,
          "hour": 18,
          "resource": "natural_gas_fired_combustion_turbine"
         },
         {
          "gen_sum": 5,
          "hour": 19,
          "resource": "natural_gas_fired_combined_cycle"
         },
         {
          "gen_sum": 10,
          "hour": 19,
          "resource": "natural_gas_fired_combustion_turbine"
         },
         {
          "gen_sum": 5,
          "hour": 20,
          "resource": "natural_gas_fired_combined_cycle"
         },
         {
          "gen_sum": 9,
          "hour": 20,
          "resource": "natural_gas_fired_combustion_turbine"
         },
         {
          "gen_sum": 5,
          "hour": 21,
          "resource": "natural_gas_fired_combined_cycle"
         },
         {
          "gen_sum": 6,
          "hour": 21,
          "resource": "natural_gas_fired_combustion_turbine"
         },
         {
          "gen_sum": 5,
          "hour": 22,
          "resource": "natural_gas_fired_combined_cycle"
         },
         {
          "gen_sum": 3,
          "hour": 22,
          "resource": "natural_gas_fired_combustion_turbine"
         },
         {
          "gen_sum": 5,
          "hour": 23,
          "resource": "natural_gas_fired_combined_cycle"
         },
         {
          "gen_sum": 0,
          "hour": 23,
          "resource": "natural_gas_fired_combustion_turbine"
         }
        ]
       },
       "encoding": {
        "color": {
         "field": "resource",
         "scale": {
          "scheme": "category10"
         },
         "type": "nominal"
        },
        "x": {
         "field": "hour",
         "type": "quantitative"
        },
        "y": {
         "field": "gen_sum",
         "stack": "zero",
         "type": "quantitative"
        }
       },
       "mark": "area"
      },
      "image/png": "[encoded data removed]",
      "image/svg+xml": [
       "<?xml version=\"1.0\" encoding=\"utf-8\"?>\n",
       "<!DOCTYPE svg PUBLIC \"-//W3C//DTD SVG 1.1//EN\" \"http://www.w3.org/Graphics/SVG/1.1/DTD/svg11.dtd\">\n",
       "<svg xmlns=\"http://www.w3.org/2000/svg\" xmlns:xlink=\"http://www.w3.org/1999/xlink\" version=\"1.1\" class=\"marks\" width=\"437\" height=\"242\" viewBox=\"0 0 437 242\"><rect width=\"437\" height=\"242\" fill=\"white\"/><g fill=\"none\" stroke-miterlimit=\"10\" transform=\"translate(39,5)\"><g class=\"mark-group role-frame root\" role=\"graphics-object\" aria-roledescription=\"group mark container\"><g transform=\"translate(0,0)\"><path class=\"background\" aria-hidden=\"true\" d=\"M0.5,0.5h200v200h-200Z\" stroke=\"#ddd\"/><g><g class=\"mark-group role-axis\" aria-hidden=\"true\"><g transform=\"translate(0.5,200.5)\"><path class=\"background\" aria-hidden=\"true\" d=\"M0,0h0v0h0Z\" pointer-events=\"none\"/><g><g class=\"mark-rule role-axis-grid\" pointer-events=\"none\"><line transform=\"translate(0,-200)\" x2=\"0\" y2=\"200\" stroke=\"#ddd\" stroke-width=\"1\" opacity=\"1\"/><line transform=\"translate(42,-200)\" x2=\"0\" y2=\"200\" stroke=\"#ddd\" stroke-width=\"1\" opacity=\"1\"/><line transform=\"translate(83,-200)\" x2=\"0\" y2=\"200\" stroke=\"#ddd\" stroke-width=\"1\" opacity=\"1\"/><line transform=\"translate(125,-200)\" x2=\"0\" y2=\"200\" stroke=\"#ddd\" stroke-width=\"1\" opacity=\"1\"/><line transform=\"translate(167,-200)\" x2=\"0\" y2=\"200\" stroke=\"#ddd\" stroke-width=\"1\" opacity=\"1\"/></g></g><path class=\"foreground\" aria-hidden=\"true\" d=\"\" pointer-events=\"none\" display=\"none\"/></g></g><g class=\"mark-group role-axis\" aria-hidden=\"true\"><g transform=\"translate(0.5,0.5)\"><path class=\"background\" aria-hidden=\"true\" d=\"M0,0h0v0h0Z\" pointer-events=\"none\"/><g><g class=\"mark-rule role-axis-grid\" pointer-events=\"none\"><line transform=\"translate(0,200)\" x2=\"200\" y2=\"0\" stroke=\"#ddd\" stroke-width=\"1\" opacity=\"1\"/><line transform=\"translate(0,138)\" x2=\"200\" y2=\"0\" stroke=\"#ddd\" stroke-width=\"1\" opacity=\"1\"/><line transform=\"translate(0,75)\" x2=\"200\" y2=\"0\" stroke=\"#ddd\" stroke-width=\"1\" opacity=\"1\"/><line transform=\"translate(0,13)\" x2=\"200\" y2=\"0\" stroke=\"#ddd\" stroke-width=\"1\" opacity=\"1\"/></g></g><path class=\"foreground\" aria-hidden=\"true\" d=\"\" pointer-events=\"none\" display=\"none\"/></g></g><g class=\"mark-group role-axis\" role=\"graphics-symbol\" aria-roledescription=\"axis\" aria-label=\"X-axis titled 'hour' for a linear scale with values from 0 to 24\"><g transform=\"translate(0.5,200.5)\"><path class=\"background\" aria-hidden=\"true\" d=\"M0,0h0v0h0Z\" pointer-events=\"none\"/><g><g class=\"mark-rule role-axis-tick\" pointer-events=\"none\"><line transform=\"translate(0,0)\" x2=\"0\" y2=\"5\" stroke=\"#888\" stroke-width=\"1\" opacity=\"1\"/><line transform=\"translate(42,0)\" x2=\"0\" y2=\"5\" stroke=\"#888\" stroke-width=\"1\" opacity=\"1\"/><line transform=\"translate(83,0)\" x2=\"0\" y2=\"5\" stroke=\"#888\" stroke-width=\"1\" opacity=\"1\"/><line transform=\"translate(125,0)\" x2=\"0\" y2=\"5\" stroke=\"#888\" stroke-width=\"1\" opacity=\"1\"/><line transform=\"translate(167,0)\" x2=\"0\" y2=\"5\" stroke=\"#888\" stroke-width=\"1\" opacity=\"1\"/></g><g class=\"mark-text role-axis-label\" pointer-events=\"none\"><text text-anchor=\"start\" transform=\"translate(0,15)\" font-family=\"sans-serif\" font-size=\"10px\" fill=\"#000\" opacity=\"1\">0</text><text text-anchor=\"middle\" transform=\"translate(41.66666666666667,15)\" font-family=\"sans-serif\" font-size=\"10px\" fill=\"#000\" opacity=\"1\">5</text><text text-anchor=\"middle\" transform=\"translate(83.33333333333334,15)\" font-family=\"sans-serif\" font-size=\"10px\" fill=\"#000\" opacity=\"1\">10</text><text text-anchor=\"middle\" transform=\"translate(125,15)\" font-family=\"sans-serif\" font-size=\"10px\" fill=\"#000\" opacity=\"1\">15</text><text text-anchor=\"middle\" transform=\"translate(166.66666666666669,15)\" font-family=\"sans-serif\" font-size=\"10px\" fill=\"#000\" opacity=\"1\">20</text></g><g class=\"mark-rule role-axis-domain\" pointer-events=\"none\"><line transform=\"translate(0,0)\" x2=\"200\" y2=\"0\" stroke=\"#888\" stroke-width=\"1\" opacity=\"1\"/></g><g class=\"mark-text role-axis-title\" pointer-events=\"none\"><text text-anchor=\"middle\" transform=\"translate(100,30)\" font-family=\"sans-serif\" font-size=\"11px\" font-weight=\"bold\" fill=\"#000\" opacity=\"1\">hour</text></g></g><path class=\"foreground\" aria-hidden=\"true\" d=\"\" pointer-events=\"none\" display=\"none\"/></g></g><g class=\"mark-group role-axis\" role=\"graphics-symbol\" aria-roledescription=\"axis\" aria-label=\"Y-axis titled 'gen_sum' for a linear scale with values from 0 to 16\"><g transform=\"translate(0.5,0.5)\"><path class=\"background\" aria-hidden=\"true\" d=\"M0,0h0v0h0Z\" pointer-events=\"none\"/><g><g class=\"mark-rule role-axis-tick\" pointer-events=\"none\"><line transform=\"translate(0,200)\" x2=\"-5\" y2=\"0\" stroke=\"#888\" stroke-width=\"1\" opacity=\"1\"/><line transform=\"translate(0,138)\" x2=\"-5\" y2=\"0\" stroke=\"#888\" stroke-width=\"1\" opacity=\"1\"/><line transform=\"translate(0,75)\" x2=\"-5\" y2=\"0\" stroke=\"#888\" stroke-width=\"1\" opacity=\"1\"/><line transform=\"translate(0,13)\" x2=\"-5\" y2=\"0\" stroke=\"#888\" stroke-width=\"1\" opacity=\"1\"/></g><g class=\"mark-text role-axis-label\" pointer-events=\"none\"><text text-anchor=\"end\" transform=\"translate(-7,203)\" font-family=\"sans-serif\" font-size=\"10px\" fill=\"#000\" opacity=\"1\">0</text><text text-anchor=\"end\" transform=\"translate(-7,140.5)\" font-family=\"sans-serif\" font-size=\"10px\" fill=\"#000\" opacity=\"1\">5</text><text text-anchor=\"end\" transform=\"translate(-7,78)\" font-family=\"sans-serif\" font-size=\"10px\" fill=\"#000\" opacity=\"1\">10</text><text text-anchor=\"end\" transform=\"translate(-7,15.5)\" font-family=\"sans-serif\" font-size=\"10px\" fill=\"#000\" opacity=\"1\">15</text></g><g class=\"mark-rule role-axis-domain\" pointer-events=\"none\"><line transform=\"translate(0,200)\" x2=\"0\" y2=\"-200\" stroke=\"#888\" stroke-width=\"1\" opacity=\"1\"/></g><g class=\"mark-text role-axis-title\" pointer-events=\"none\"><text text-anchor=\"middle\" transform=\"translate(-23,100) rotate(-90) translate(0,-2)\" font-family=\"sans-serif\" font-size=\"11px\" font-weight=\"bold\" fill=\"#000\" opacity=\"1\">gen_sum</text></g></g><path class=\"foreground\" aria-hidden=\"true\" d=\"\" pointer-events=\"none\" display=\"none\"/></g></g><g class=\"mark-group role-scope pathgroup\" role=\"graphics-object\" aria-roledescription=\"group mark container\"><g transform=\"translate(0,0)\"><path class=\"background\" aria-hidden=\"true\" d=\"M0,0h200v200h-200Z\"/><g><g class=\"mark-area role-mark marks\" role=\"graphics-object\" aria-roledescription=\"area mark container\"><path aria-label=\"hour: 0; gen_sum: 6; resource: natural_gas_fired_combined_cycle\" role=\"graphics-symbol\" aria-roledescription=\"area mark\" d=\"M0,125L8.333333333333332,125L16.666666666666664,125L25,125L33.33333333333333,125L41.66666666666667,125L50,112.5L58.333333333333336,112.5L66.66666666666666,150L75,150L83.33333333333334,150L91.66666666666666,150L100,150L108.33333333333333,150L116.66666666666667,150L125,150L133.33333333333331,150L141.66666666666669,150L150,37.5L158.33333333333331,12.5L166.66666666666669,25L175,62.5L183.33333333333331,100L191.66666666666669,137.5L191.66666666666669,200L183.33333333333331,162.5L175,125L166.66666666666669,87.5L158.33333333333331,75L150,100L141.66666666666669,200L133.33333333333331,200L125,200L116.66666666666667,200L108.33333333333333,200L100,200L91.66666666666666,200L83.33333333333334,200L75,200L66.66666666666666,200L58.333333333333336,187.5L50,187.5L41.66666666666667,200L33.33333333333333,200L25,200L16.666666666666664,200L8.333333333333332,200L0,200Z\" fill=\"#1f77b4\"/></g></g><path class=\"foreground\" aria-hidden=\"true\" d=\"\" display=\"none\"/></g><g transform=\"translate(0,0)\"><path class=\"background\" aria-hidden=\"true\" d=\"M0,0h200v200h-200Z\"/><g><g class=\"mark-area role-mark marks\" role=\"graphics-object\" aria-roledescription=\"area mark container\"><path aria-label=\"hour: 0; gen_sum: 0; resource: natural_gas_fired_combustion_turbine\" role=\"graphics-symbol\" aria-roledescription=\"area mark\" d=\"M0,200L8.333333333333332,200L16.666666666666664,200L25,200L33.33333333333333,200L41.66666666666667,200L50,187.5L58.333333333333336,187.5L66.66666666666666,200L75,200L83.33333333333334,200L91.66666666666666,200L100,200L108.33333333333333,200L116.66666666666667,200L125,200L133.33333333333331,200L141.66666666666669,200L150,100L158.33333333333331,75L166.66666666666669,87.5L175,125L183.33333333333331,162.5L191.66666666666669,200L191.66666666666669,200L183.33333333333331,200L175,200L166.66666666666669,200L158.33333333333331,200L150,200L141.66666666666669,200L133.33333333333331,200L125,200L116.66666666666667,200L108.33333333333333,200L100,200L91.66666666666666,200L83.33333333333334,200L75,200L66.66666666666666,200L58.333333333333336,200L50,200L41.66666666666667,200L33.33333333333333,200L25,200L16.666666666666664,200L8.333333333333332,200L0,200Z\" fill=\"#ff7f0e\"/></g></g><path class=\"foreground\" aria-hidden=\"true\" d=\"\" display=\"none\"/></g></g><g class=\"mark-group role-legend\" role=\"graphics-symbol\" aria-roledescription=\"legend\" aria-label=\"Symbol legend titled 'resource' for fill color with 2 values: natural_gas_fired_combined_cycle, natural_gas_fired_combustion_turbine\"><g transform=\"translate(218,0)\"><path class=\"background\" aria-hidden=\"true\" d=\"M0,0h175v40h-175Z\" pointer-events=\"none\"/><g><g class=\"mark-group role-legend-entry\"><g transform=\"translate(0,16)\"><path class=\"background\" aria-hidden=\"true\" d=\"M0,0h0v0h0Z\" pointer-events=\"none\"/><g><g class=\"mark-group role-scope\" role=\"graphics-object\" aria-roledescription=\"group mark container\"><g transform=\"translate(0,0)\"><path class=\"background\" aria-hidden=\"true\" d=\"M0,0h175v11h-175Z\" pointer-events=\"none\" opacity=\"1\"/><g><g class=\"mark-symbol role-legend-symbol\" pointer-events=\"none\"><path transform=\"translate(6,6)\" d=\"M5,0A5,5,0,1,1,-5,0A5,5,0,1,1,5,0\" fill=\"#1f77b4\" stroke-width=\"1.5\" opacity=\"1\"/></g><g class=\"mark-text role-legend-label\" pointer-events=\"none\"><text text-anchor=\"start\" transform=\"translate(16,9)\" font-family=\"sans-serif\" font-size=\"10px\" fill=\"#000\" opacity=\"1\">natural_gas_fired_combined_cy…</text></g></g><path class=\"foreground\" aria-hidden=\"true\" d=\"\" pointer-events=\"none\" display=\"none\"/></g><g transform=\"translate(0,13)\"><path class=\"background\" aria-hidden=\"true\" d=\"M0,0h175v11h-175Z\" pointer-events=\"none\" opacity=\"1\"/><g><g class=\"mark-symbol role-legend-symbol\" pointer-events=\"none\"><path transform=\"translate(6,6)\" d=\"M5,0A5,5,0,1,1,-5,0A5,5,0,1,1,5,0\" fill=\"#ff7f0e\" stroke-width=\"1.5\" opacity=\"1\"/></g><g class=\"mark-text role-legend-label\" pointer-events=\"none\"><text text-anchor=\"start\" transform=\"translate(16,9)\" font-family=\"sans-serif\" font-size=\"10px\" fill=\"#000\" opacity=\"1\">natural_gas_fired_combustion_t…</text></g></g><path class=\"foreground\" aria-hidden=\"true\" d=\"\" pointer-events=\"none\" display=\"none\"/></g></g></g><path class=\"foreground\" aria-hidden=\"true\" d=\"\" pointer-events=\"none\" display=\"none\"/></g></g><g class=\"mark-text role-legend-title\" pointer-events=\"none\"><text text-anchor=\"start\" transform=\"translate(0,9)\" font-family=\"sans-serif\" font-size=\"11px\" font-weight=\"bold\" fill=\"#000\" opacity=\"1\">resource</text></g></g><path class=\"foreground\" aria-hidden=\"true\" d=\"\" pointer-events=\"none\" display=\"none\"/></g></g></g><path class=\"foreground\" aria-hidden=\"true\" d=\"\" display=\"none\"/></g></g></g></svg>\n"
      ],
      "text/plain": [
       "@vlplot(\n",
       "    mark=\"area\",\n",
       "    encoding={\n",
       "        x={\n",
       "            field=\"hour\"\n",
       "        },\n",
       "        y={\n",
       "            stack=\"zero\",\n",
       "            field=\"gen_sum\"\n",
       "        },\n",
       "        color={\n",
       "            scale={\n",
       "                scheme=\"category10\"\n",
       "            },\n",
       "            field=\"resource\",\n",
       "            type=\"nominal\"\n",
       "        }\n",
       "    },\n",
       "    data={\n",
       "        values=...\n",
       "    }\n",
       ")"
      ]
     },
     "execution_count": 27,
     "metadata": {},
     "output_type": "execute_result"
    }
   ],
   "source": [
    "sol_commit = innerjoin(solution.commit, \n",
    "                    gen_df[!, [:r_id, :resource]], \n",
    "                    on = :r_id)\n",
    "sol_commit = combine(groupby(sol_commit, [:resource, :hour]), \n",
    "            :gen => sum)\n",
    "sol_commit.hour = sol_commit.hour .- T_period[1]\n",
    "\n",
    "sol_commit |>\n",
    "@vlplot(:area, \n",
    "    x=:hour, y={:gen_sum, stack=:zero}, \n",
    "    color={\"resource:n\", scale={scheme=\"category10\"}})"
   ]
  },
  {
   "cell_type": "markdown",
   "metadata": {},
   "source": [
    "Note that units shutdown during the solar period and startup for the evening peak. However, due to the commitment constraints, not all natural gas plants can be decommitted, resulting in the observed curtailment. A large number of combustion turbines turn on to meet the evening peak."
   ]
  },
  {
   "cell_type": "markdown",
   "metadata": {},
   "source": [
    "## Moderate complexity unit commitment\n",
    "\n",
    "We expand the above unit commitment with ramp equations. These must be modified to prevent ramp violations during the startup process. In order to accommodate this, we introduce an **auxiliary variable** $GENAUX_{g,t}$ defined as the generation above the minimum output (if committed). $GENAUX_{g,t} = GEN_{g,t} = 0$ if the unit is not committed. Auxiliary variables are for convenience (we could always write the whole problem in terms of the original decision variables), but they help de-clutter the model and in general won't add too much computational penalty. The following constraints are added:\n",
    "\n",
    "$$\n",
    "\\begin{align}\n",
    " & GENAUX_{g,t} = GEN_{g,t} - Pmin_{g,t}COMMIT_{g,t} & \\forall \\quad g \\in G_{thermal} , t \\in T \\\\\n",
    " & GENAUX_{g,t+1} - GENAUX_{g,t} \\leq RampUp_{g} & \\forall \\quad g \\in G_{thermal} , t = 1..T-1 \\\\\n",
    "  & GENAUX_{g,t} - GENAUX_{g,t+1} \\leq RampDn_{g} & \\forall \\quad g \\in G_{thermal} , t = 1..T-1 \\\\\n",
    " & GEN_{g,t+1} - GEN_{g,t} \\leq RampUp_{g} & \\forall \\quad g \\notin G_{thermal} , t = 1..T-1 \\\\\n",
    "  & GEN_{g,t} - GEN_{g,t+1} \\leq RampDn_{g} & \\forall \\quad g \\notin G_{thermal} , t = 1..T-1  \n",
    "\\end{align}\n",
    "$$\n",
    "\n",
    "The creation of this auxiliary variable $GENAUX$ helps us avoid violating ramping constraints when we start up our units and their generation immediately jumps up to their minium output level or during shut-down when a unit drops from minimum output (or above) to zero. \n",
    "\n",
    "Note you may encounter alternative formulations in the literature to address this start-up and shut-down that modify the right-hand side of the traditional ramping constraint on total generation to account for the additional step change in output during start-up or shut-down periods. The above formulation is conceptually simple and works well."
   ]
  },
  {
   "cell_type": "markdown",
   "metadata": {},
   "source": [
    "### 3. Create solver function\n",
    "\n",
    "(We reuse steps 1 and 2 above to load packages and data.)"
   ]
  },
  {
   "cell_type": "code",
   "execution_count": 28,
   "metadata": {},
   "outputs": [
    {
     "data": {
      "text/plain": [
       "unit_commitment_ramp (generic function with 2 methods)"
      ]
     },
     "execution_count": 28,
     "metadata": {},
     "output_type": "execute_result"
    }
   ],
   "source": [
    "#=\n",
    "Function to solve moderate complexity unit commitment problem (commitment and ramp equations)\n",
    "Inputs:\n",
    "    gen_df -- dataframe with generator info\n",
    "    loads  -- load by time\n",
    "    gen_variable -- capacity factors of variable generators (in \"long\" format)\n",
    "    mip_gap -- desired relative MIP gap to pass to solver\n",
    "=#\n",
    "function unit_commitment_ramp(gen_df, loads, gen_variable, mip_gap)\n",
    "    UC = Model(HiGHS.Optimizer)\n",
    "    set_optimizer_attribute(UC, \"mip_rel_gap\", mip_gap) \n",
    "\n",
    "    # Define sets based on data\n",
    "    # Note the creation of several different sets of generators for use in\n",
    "    # different equations.\n",
    "    G_thermal = gen_df[gen_df[!,:up_time] .> 0,:r_id]\n",
    "    G_nonthermal = gen_df[gen_df[!,:up_time] .== 0,:r_id]\n",
    "    G_var = gen_df[gen_df[!,:is_variable] .== 1,:r_id] \n",
    "    G_nonvar = gen_df[gen_df[!,:is_variable] .== 0,:r_id]\n",
    "    G_nt_nonvar = intersect(G_nonvar, G_nonthermal)\n",
    "    G = gen_df.r_id\n",
    "    T = loads.hour\n",
    "    T_red = loads.hour[1:end-1]  # reduced time periods without last one\n",
    "\n",
    "    # Generator capacity factor time series for variable generators\n",
    "    gen_var_cf = innerjoin(gen_variable, \n",
    "                    gen_df[gen_df.is_variable .== 1 , \n",
    "                        [:r_id, :gen_full, :existing_cap_mw]], \n",
    "                    on = :gen_full)\n",
    "        \n",
    "    # Decision variables   \n",
    "    @variables(UC, begin\n",
    "        GEN[G, T]  >= 0     # generation\n",
    "        GENAUX[G_thermal, T] >= 0 # auxiliary generation variable\n",
    "        COMMIT[G_thermal, T], Bin # commitment status (Bin=binary)\n",
    "        START[G_thermal, T], Bin  # startup decision\n",
    "        SHUT[G_thermal, T], Bin   # shutdown decision\n",
    "    end)\n",
    "                \n",
    "    # Objective function\n",
    "    @objective(UC, Min, \n",
    "        sum( (gen_df[gen_df.r_id .== i,:heat_rate_mmbtu_per_mwh][1] * gen_df[gen_df.r_id .== i,:fuel_cost][1] +\n",
    "            gen_df[gen_df.r_id .== i,:var_om_cost_per_mwh][1]) * GEN[i,t] \n",
    "                        for i in G_nonvar for t in T) + \n",
    "        sum(gen_df[gen_df.r_id .== i,:var_om_cost_per_mwh][1] * GEN[i,t] \n",
    "                        for i in G_var for t in T) + \n",
    "        sum(gen_df[gen_df.r_id .== i,:start_cost_per_mw][1] * \n",
    "            gen_df[gen_df.r_id .== i,:existing_cap_mw][1] *\n",
    "            START[i,t] \n",
    "                        for i in G_thermal for t in T)\n",
    "    )\n",
    "    \n",
    "    # Demand constraint\n",
    "    @constraint(UC, cDemand[t in T], \n",
    "        sum(GEN[i,t] for i in G) == loads[loads.hour .== t,:demand][1])\n",
    "\n",
    "    # Capacity constraints (thermal generators requiring commitment)\n",
    "    @constraint(UC, Cap_thermal_min[i in G_thermal, t in T], \n",
    "        GEN[i,t] >= COMMIT[i, t] * gen_df[gen_df.r_id .== i,:existing_cap_mw][1] *\n",
    "                        gen_df[gen_df.r_id .== i,:min_power][1])\n",
    "    @constraint(UC, Cap_thermal_max[i in G_thermal, t in T], \n",
    "        GEN[i,t] <= COMMIT[i, t] * gen_df[gen_df.r_id .== i,:existing_cap_mw][1])\n",
    "\n",
    "    # Capacity constraints (non-variable generation not requiring commitment)\n",
    "    @constraint(UC, Cap_nt_nonvar[i in G_nt_nonvar, t in T], \n",
    "        GEN[i,t] <= gen_df[gen_df.r_id .== i,:existing_cap_mw][1])\n",
    "\n",
    "    # Capacity constraints (variable generation)\n",
    "    @constraint(UC, Cap_var[i in 1:nrow(gen_var_cf)], \n",
    "            GEN[gen_var_cf[i,:r_id], gen_var_cf[i,:hour] ] <= \n",
    "                        gen_var_cf[i,:cf] *\n",
    "                        gen_var_cf[i,:existing_cap_mw])\n",
    "    \n",
    "    # Unit commitment constraints\n",
    "    @constraint(UC, Startup[i in G_thermal, t in T],\n",
    "        COMMIT[i, t] >= sum(START[i, tt] \n",
    "                        for tt in intersect(T,\n",
    "                            (t-gen_df[gen_df.r_id .== i,:up_time][1]):t)))\n",
    "\n",
    "    @constraint(UC, Shutdown[i in G_thermal, t in T],\n",
    "        1-COMMIT[i, t] >= sum(SHUT[i, tt] \n",
    "                        for tt in intersect(T,\n",
    "                            (t-gen_df[gen_df.r_id .== i,:down_time][1]):t)))\n",
    "    \n",
    "    @constraint(UC, CommitmentStatus[i in G_thermal, t in T_red],\n",
    "        COMMIT[i,t+1] - COMMIT[i,t] == START[i,t+1] - SHUT[i,t+1])\n",
    "    \n",
    "    # New auxiliary variable GENAUX for generation above the minimum output level\n",
    "    # for committed thermal units (only created for thermal generators)\n",
    "    @constraint(UC, AuxGen[i in G_thermal, t in T],\n",
    "        GENAUX[i,t] == GEN[i,t] - COMMIT[i, t] * gen_df[gen_df.r_id .== i,:existing_cap_mw][1] *\n",
    "                        gen_df[gen_df.r_id .== i,:min_power][1])\n",
    "    \n",
    "    # Ramp equations for thermal generators (constraining GENAUX)\n",
    "    @constraint(UC, RampUp_thermal[i in G_thermal, t in T_red], \n",
    "        GENAUX[i,t+1] - GENAUX[i,t] <= gen_df[gen_df.r_id .== i,:existing_cap_mw][1] * \n",
    "                                 gen_df[gen_df.r_id .== i,:ramp_up_percentage][1] )\n",
    "\n",
    "    @constraint(UC, RampDn_thermal[i in G_thermal, t in T_red], \n",
    "        GENAUX[i,t] - GENAUX[i,t+1] <= gen_df[gen_df.r_id .== i,:existing_cap_mw][1] * \n",
    "                                 gen_df[gen_df.r_id .== i,:ramp_dn_percentage][1] )\n",
    "\n",
    "    # Ramp equations for non-thermal generators (constraining total generation GEN)\n",
    "    @constraint(UC, RampUp_nonthermal[i in G_nonthermal, t in T_red], \n",
    "        GEN[i,t+1] - GEN[i,t] <= gen_df[gen_df.r_id .== i,:existing_cap_mw][1] * \n",
    "                                 gen_df[gen_df.r_id .== i,:ramp_up_percentage][1] )\n",
    "\n",
    "    @constraint(UC, RampDn[i in G, t in T_red], \n",
    "        GEN[i,t] - GEN[i,t+1] <= gen_df[gen_df.r_id .== i,:existing_cap_mw][1] * \n",
    "                                 gen_df[gen_df.r_id .== i,:ramp_dn_percentage][1] )\n",
    "      \n",
    "    \n",
    "    # Solve statement (! indicates runs in place)\n",
    "    optimize!(UC)\n",
    "\n",
    "    # Generation solution\n",
    "    gen = value_to_df_2dim(value.(GEN))\n",
    "\n",
    "    # Commitment status solution\n",
    "    commit = value_to_df_2dim(value.(COMMIT))\n",
    "\n",
    "    # Calculate curtailment\n",
    "    curtail = innerjoin(gen_var_cf, gen, on = [:r_id, :hour])\n",
    "    curtail.curt = curtail.cf .* curtail.existing_cap_mw - curtail.gen\n",
    "    \n",
    "    # Return the solution and objective as named tuple\n",
    "    return (\n",
    "        gen,\n",
    "        commit,\n",
    "        curtail,\n",
    "        cost = objective_value(UC),\n",
    "        status = termination_status(UC)\n",
    "    )\n",
    "\n",
    "end"
   ]
  },
  {
   "cell_type": "markdown",
   "metadata": {},
   "source": [
    "### 4. Solve a day's unit commitment"
   ]
  },
  {
   "cell_type": "code",
   "execution_count": 29,
   "metadata": {},
   "outputs": [
    {
     "name": "stdout",
     "output_type": "stream",
     "text": [
      "Presolving model\n",
      "4230 rows, 2705 cols, 12697 nonzeros\n",
      "2978 rows, 1981 cols, 11613 nonzeros\n",
      "2058 rows, 1889 cols, 10517 nonzeros\n",
      "1942 rows, 1792 cols, 9838 nonzeros\n",
      "\n",
      "Solving MIP model with:\n",
      "   1942 rows\n",
      "   1792 cols (1216 binary, 0 integer, 0 implied int., 576 continuous)\n",
      "   9838 nonzeros\n",
      "\n",
      "( 0.0s) Starting symmetry detection\n",
      "( 0.0s) No symmetry present\n",
      "\n",
      "        Nodes      |    B&B Tree     |            Objective Bounds              |  Dynamic Constraints |       Work      \n",
      "     Proc. InQueue |  Leaves   Expl. | BestBound       BestSol              Gap |   Cuts   InLp Confl. | LpIters     Time\n",
      "\n",
      "         0       0         0   0.00%   -18497.611619   inf                  inf        0      0      0         0     0.0s\n",
      "         0       0         0   0.00%   853909.258012   inf                  inf        0      0      6       484     0.0s\n",
      " C       0       0         0   0.00%   854324.132101   926742.140347      7.81%      739     31    107       612     0.1s\n",
      " L       0       0         0   0.00%   855628.449081   856914.191674      0.15%     3599    111    107      1634     1.5s\n",
      "\n",
      "Solving report\n",
      "  Status            Optimal\n",
      "  Primal bound      856914.191674\n",
      "  Dual bound        855628.449081\n",
      "  Gap               0.15% (tolerance: 1%)\n",
      "  Solution status   feasible\n",
      "                    856914.191674 (objective)\n",
      "                    0 (bound viol.)\n",
      "                    1.53950412913e-15 (int. viol.)\n",
      "                    0 (row viol.)\n",
      "  Timing            1.52 (total)\n",
      "                    0.02 (presolve)\n",
      "                    0.00 (postsolve)\n",
      "  Nodes             1\n",
      "  LP iterations     2523 (total)\n",
      "                    0 (strong br.)\n",
      "                    1150 (separation)\n",
      "                    889 (heuristics)\n"
     ]
    },
    {
     "data": {
      "application/vnd.vegalite.v4+json": {
       "data": {
        "values": [
         {
          "gen_sum": 21.4,
          "hour": 0,
          "resource": "biomass"
         },
         {
          "gen_sum": 42,
          "hour": 0,
          "resource": "hydroelectric_pumped_storage"
         },
         {
          "gen_sum": 1352.798468,
          "hour": 0,
          "resource": "natural_gas_fired_combined_cycle"
         },
         {
          "gen_sum": 32.3078,
          "hour": 0,
          "resource": "natural_gas_fired_combustion_turbine"
         },
         {
          "gen_sum": 163.3088,
          "hour": 0,
          "resource": "_onshore_wind_turbine"
         },
         {
          "gen_sum": 3.184932,
          "hour": 0,
          "resource": "_small_hydroelectric"
         },
         {
          "gen_sum": 0,
          "hour": 0,
          "resource": "_solar_photovoltaic"
         },
         {
          "gen_sum": 21.4,
          "hour": 1,
          "resource": "biomass"
         },
         {
          "gen_sum": 42,
          "hour": 1,
          "resource": "hydroelectric_pumped_storage"
         },
         {
          "gen_sum": 1284.313988,
          "hour": 1,
          "resource": "natural_gas_fired_combined_cycle"
         },
         {
          "gen_sum": 32.3078,
          "hour": 1,
          "resource": "natural_gas_fired_combustion_turbine"
         },
         {
          "gen_sum": 169.79327999999998,
          "hour": 1,
          "resource": "_onshore_wind_turbine"
         },
         {
          "gen_sum": 3.184932,
          "hour": 1,
          "resource": "_small_hydroelectric"
         },
         {
          "gen_sum": 0,
          "hour": 1,
          "resource": "_solar_photovoltaic"
         },
         {
          "gen_sum": 21.4,
          "hour": 2,
          "resource": "biomass"
         },
         {
          "gen_sum": 42,
          "hour": 2,
          "resource": "hydroelectric_pumped_storage"
         },
         {
          "gen_sum": 1303.996868,
          "hour": 2,
          "resource": "natural_gas_fired_combined_cycle"
         },
         {
          "gen_sum": 32.3078,
          "hour": 2,
          "resource": "natural_gas_fired_combustion_turbine"
         },
         {
          "gen_sum": 115.1104,
          "hour": 2,
          "resource": "_onshore_wind_turbine"
         },
         {
          "gen_sum": 3.184932,
          "hour": 2,
          "resource": "_small_hydroelectric"
         },
         {
          "gen_sum": 0,
          "hour": 2,
          "resource": "_solar_photovoltaic"
         },
         {
          "gen_sum": 21.4,
          "hour": 3,
          "resource": "biomass"
         },
         {
          "gen_sum": 41.999999999999986,
          "hour": 3,
          "resource": "hydroelectric_pumped_storage"
         },
         {
          "gen_sum": 1362.5543080000002,
          "hour": 3,
          "resource": "natural_gas_fired_combined_cycle"
         },
         {
          "gen_sum": 32.3078,
          "hour": 3,
          "resource": "natural_gas_fired_combustion_turbine"
         },
         {
          "gen_sum": 100.55296,
          "hour": 3,
          "resource": "_onshore_wind_turbine"
         },
         {
          "gen_sum": 3.184932,
          "hour": 3,
          "resource": "_small_hydroelectric"
         },
         {
          "gen_sum": 0,
          "hour": 3,
          "resource": "_solar_photovoltaic"
         },
         {
          "gen_sum": 21.4,
          "hour": 4,
          "resource": "biomass"
         },
         {
          "gen_sum": 42,
          "hour": 4,
          "resource": "hydroelectric_pumped_storage"
         },
         {
          "gen_sum": 1553.5299880000002,
          "hour": 4,
          "resource": "natural_gas_fired_combined_cycle"
         },
         {
          "gen_sum": 32.3078,
          "hour": 4,
          "resource": "natural_gas_fired_combustion_turbine"
         },
         {
          "gen_sum": 80.57728,
          "hour": 4,
          "resource": "_onshore_wind_turbine"
         },
         {
          "gen_sum": 3.184932,
          "hour": 4,
          "resource": "_small_hydroelectric"
         },
         {
          "gen_sum": 0,
          "hour": 4,
          "resource": "_solar_photovoltaic"
         },
         {
          "gen_sum": 21.4,
          "hour": 5,
          "resource": "biomass"
         },
         {
          "gen_sum": 42,
          "hour": 5,
          "resource": "hydroelectric_pumped_storage"
         },
         {
          "gen_sum": 1737.930308,
          "hour": 5,
          "resource": "natural_gas_fired_combined_cycle"
         },
         {
          "gen_sum": 32.3078,
          "hour": 5,
          "resource": "natural_gas_fired_combustion_turbine"
         },
         {
          "gen_sum": 139.17695999999998,
          "hour": 5,
          "resource": "_onshore_wind_turbine"
         },
         {
          "gen_sum": 3.184932,
          "hour": 5,
          "resource": "_small_hydroelectric"
         },
         {
          "gen_sum": 0,
          "hour": 5,
          "resource": "_solar_photovoltaic"
         },
         {
          "gen_sum": 21.4,
          "hour": 6,
          "resource": "biomass"
         },
         {
          "gen_sum": 42.000000000000014,
          "hour": 6,
          "resource": "hydroelectric_pumped_storage"
         },
         {
          "gen_sum": 1907.3774279999998,
          "hour": 6,
          "resource": "natural_gas_fired_combined_cycle"
         },
         {
          "gen_sum": 32.3078,
          "hour": 6,
          "resource": "natural_gas_fired_combustion_turbine"
         },
         {
          "gen_sum": 74.17984,
          "hour": 6,
          "resource": "_onshore_wind_turbine"
         },
         {
          "gen_sum": 3.184932,
          "hour": 6,
          "resource": "_small_hydroelectric"
         },
         {
          "gen_sum": 193.55,
          "hour": 6,
          "resource": "_solar_photovoltaic"
         },
         {
          "gen_sum": 21.4,
          "hour": 7,
          "resource": "biomass"
         },
         {
          "gen_sum": 41.999999999999964,
          "hour": 7,
          "resource": "hydroelectric_pumped_storage"
         },
         {
          "gen_sum": 1707.191628,
          "hour": 7,
          "resource": "natural_gas_fired_combined_cycle"
         },
         {
          "gen_sum": 0,
          "hour": 7,
          "resource": "natural_gas_fired_combustion_turbine"
         },
         {
          "gen_sum": 49.373439999999995,
          "hour": 7,
          "resource": "_onshore_wind_turbine"
         },
         {
          "gen_sum": 3.184932,
          "hour": 7,
          "resource": "_small_hydroelectric"
         },
         {
          "gen_sum": 773.85,
          "hour": 7,
          "resource": "_solar_photovoltaic"
         },
         {
          "gen_sum": 21.4,
          "hour": 8,
          "resource": "biomass"
         },
         {
          "gen_sum": 41.99999999999994,
          "hour": 8,
          "resource": "hydroelectric_pumped_storage"
         },
         {
          "gen_sum": 932.458908,
          "hour": 8,
          "resource": "natural_gas_fired_combined_cycle"
         },
         {
          "gen_sum": 0,
          "hour": 8,
          "resource": "natural_gas_fired_combustion_turbine"
         },
         {
          "gen_sum": 167.35616,
          "hour": 8,
          "resource": "_onshore_wind_turbine"
         },
         {
          "gen_sum": 3.184932,
          "hour": 8,
          "resource": "_small_hydroelectric"
         },
         {
          "gen_sum": 1671.6000000000001,
          "hour": 8,
          "resource": "_solar_photovoltaic"
         },
         {
          "gen_sum": 21.4,
          "hour": 9,
          "resource": "biomass"
         },
         {
          "gen_sum": 42.00000000000014,
          "hour": 9,
          "resource": "hydroelectric_pumped_storage"
         },
         {
          "gen_sum": 809.9041079999997,
          "hour": 9,
          "resource": "natural_gas_fired_combined_cycle"
         },
         {
          "gen_sum": 0,
          "hour": 9,
          "resource": "natural_gas_fired_combustion_turbine"
         },
         {
          "gen_sum": 131.56096,
          "hour": 9,
          "resource": "_onshore_wind_turbine"
         },
         {
          "gen_sum": 3.184932,
          "hour": 9,
          "resource": "_small_hydroelectric"
         },
         {
          "gen_sum": 2014.95,
          "hour": 9,
          "resource": "_solar_photovoltaic"
         },
         {
          "gen_sum": 21.4,
          "hour": 10,
          "resource": "biomass"
         },
         {
          "gen_sum": 42.00000000000017,
          "hour": 10,
          "resource": "hydroelectric_pumped_storage"
         },
         {
          "gen_sum": 833.5714679999999,
          "hour": 10,
          "resource": "natural_gas_fired_combined_cycle"
         },
         {
          "gen_sum": 0,
          "hour": 10,
          "resource": "natural_gas_fired_combustion_turbine"
         },
         {
          "gen_sum": 111.1936,
          "hour": 10,
          "resource": "_onshore_wind_turbine"
         },
         {
          "gen_sum": 3.184932,
          "hour": 10,
          "resource": "_small_hydroelectric"
         },
         {
          "gen_sum": 2113.65,
          "hour": 10,
          "resource": "_solar_photovoltaic"
         },
         {
          "gen_sum": 21.4,
          "hour": 11,
          "resource": "biomass"
         },
         {
          "gen_sum": 42.00000000000004,
          "hour": 11,
          "resource": "hydroelectric_pumped_storage"
         },
         {
          "gen_sum": 655.6549879999998,
          "hour": 11,
          "resource": "natural_gas_fired_combined_cycle"
         },
         {
          "gen_sum": 0,
          "hour": 11,
          "resource": "natural_gas_fired_combustion_turbine"
         },
         {
          "gen_sum": 92.11008,
          "hour": 11,
          "resource": "_onshore_wind_turbine"
         },
         {
          "gen_sum": 3.184932,
          "hour": 11,
          "resource": "_small_hydroelectric"
         },
         {
          "gen_sum": 2148.65,
          "hour": 11,
          "resource": "_solar_photovoltaic"
         },
         {
          "gen_sum": 0,
          "hour": 12,
          "resource": "biomass"
         },
         {
          "gen_sum": 0,
          "hour": 12,
          "resource": "hydroelectric_pumped_storage"
         },
         {
          "gen_sum": 461.04019999999997,
          "hour": 12,
          "resource": "natural_gas_fired_combined_cycle"
         },
         {
          "gen_sum": 0,
          "hour": 12,
          "resource": "natural_gas_fired_combustion_turbine"
         },
         {
          "gen_sum": 22.674868000000178,
          "hour": 12,
          "resource": "_onshore_wind_turbine"
         },
         {
          "gen_sum": 3.184932,
          "hour": 12,
          "resource": "_small_hydroelectric"
         },
         {
          "gen_sum": 2256.1,
          "hour": 12,
          "resource": "_solar_photovoltaic"
         },
         {
          "gen_sum": 0,
          "hour": 13,
          "resource": "biomass"
         },
         {
          "gen_sum": 0,
          "hour": 13,
          "resource": "hydroelectric_pumped_storage"
         },
         {
          "gen_sum": 461.04019999999997,
          "hour": 13,
          "resource": "natural_gas_fired_combined_cycle"
         },
         {
          "gen_sum": 0,
          "hour": 13,
          "resource": "natural_gas_fired_combustion_turbine"
         },
         {
          "gen_sum": 0,
          "hour": 13,
          "resource": "_onshore_wind_turbine"
         },
         {
          "gen_sum": 0,
          "hour": 13,
          "resource": "_small_hydroelectric"
         },
         {
          "gen_sum": 2204.9598,
          "hour": 13,
          "resource": "_solar_photovoltaic"
         },
         {
          "gen_sum": 0,
          "hour": 14,
          "resource": "biomass"
         },
         {
          "gen_sum": 0,
          "hour": 14,
          "resource": "hydroelectric_pumped_storage"
         },
         {
          "gen_sum": 461.04019999999997,
          "hour": 14,
          "resource": "natural_gas_fired_combined_cycle"
         },
         {
          "gen_sum": 0,
          "hour": 14,
          "resource": "natural_gas_fired_combustion_turbine"
         },
         {
          "gen_sum": 0,
          "hour": 14,
          "resource": "_onshore_wind_turbine"
         },
         {
          "gen_sum": 0,
          "hour": 14,
          "resource": "_small_hydroelectric"
         },
         {
          "gen_sum": 2116.9598,
          "hour": 14,
          "resource": "_solar_photovoltaic"
         },
         {
          "gen_sum": 0,
          "hour": 15,
          "resource": "biomass"
         },
         {
          "gen_sum": 0,
          "hour": 15,
          "resource": "hydroelectric_pumped_storage"
         },
         {
          "gen_sum": 461.04019999999997,
          "hour": 15,
          "resource": "natural_gas_fired_combined_cycle"
         },
         {
          "gen_sum": 0,
          "hour": 15,
          "resource": "natural_gas_fired_combustion_turbine"
         },
         {
          "gen_sum": 24.52486799999986,
          "hour": 15,
          "resource": "_onshore_wind_turbine"
         },
         {
          "gen_sum": 3.184932,
          "hour": 15,
          "resource": "_small_hydroelectric"
         },
         {
          "gen_sum": 1993.25,
          "hour": 15,
          "resource": "_solar_photovoltaic"
         },
         {
          "gen_sum": 21.4,
          "hour": 16,
          "resource": "biomass"
         },
         {
          "gen_sum": 42.00000000000004,
          "hour": 16,
          "resource": "hydroelectric_pumped_storage"
         },
         {
          "gen_sum": 660.9297880000001,
          "hour": 16,
          "resource": "natural_gas_fired_combined_cycle"
         },
         {
          "gen_sum": 0,
          "hour": 16,
          "resource": "natural_gas_fired_combustion_turbine"
         },
         {
          "gen_sum": 57.18527999999999,
          "hour": 16,
          "resource": "_onshore_wind_turbine"
         },
         {
          "gen_sum": 3.184932,
          "hour": 16,
          "resource": "_small_hydroelectric"
         },
         {
          "gen_sum": 1637.3,
          "hour": 16,
          "resource": "_solar_photovoltaic"
         },
         {
          "gen_sum": 21.4,
          "hour": 17,
          "resource": "biomass"
         },
         {
          "gen_sum": 42.0000000000001,
          "hour": 17,
          "resource": "hydroelectric_pumped_storage"
         },
         {
          "gen_sum": 1096.196188,
          "hour": 17,
          "resource": "natural_gas_fired_combined_cycle"
         },
         {
          "gen_sum": 0,
          "hour": 17,
          "resource": "natural_gas_fired_combustion_turbine"
         },
         {
          "gen_sum": 78.61888,
          "hour": 17,
          "resource": "_onshore_wind_turbine"
         },
         {
          "gen_sum": 3.184932,
          "hour": 17,
          "resource": "_small_hydroelectric"
         },
         {
          "gen_sum": 1132.6,
          "hour": 17,
          "resource": "_solar_photovoltaic"
         },
         {
          "gen_sum": 21.4,
          "hour": 18,
          "resource": "biomass"
         },
         {
          "gen_sum": 42,
          "hour": 18,
          "resource": "hydroelectric_pumped_storage"
         },
         {
          "gen_sum": 1592.5,
          "hour": 18,
          "resource": "natural_gas_fired_combined_cycle"
         },
         {
          "gen_sum": 499.34938799999986,
          "hour": 18,
          "resource": "natural_gas_fired_combustion_turbine"
         },
         {
          "gen_sum": 52.61568,
          "hour": 18,
          "resource": "_onshore_wind_turbine"
         },
         {
          "gen_sum": 3.184932,
          "hour": 18,
          "resource": "_small_hydroelectric"
         },
         {
          "gen_sum": 166.95,
          "hour": 18,
          "resource": "_solar_photovoltaic"
         },
         {
          "gen_sum": 21.4,
          "hour": 19,
          "resource": "biomass"
         },
         {
          "gen_sum": 42.00000000000001,
          "hour": 19,
          "resource": "hydroelectric_pumped_storage"
         },
         {
          "gen_sum": 1592.5,
          "hour": 19,
          "resource": "natural_gas_fired_combined_cycle"
         },
         {
          "gen_sum": 780.4865880000002,
          "hour": 19,
          "resource": "natural_gas_fired_combustion_turbine"
         },
         {
          "gen_sum": 61.42848,
          "hour": 19,
          "resource": "_onshore_wind_turbine"
         },
         {
          "gen_sum": 3.184932,
          "hour": 19,
          "resource": "_small_hydroelectric"
         },
         {
          "gen_sum": 0,
          "hour": 19,
          "resource": "_solar_photovoltaic"
         },
         {
          "gen_sum": 21.4,
          "hour": 20,
          "resource": "biomass"
         },
         {
          "gen_sum": 42,
          "hour": 20,
          "resource": "hydroelectric_pumped_storage"
         },
         {
          "gen_sum": 1592.5,
          "hour": 20,
          "resource": "natural_gas_fired_combined_cycle"
         },
         {
          "gen_sum": 774.9982680000003,
          "hour": 20,
          "resource": "natural_gas_fired_combustion_turbine"
         },
         {
          "gen_sum": 71.9168,
          "hour": 20,
          "resource": "_onshore_wind_turbine"
         },
         {
          "gen_sum": 3.184932,
          "hour": 20,
          "resource": "_small_hydroelectric"
         },
         {
          "gen_sum": 0,
          "hour": 20,
          "resource": "_solar_photovoltaic"
         },
         {
          "gen_sum": 21.4,
          "hour": 21,
          "resource": "biomass"
         },
         {
          "gen_sum": 42,
          "hour": 21,
          "resource": "hydroelectric_pumped_storage"
         },
         {
          "gen_sum": 1592.5,
          "hour": 21,
          "resource": "natural_gas_fired_combined_cycle"
         },
         {
          "gen_sum": 502.866428,
          "hour": 21,
          "resource": "natural_gas_fired_combustion_turbine"
         },
         {
          "gen_sum": 96.04864,
          "hour": 21,
          "resource": "_onshore_wind_turbine"
         },
         {
          "gen_sum": 3.184932,
          "hour": 21,
          "resource": "_small_hydroelectric"
         },
         {
          "gen_sum": 0,
          "hour": 21,
          "resource": "_solar_photovoltaic"
         },
         {
          "gen_sum": 21.4,
          "hour": 22,
          "resource": "biomass"
         },
         {
          "gen_sum": 42,
          "hour": 22,
          "resource": "hydroelectric_pumped_storage"
         },
         {
          "gen_sum": 1592.5,
          "hour": 22,
          "resource": "natural_gas_fired_combined_cycle"
         },
         {
          "gen_sum": 202.445948,
          "hour": 22,
          "resource": "natural_gas_fired_combustion_turbine"
         },
         {
          "gen_sum": 126.46912,
          "hour": 22,
          "resource": "_onshore_wind_turbine"
         },
         {
          "gen_sum": 3.184932,
          "hour": 22,
          "resource": "_small_hydroelectric"
         },
         {
          "gen_sum": 0,
          "hour": 22,
          "resource": "_solar_photovoltaic"
         },
         {
          "gen_sum": 21.4,
          "hour": 23,
          "resource": "biomass"
         },
         {
          "gen_sum": 42,
          "hour": 23,
          "resource": "hydroelectric_pumped_storage"
         },
         {
          "gen_sum": 1548.9939479999998,
          "hour": 23,
          "resource": "natural_gas_fired_combined_cycle"
         },
         {
          "gen_sum": 4.973799150320701e-14,
          "hour": 23,
          "resource": "natural_gas_fired_combustion_turbine"
         },
         {
          "gen_sum": 144.42111999999997,
          "hour": 23,
          "resource": "_onshore_wind_turbine"
         },
         {
          "gen_sum": 3.184932,
          "hour": 23,
          "resource": "_small_hydroelectric"
         },
         {
          "gen_sum": 0,
          "hour": 23,
          "resource": "_solar_photovoltaic"
         },
         {
          "gen_sum": 0,
          "hour": 0,
          "resource": "_solar_photovoltaic_btm"
         },
         {
          "gen_sum": 0,
          "hour": 1,
          "resource": "_solar_photovoltaic_btm"
         },
         {
          "gen_sum": 0,
          "hour": 2,
          "resource": "_solar_photovoltaic_btm"
         },
         {
          "gen_sum": 0,
          "hour": 3,
          "resource": "_solar_photovoltaic_btm"
         },
         {
          "gen_sum": 0,
          "hour": 4,
          "resource": "_solar_photovoltaic_btm"
         },
         {
          "gen_sum": 0,
          "hour": 5,
          "resource": "_solar_photovoltaic_btm"
         },
         {
          "gen_sum": 33.18,
          "hour": 6,
          "resource": "_solar_photovoltaic_btm"
         },
         {
          "gen_sum": 132.66,
          "hour": 7,
          "resource": "_solar_photovoltaic_btm"
         },
         {
          "gen_sum": 286.56,
          "hour": 8,
          "resource": "_solar_photovoltaic_btm"
         },
         {
          "gen_sum": 345.42,
          "hour": 9,
          "resource": "_solar_photovoltaic_btm"
         },
         {
          "gen_sum": 362.34,
          "hour": 10,
          "resource": "_solar_photovoltaic_btm"
         },
         {
          "gen_sum": 368.34,
          "hour": 11,
          "resource": "_solar_photovoltaic_btm"
         },
         {
          "gen_sum": 386.76,
          "hour": 12,
          "resource": "_solar_photovoltaic_btm"
         },
         {
          "gen_sum": 387.29999999999995,
          "hour": 13,
          "resource": "_solar_photovoltaic_btm"
         },
         {
          "gen_sum": 374.46,
          "hour": 14,
          "resource": "_solar_photovoltaic_btm"
         },
         {
          "gen_sum": 341.7,
          "hour": 15,
          "resource": "_solar_photovoltaic_btm"
         },
         {
          "gen_sum": 280.68,
          "hour": 16,
          "resource": "_solar_photovoltaic_btm"
         },
         {
          "gen_sum": 194.16,
          "hour": 17,
          "resource": "_solar_photovoltaic_btm"
         },
         {
          "gen_sum": 28.62,
          "hour": 18,
          "resource": "_solar_photovoltaic_btm"
         },
         {
          "gen_sum": 0,
          "hour": 19,
          "resource": "_solar_photovoltaic_btm"
         },
         {
          "gen_sum": 0,
          "hour": 20,
          "resource": "_solar_photovoltaic_btm"
         },
         {
          "gen_sum": 0,
          "hour": 21,
          "resource": "_solar_photovoltaic_btm"
         },
         {
          "gen_sum": 0,
          "hour": 22,
          "resource": "_solar_photovoltaic_btm"
         },
         {
          "gen_sum": 0,
          "hour": 23,
          "resource": "_solar_photovoltaic_btm"
         },
         {
          "gen_sum": 0,
          "hour": 0,
          "resource": "_curtailment"
         },
         {
          "gen_sum": 0,
          "hour": 1,
          "resource": "_curtailment"
         },
         {
          "gen_sum": 0,
          "hour": 2,
          "resource": "_curtailment"
         },
         {
          "gen_sum": 0,
          "hour": 3,
          "resource": "_curtailment"
         },
         {
          "gen_sum": 0,
          "hour": 4,
          "resource": "_curtailment"
         },
         {
          "gen_sum": 0,
          "hour": 5,
          "resource": "_curtailment"
         },
         {
          "gen_sum": 0,
          "hour": 6,
          "resource": "_curtailment"
         },
         {
          "gen_sum": 0,
          "hour": 7,
          "resource": "_curtailment"
         },
         {
          "gen_sum": 0,
          "hour": 8,
          "resource": "_curtailment"
         },
         {
          "gen_sum": 0,
          "hour": 9,
          "resource": "_curtailment"
         },
         {
          "gen_sum": 0,
          "hour": 10,
          "resource": "_curtailment"
         },
         {
          "gen_sum": 0,
          "hour": 11,
          "resource": "_curtailment"
         },
         {
          "gen_sum": 29.418571999999823,
          "hour": 12,
          "resource": "_curtailment"
         },
         {
          "gen_sum": 122.16761199999992,
          "hour": 13,
          "resource": "_curtailment"
         },
         {
          "gen_sum": 119.79625199999982,
          "hour": 14,
          "resource": "_curtailment"
         },
         {
          "gen_sum": 40.885692000000134,
          "hour": 15,
          "resource": "_curtailment"
         },
         {
          "gen_sum": 0,
          "hour": 16,
          "resource": "_curtailment"
         },
         {
          "gen_sum": 0,
          "hour": 17,
          "resource": "_curtailment"
         },
         {
          "gen_sum": 0,
          "hour": 18,
          "resource": "_curtailment"
         },
         {
          "gen_sum": 0,
          "hour": 19,
          "resource": "_curtailment"
         },
         {
          "gen_sum": 0,
          "hour": 20,
          "resource": "_curtailment"
         },
         {
          "gen_sum": 0,
          "hour": 21,
          "resource": "_curtailment"
         },
         {
          "gen_sum": 0,
          "hour": 22,
          "resource": "_curtailment"
         },
         {
          "gen_sum": 0,
          "hour": 23,
          "resource": "_curtailment"
         }
        ]
       },
       "encoding": {
        "color": {
         "field": "resource",
         "scale": {
          "scheme": "category10"
         },
         "type": "nominal"
        },
        "x": {
         "field": "hour",
         "type": "quantitative"
        },
        "y": {
         "field": "gen_sum",
         "stack": "zero",
         "type": "quantitative"
        }
       },
       "mark": "area"
      },
      "image/png": "[encoded data removed]",
      "image/svg+xml": [
       "<?xml version=\"1.0\" encoding=\"utf-8\"?>\n",
       "<!DOCTYPE svg PUBLIC \"-//W3C//DTD SVG 1.1//EN\" \"http://www.w3.org/Graphics/SVG/1.1/DTD/svg11.dtd\">\n",
       "<svg xmlns=\"http://www.w3.org/2000/svg\" xmlns:xlink=\"http://www.w3.org/1999/xlink\" version=\"1.1\" class=\"marks\" width=\"452\" height=\"247\" viewBox=\"0 0 452 247\"><rect width=\"452\" height=\"247\" fill=\"white\"/><g fill=\"none\" stroke-miterlimit=\"10\" transform=\"translate(54,10)\"><g class=\"mark-group role-frame root\" role=\"graphics-object\" aria-roledescription=\"group mark container\"><g transform=\"translate(0,0)\"><path class=\"background\" aria-hidden=\"true\" d=\"M0.5,0.5h200v200h-200Z\" stroke=\"#ddd\"/><g><g class=\"mark-group role-axis\" aria-hidden=\"true\"><g transform=\"translate(0.5,200.5)\"><path class=\"background\" aria-hidden=\"true\" d=\"M0,0h0v0h0Z\" pointer-events=\"none\"/><g><g class=\"mark-rule role-axis-grid\" pointer-events=\"none\"><line transform=\"translate(0,-200)\" x2=\"0\" y2=\"200\" stroke=\"#ddd\" stroke-width=\"1\" opacity=\"1\"/><line transform=\"translate(42,-200)\" x2=\"0\" y2=\"200\" stroke=\"#ddd\" stroke-width=\"1\" opacity=\"1\"/><line transform=\"translate(83,-200)\" x2=\"0\" y2=\"200\" stroke=\"#ddd\" stroke-width=\"1\" opacity=\"1\"/><line transform=\"translate(125,-200)\" x2=\"0\" y2=\"200\" stroke=\"#ddd\" stroke-width=\"1\" opacity=\"1\"/><line transform=\"translate(167,-200)\" x2=\"0\" y2=\"200\" stroke=\"#ddd\" stroke-width=\"1\" opacity=\"1\"/></g></g><path class=\"foreground\" aria-hidden=\"true\" d=\"\" pointer-events=\"none\" display=\"none\"/></g></g><g class=\"mark-group role-axis\" aria-hidden=\"true\"><g transform=\"translate(0.5,0.5)\"><path class=\"background\" aria-hidden=\"true\" d=\"M0,0h0v0h0Z\" pointer-events=\"none\"/><g><g class=\"mark-rule role-axis-grid\" pointer-events=\"none\"><line transform=\"translate(0,200)\" x2=\"200\" y2=\"0\" stroke=\"#ddd\" stroke-width=\"1\" opacity=\"1\"/><line transform=\"translate(0,171)\" x2=\"200\" y2=\"0\" stroke=\"#ddd\" stroke-width=\"1\" opacity=\"1\"/><line transform=\"translate(0,143)\" x2=\"200\" y2=\"0\" stroke=\"#ddd\" stroke-width=\"1\" opacity=\"1\"/><line transform=\"translate(0,114)\" x2=\"200\" y2=\"0\" stroke=\"#ddd\" stroke-width=\"1\" opacity=\"1\"/><line transform=\"translate(0,86)\" x2=\"200\" y2=\"0\" stroke=\"#ddd\" stroke-width=\"1\" opacity=\"1\"/><line transform=\"translate(0,57)\" x2=\"200\" y2=\"0\" stroke=\"#ddd\" stroke-width=\"1\" opacity=\"1\"/><line transform=\"translate(0,29)\" x2=\"200\" y2=\"0\" stroke=\"#ddd\" stroke-width=\"1\" opacity=\"1\"/><line transform=\"translate(0,0)\" x2=\"200\" y2=\"0\" stroke=\"#ddd\" stroke-width=\"1\" opacity=\"1\"/></g></g><path class=\"foreground\" aria-hidden=\"true\" d=\"\" pointer-events=\"none\" display=\"none\"/></g></g><g class=\"mark-group role-axis\" role=\"graphics-symbol\" aria-roledescription=\"axis\" aria-label=\"X-axis titled 'hour' for a linear scale with values from 0 to 24\"><g transform=\"translate(0.5,200.5)\"><path class=\"background\" aria-hidden=\"true\" d=\"M0,0h0v0h0Z\" pointer-events=\"none\"/><g><g class=\"mark-rule role-axis-tick\" pointer-events=\"none\"><line transform=\"translate(0,0)\" x2=\"0\" y2=\"5\" stroke=\"#888\" stroke-width=\"1\" opacity=\"1\"/><line transform=\"translate(42,0)\" x2=\"0\" y2=\"5\" stroke=\"#888\" stroke-width=\"1\" opacity=\"1\"/><line transform=\"translate(83,0)\" x2=\"0\" y2=\"5\" stroke=\"#888\" stroke-width=\"1\" opacity=\"1\"/><line transform=\"translate(125,0)\" x2=\"0\" y2=\"5\" stroke=\"#888\" stroke-width=\"1\" opacity=\"1\"/><line transform=\"translate(167,0)\" x2=\"0\" y2=\"5\" stroke=\"#888\" stroke-width=\"1\" opacity=\"1\"/></g><g class=\"mark-text role-axis-label\" pointer-events=\"none\"><text text-anchor=\"start\" transform=\"translate(0,15)\" font-family=\"sans-serif\" font-size=\"10px\" fill=\"#000\" opacity=\"1\">0</text><text text-anchor=\"middle\" transform=\"translate(41.66666666666667,15)\" font-family=\"sans-serif\" font-size=\"10px\" fill=\"#000\" opacity=\"1\">5</text><text text-anchor=\"middle\" transform=\"translate(83.33333333333334,15)\" font-family=\"sans-serif\" font-size=\"10px\" fill=\"#000\" opacity=\"1\">10</text><text text-anchor=\"middle\" transform=\"translate(125,15)\" font-family=\"sans-serif\" font-size=\"10px\" fill=\"#000\" opacity=\"1\">15</text><text text-anchor=\"middle\" transform=\"translate(166.66666666666669,15)\" font-family=\"sans-serif\" font-size=\"10px\" fill=\"#000\" opacity=\"1\">20</text></g><g class=\"mark-rule role-axis-domain\" pointer-events=\"none\"><line transform=\"translate(0,0)\" x2=\"200\" y2=\"0\" stroke=\"#888\" stroke-width=\"1\" opacity=\"1\"/></g><g class=\"mark-text role-axis-title\" pointer-events=\"none\"><text text-anchor=\"middle\" transform=\"translate(100,30)\" font-family=\"sans-serif\" font-size=\"11px\" font-weight=\"bold\" fill=\"#000\" opacity=\"1\">hour</text></g></g><path class=\"foreground\" aria-hidden=\"true\" d=\"\" pointer-events=\"none\" display=\"none\"/></g></g><g class=\"mark-group role-axis\" role=\"graphics-symbol\" aria-roledescription=\"axis\" aria-label=\"Y-axis titled 'gen_sum' for a linear scale with values from 0 to 3,500\"><g transform=\"translate(0.5,0.5)\"><path class=\"background\" aria-hidden=\"true\" d=\"M0,0h0v0h0Z\" pointer-events=\"none\"/><g><g class=\"mark-rule role-axis-tick\" pointer-events=\"none\"><line transform=\"translate(0,200)\" x2=\"-5\" y2=\"0\" stroke=\"#888\" stroke-width=\"1\" opacity=\"1\"/><line transform=\"translate(0,171)\" x2=\"-5\" y2=\"0\" stroke=\"#888\" stroke-width=\"1\" opacity=\"1\"/><line transform=\"translate(0,143)\" x2=\"-5\" y2=\"0\" stroke=\"#888\" stroke-width=\"1\" opacity=\"1\"/><line transform=\"translate(0,114)\" x2=\"-5\" y2=\"0\" stroke=\"#888\" stroke-width=\"1\" opacity=\"1\"/><line transform=\"translate(0,86)\" x2=\"-5\" y2=\"0\" stroke=\"#888\" stroke-width=\"1\" opacity=\"1\"/><line transform=\"translate(0,57)\" x2=\"-5\" y2=\"0\" stroke=\"#888\" stroke-width=\"1\" opacity=\"1\"/><line transform=\"translate(0,29)\" x2=\"-5\" y2=\"0\" stroke=\"#888\" stroke-width=\"1\" opacity=\"1\"/><line transform=\"translate(0,0)\" x2=\"-5\" y2=\"0\" stroke=\"#888\" stroke-width=\"1\" opacity=\"1\"/></g><g class=\"mark-text role-axis-label\" pointer-events=\"none\"><text text-anchor=\"end\" transform=\"translate(-7,203)\" font-family=\"sans-serif\" font-size=\"10px\" fill=\"#000\" opacity=\"1\">0</text><text text-anchor=\"end\" transform=\"translate(-7,174.42857142857144)\" font-family=\"sans-serif\" font-size=\"10px\" fill=\"#000\" opacity=\"1\">500</text><text text-anchor=\"end\" transform=\"translate(-7,145.85714285714286)\" font-family=\"sans-serif\" font-size=\"10px\" fill=\"#000\" opacity=\"1\">1,000</text><text text-anchor=\"end\" transform=\"translate(-7,117.28571428571428)\" font-family=\"sans-serif\" font-size=\"10px\" fill=\"#000\" opacity=\"1\">1,500</text><text text-anchor=\"end\" transform=\"translate(-7,88.71428571428572)\" font-family=\"sans-serif\" font-size=\"10px\" fill=\"#000\" opacity=\"1\">2,000</text><text text-anchor=\"end\" transform=\"translate(-7,60.14285714285714)\" font-family=\"sans-serif\" font-size=\"10px\" fill=\"#000\" opacity=\"1\">2,500</text><text text-anchor=\"end\" transform=\"translate(-7,31.57142857142858)\" font-family=\"sans-serif\" font-size=\"10px\" fill=\"#000\" opacity=\"1\">3,000</text><text text-anchor=\"end\" transform=\"translate(-7,3)\" font-family=\"sans-serif\" font-size=\"10px\" fill=\"#000\" opacity=\"1\">3,500</text></g><g class=\"mark-rule role-axis-domain\" pointer-events=\"none\"><line transform=\"translate(0,200)\" x2=\"0\" y2=\"-200\" stroke=\"#888\" stroke-width=\"1\" opacity=\"1\"/></g><g class=\"mark-text role-axis-title\" pointer-events=\"none\"><text text-anchor=\"middle\" transform=\"translate(-38,100) rotate(-90) translate(0,-2)\" font-family=\"sans-serif\" font-size=\"11px\" font-weight=\"bold\" fill=\"#000\" opacity=\"1\">gen_sum</text></g></g><path class=\"foreground\" aria-hidden=\"true\" d=\"\" pointer-events=\"none\" display=\"none\"/></g></g><g class=\"mark-group role-scope pathgroup\" role=\"graphics-object\" aria-roledescription=\"group mark container\"><g transform=\"translate(0,0)\"><path class=\"background\" aria-hidden=\"true\" d=\"M0,0h200v200h-200Z\"/><g><g class=\"mark-area role-mark marks\" role=\"graphics-object\" aria-roledescription=\"area mark container\"><path aria-label=\"hour: 0; gen_sum: 21.4; resource: biomass\" role=\"graphics-symbol\" aria-roledescription=\"area mark\" d=\"M0,117.22821325714285L8.333333333333332,121.14161211428569L16.666666666666664,120.01687611428571L25,116.67073668571426L33.33333333333333,105.75784068571426L41.66666666666667,95.22067954285714L50,85.53798697142858L58.333333333333336,98.82333554285714L66.66666666666666,143.0937766857143L75,150.09690811428572L83.33333333333334,148.74448754285714L91.66666666666666,158.91114354285716L100,173.6548457142857L108.33333333333333,173.6548457142857L116.66666666666667,173.6548457142857L125,173.6548457142857L133.33333333333331,158.6097264L141.66666666666669,133.7373606857143L150,76.84289211428572L158.33333333333331,60.77790925714284L166.66666666666669,61.091527542857115L175,76.64191840000001L183.33333333333331,93.80880297142858L191.66666666666669,107.86320297142858L191.66666666666669,109.08606011428571L183.33333333333331,95.03166011428573L175,77.86477554285716L166.66666666666669,62.314384685714266L158.33333333333331,62.00076639999998L150,78.06574925714287L141.66666666666669,134.96021782857144L133.33333333333331,159.83258354285715L125,173.6548457142857L116.66666666666667,173.6548457142857L108.33333333333333,173.6548457142857L100,173.6548457142857L91.66666666666666,160.1340006857143L83.33333333333334,149.9673446857143L75,151.31976525714288L66.66666666666666,144.31663382857144L58.333333333333336,100.04619268571429L50,86.76084411428573L41.66666666666667,96.44353668571428L33.33333333333333,106.98069782857141L25,117.89359382857141L16.666666666666664,121.23973325714286L8.333333333333332,122.36446925714284L0,118.4510704Z\" fill=\"#8c564b\"/></g></g><path class=\"foreground\" aria-hidden=\"true\" d=\"\" display=\"none\"/></g><g transform=\"translate(0,0)\"><path class=\"background\" aria-hidden=\"true\" d=\"M0,0h200v200h-200Z\"/><g><g class=\"mark-area role-mark marks\" role=\"graphics-object\" aria-roledescription=\"area mark container\"><path aria-label=\"hour: 0; gen_sum: 42; resource: hydroelectric_pumped_storage\" role=\"graphics-symbol\" aria-roledescription=\"area mark\" d=\"M0,118.4510704L8.333333333333332,122.36446925714284L16.666666666666664,121.23973325714286L25,117.89359382857141L33.33333333333333,106.98069782857141L41.66666666666667,96.44353668571428L50,86.76084411428573L58.333333333333336,100.04619268571429L66.66666666666666,144.31663382857144L75,151.31976525714288L83.33333333333334,149.9673446857143L91.66666666666666,160.1340006857143L100,173.6548457142857L108.33333333333333,173.6548457142857L116.66666666666667,173.6548457142857L125,173.6548457142857L133.33333333333331,159.83258354285715L141.66666666666669,134.96021782857144L150,78.06574925714287L158.33333333333331,62.00076639999998L166.66666666666669,62.314384685714266L175,77.86477554285716L183.33333333333331,95.03166011428573L191.66666666666669,109.08606011428571L191.66666666666669,111.48606011428572L183.33333333333331,97.4316601142857L175,80.26477554285717L166.66666666666669,64.71438468571426L158.33333333333331,64.40076639999998L150,80.46574925714287L141.66666666666669,137.36021782857142L133.33333333333331,162.23258354285713L125,173.6548457142857L116.66666666666667,173.6548457142857L108.33333333333333,173.6548457142857L100,173.6548457142857L91.66666666666666,162.5340006857143L83.33333333333334,152.3673446857143L75,153.71976525714288L66.66666666666666,146.71663382857142L58.333333333333336,102.4461926857143L50,89.16084411428574L41.66666666666667,98.84353668571428L33.33333333333333,109.3806978285714L25,120.2935938285714L16.666666666666664,123.63973325714286L8.333333333333332,124.76446925714284L0,120.8510704Z\" fill=\"#e377c2\"/></g></g><path class=\"foreground\" aria-hidden=\"true\" d=\"\" display=\"none\"/></g><g transform=\"translate(0,0)\"><path class=\"background\" aria-hidden=\"true\" d=\"M0,0h200v200h-200Z\"/><g><g class=\"mark-area role-mark marks\" role=\"graphics-object\" aria-roledescription=\"area mark container\"><path aria-label=\"hour: 0; gen_sum: 1352.798468; resource: natural_gas_fired_combined_cycle\" role=\"graphics-symbol\" aria-roledescription=\"area mark\" d=\"M0,120.8510704L8.333333333333332,124.76446925714284L16.666666666666664,123.63973325714286L25,120.2935938285714L33.33333333333333,109.3806978285714L41.66666666666667,98.84353668571428L50,89.16084411428574L58.333333333333336,102.4461926857143L66.66666666666666,146.71663382857142L75,153.71976525714288L83.33333333333334,152.3673446857143L91.66666666666666,162.5340006857143L100,173.6548457142857L108.33333333333333,173.6548457142857L116.66666666666667,173.6548457142857L125,173.6548457142857L133.33333333333331,162.23258354285713L141.66666666666669,137.36021782857142L150,80.46574925714287L158.33333333333331,64.40076639999998L166.66666666666669,64.71438468571426L175,80.26477554285717L183.33333333333331,97.4316601142857L191.66666666666669,111.48606011428572L191.66666666666669,200L183.33333333333331,188.4316601142857L175,171.26477554285714L166.66666666666669,155.71438468571426L158.33333333333331,155.40076639999998L150,171.46574925714287L141.66666666666669,200L133.33333333333331,200L125,200L116.66666666666667,200L108.33333333333333,200L100,200L91.66666666666666,200L83.33333333333334,200L75,200L66.66666666666666,200L58.333333333333336,200L50,198.15384L41.66666666666667,198.15384L33.33333333333333,198.15384L25,198.15384L16.666666666666664,198.15384L8.333333333333332,198.15384L0,198.15384Z\" fill=\"#7f7f7f\"/></g></g><path class=\"foreground\" aria-hidden=\"true\" d=\"\" display=\"none\"/></g><g transform=\"translate(0,0)\"><path class=\"background\" aria-hidden=\"true\" d=\"M0,0h200v200h-200Z\"/><g><g class=\"mark-area role-mark marks\" role=\"graphics-object\" aria-roledescription=\"area mark container\"><path aria-label=\"hour: 0; gen_sum: 32.3078; resource: natural_gas_fired_combustion_turbine\" role=\"graphics-symbol\" aria-roledescription=\"area mark\" d=\"M0,198.15384L8.333333333333332,198.15384L16.666666666666664,198.15384L25,198.15384L33.33333333333333,198.15384L41.66666666666667,198.15384L50,198.15384L58.333333333333336,200L66.66666666666666,200L75,200L83.33333333333334,200L91.66666666666666,200L100,200L108.33333333333333,200L116.66666666666667,200L125,200L133.33333333333331,200L141.66666666666669,200L150,171.46574925714287L158.33333333333331,155.40076639999998L166.66666666666669,155.71438468571426L175,171.26477554285714L183.33333333333331,188.4316601142857L191.66666666666669,200L191.66666666666669,200L183.33333333333331,200L175,200L166.66666666666669,200L158.33333333333331,200L150,200L141.66666666666669,200L133.33333333333331,200L125,200L116.66666666666667,200L108.33333333333333,200L100,200L91.66666666666666,200L83.33333333333334,200L75,200L66.66666666666666,200L58.333333333333336,200L50,200L41.66666666666667,200L33.33333333333333,200L25,200L16.666666666666664,200L8.333333333333332,200L0,200Z\" fill=\"#bcbd22\"/></g></g><path class=\"foreground\" aria-hidden=\"true\" d=\"\" display=\"none\"/></g><g transform=\"translate(0,0)\"><path class=\"background\" aria-hidden=\"true\" d=\"M0,0h200v200h-200Z\"/><g><g class=\"mark-area role-mark marks\" role=\"graphics-object\" aria-roledescription=\"area mark container\"><path aria-label=\"hour: 0; gen_sum: 163.3088; resource: _onshore_wind_turbine\" role=\"graphics-symbol\" aria-roledescription=\"area mark\" d=\"M0,107.71428571428572L8.333333333333332,111.25714285714285L16.666666666666664,113.25714285714285L25,110.74285714285712L33.33333333333333,100.97142857142856L41.66666666666667,87.08571428571427L50,68.16114285714288L58.333333333333336,44.019428571428556L66.66666666666666,21.453714285714298L75,7.518857142857138L83.33333333333334,0.7234285714285305L91.66666666666666,9.637714285714294L100,21.156571428571414L108.33333333333333,25.525714285714287L116.66666666666667,31.288000000000004L125,38.64571428571426L133.33333333333331,45.56114285714283L141.66666666666669,53.248000000000005L150,62.478857142857166L158.33333333333331,57.08571428571425L166.66666666666669,56.79999999999998L175,70.97142857142858L183.33333333333331,86.4L191.66666666666669,99.42857142857144L191.66666666666669,107.68120685714287L183.33333333333331,93.62680685714287L175,76.45992228571427L166.66666666666669,60.909531428571405L158.33333333333331,60.59591314285713L150,65.48546742857147L141.66666666666669,57.74050742857144L133.33333333333331,48.828873142857134L125,40.0471353142857L116.66666666666667,31.288000000000004L108.33333333333333,25.525714285714287L100,22.452278171428564L91.66666666666666,14.901147428571448L83.33333333333334,7.077348571428543L75,15.036626285714272L66.66666666666666,31.01692342857143L58.333333333333336,46.84076799999997L50,72.39999085714285L41.66666666666667,95.03868342857143L33.33333333333333,105.57584457142855L25,116.48874057142855L16.666666666666664,119.83488L8.333333333333332,120.95961599999998L0,117.04621714285715Z\" fill=\"#ff7f0e\"/></g></g><path class=\"foreground\" aria-hidden=\"true\" d=\"\" display=\"none\"/></g><g transform=\"translate(0,0)\"><path class=\"background\" aria-hidden=\"true\" d=\"M0,0h200v200h-200Z\"/><g><g class=\"mark-area role-mark marks\" role=\"graphics-object\" aria-roledescription=\"area mark container\"><path aria-label=\"hour: 0; gen_sum: 3.184932; resource: _small_hydroelectric\" role=\"graphics-symbol\" aria-roledescription=\"area mark\" d=\"M0,117.04621714285715L8.333333333333332,120.95961599999998L16.666666666666664,119.83488L25,116.48874057142855L33.33333333333333,105.57584457142855L41.66666666666667,95.03868342857143L50,72.39999085714285L58.333333333333336,46.84076799999997L66.66666666666666,31.01692342857143L75,15.036626285714272L83.33333333333334,7.077348571428543L91.66666666666666,14.901147428571448L100,22.452278171428564L108.33333333333333,25.525714285714287L116.66666666666667,31.288000000000004L125,40.0471353142857L133.33333333333331,48.828873142857134L141.66666666666669,57.74050742857144L150,65.48546742857147L158.33333333333331,60.59591314285713L166.66666666666669,60.909531428571405L175,76.45992228571427L183.33333333333331,93.62680685714287L191.66666666666669,107.68120685714287L191.66666666666669,107.86320297142858L183.33333333333331,93.80880297142858L175,76.64191840000001L166.66666666666669,61.091527542857115L158.33333333333331,60.77790925714284L150,65.66746354285718L141.66666666666669,57.92250354285715L133.33333333333331,49.010869257142865L125,40.22913142857141L116.66666666666667,31.288000000000004L108.33333333333333,25.525714285714287L100,22.634274285714273L91.66666666666666,15.083143542857158L83.33333333333334,7.259344685714253L75,15.218622399999981L66.66666666666666,31.19891954285714L58.333333333333336,47.0227641142857L50,72.58198697142856L41.66666666666667,95.22067954285714L33.33333333333333,105.75784068571426L25,116.67073668571426L16.666666666666664,120.01687611428571L8.333333333333332,121.14161211428569L0,117.22821325714285Z\" fill=\"#2ca02c\"/></g></g><path class=\"foreground\" aria-hidden=\"true\" d=\"\" display=\"none\"/></g><g transform=\"translate(0,0)\"><path class=\"background\" aria-hidden=\"true\" d=\"M0,0h200v200h-200Z\"/><g><g class=\"mark-area role-mark marks\" role=\"graphics-object\" aria-roledescription=\"area mark container\"><path aria-label=\"hour: 0; gen_sum: 0; resource: _solar_photovoltaic\" role=\"graphics-symbol\" aria-roledescription=\"area mark\" d=\"M0,117.22821325714285L8.333333333333332,121.14161211428569L16.666666666666664,120.01687611428571L25,116.67073668571426L33.33333333333333,105.75784068571426L41.66666666666667,95.22067954285714L50,72.58198697142856L58.333333333333336,47.0227641142857L66.66666666666666,31.19891954285714L75,15.218622399999981L83.33333333333334,7.259344685714253L91.66666666666666,15.083143542857158L100,22.634274285714273L108.33333333333333,25.525714285714287L116.66666666666667,31.288000000000004L125,40.22913142857141L133.33333333333331,49.010869257142865L141.66666666666669,57.92250354285715L150,65.66746354285718L158.33333333333331,60.77790925714284L166.66666666666669,61.091527542857115L175,76.64191840000001L183.33333333333331,93.80880297142858L191.66666666666669,107.86320297142858L191.66666666666669,107.86320297142858L183.33333333333331,93.80880297142858L175,76.64191840000001L166.66666666666669,61.091527542857115L158.33333333333331,60.77790925714284L150,75.20746354285717L141.66666666666669,122.64250354285716L133.33333333333331,142.57086925714285L125,154.12913142857144L116.66666666666667,152.25713142857143L108.33333333333333,151.52341714285714L100,151.55427428571429L91.66666666666666,137.86314354285716L83.33333333333334,128.0393446857143L75,130.3586224L66.66666666666666,126.71891954285715L58.333333333333336,91.2427641142857L50,83.64198697142857L41.66666666666667,95.22067954285714L33.33333333333333,105.75784068571426L25,116.67073668571426L16.666666666666664,120.01687611428571L8.333333333333332,121.14161211428569L0,117.22821325714285Z\" fill=\"#d62728\"/></g></g><path class=\"foreground\" aria-hidden=\"true\" d=\"\" display=\"none\"/></g><g transform=\"translate(0,0)\"><path class=\"background\" aria-hidden=\"true\" d=\"M0,0h200v200h-200Z\"/><g><g class=\"mark-area role-mark marks\" role=\"graphics-object\" aria-roledescription=\"area mark container\"><path aria-label=\"hour: 0; gen_sum: 0; resource: _solar_photovoltaic_btm\" role=\"graphics-symbol\" aria-roledescription=\"area mark\" d=\"M0,117.22821325714285L8.333333333333332,121.14161211428569L16.666666666666664,120.01687611428571L25,116.67073668571426L33.33333333333333,105.75784068571426L41.66666666666667,95.22067954285714L50,83.64198697142857L58.333333333333336,91.2427641142857L66.66666666666666,126.71891954285715L75,130.3586224L83.33333333333334,128.0393446857143L91.66666666666666,137.86314354285716L100,151.55427428571429L108.33333333333333,151.52341714285714L116.66666666666667,152.25713142857143L125,154.12913142857144L133.33333333333331,142.57086925714285L141.66666666666669,122.64250354285716L150,75.20746354285717L158.33333333333331,60.77790925714284L166.66666666666669,61.091527542857115L175,76.64191840000001L183.33333333333331,93.80880297142858L191.66666666666669,107.86320297142858L191.66666666666669,107.86320297142858L183.33333333333331,93.80880297142858L175,76.64191840000001L166.66666666666669,61.091527542857115L158.33333333333331,60.77790925714284L150,76.84289211428572L141.66666666666669,133.7373606857143L133.33333333333331,158.6097264L125,173.6548457142857L116.66666666666667,173.6548457142857L108.33333333333333,173.6548457142857L100,173.6548457142857L91.66666666666666,158.91114354285716L83.33333333333334,148.74448754285714L75,150.09690811428572L66.66666666666666,143.0937766857143L58.333333333333336,98.82333554285714L50,85.53798697142858L41.66666666666667,95.22067954285714L33.33333333333333,105.75784068571426L25,116.67073668571426L16.666666666666664,120.01687611428571L8.333333333333332,121.14161211428569L0,117.22821325714285Z\" fill=\"#9467bd\"/></g></g><path class=\"foreground\" aria-hidden=\"true\" d=\"\" display=\"none\"/></g><g transform=\"translate(0,0)\"><path class=\"background\" aria-hidden=\"true\" d=\"M0,0h200v200h-200Z\"/><g><g class=\"mark-area role-mark marks\" role=\"graphics-object\" aria-roledescription=\"area mark container\"><path aria-label=\"hour: 0; gen_sum: 0; resource: _curtailment\" role=\"graphics-symbol\" aria-roledescription=\"area mark\" d=\"M0,107.71428571428572L8.333333333333332,111.25714285714285L16.666666666666664,113.25714285714285L25,110.74285714285712L33.33333333333333,100.97142857142856L41.66666666666667,87.08571428571427L50,68.16114285714288L58.333333333333336,44.019428571428556L66.66666666666666,21.453714285714298L75,7.518857142857138L83.33333333333334,0.7234285714285305L91.66666666666666,9.637714285714294L100,19.475510171428567L108.33333333333333,18.544707885714296L116.66666666666667,24.442499885714298L125,36.309389028571395L133.33333333333331,45.56114285714283L141.66666666666669,53.248000000000005L150,62.478857142857166L158.33333333333331,57.08571428571425L166.66666666666669,56.79999999999998L175,70.97142857142858L183.33333333333331,86.4L191.66666666666669,99.42857142857144L191.66666666666669,99.42857142857144L183.33333333333331,86.4L175,70.97142857142858L166.66666666666669,56.79999999999998L158.33333333333331,57.08571428571425L150,62.478857142857166L141.66666666666669,53.248000000000005L133.33333333333331,45.56114285714283L125,38.64571428571426L116.66666666666667,31.288000000000004L108.33333333333333,25.525714285714287L100,21.156571428571414L91.66666666666666,9.637714285714294L83.33333333333334,0.7234285714285305L75,7.518857142857138L66.66666666666666,21.453714285714298L58.333333333333336,44.019428571428556L50,68.16114285714288L41.66666666666667,87.08571428571427L33.33333333333333,100.97142857142856L25,110.74285714285712L16.666666666666664,113.25714285714285L8.333333333333332,111.25714285714285L0,107.71428571428572Z\" fill=\"#1f77b4\"/></g></g><path class=\"foreground\" aria-hidden=\"true\" d=\"\" display=\"none\"/></g></g><g class=\"mark-group role-legend\" role=\"graphics-symbol\" aria-roledescription=\"legend\" aria-label=\"Symbol legend titled 'resource' for fill color with 9 values: _curtailment, _onshore_wind_turbine, _small_hydroelectric, _solar_photovoltaic, _solar_photovoltaic_btm, ending with natural_gas_fired_combustion_turbine\"><g transform=\"translate(218,0)\"><path class=\"background\" aria-hidden=\"true\" d=\"M0,0h175v131h-175Z\" pointer-events=\"none\"/><g><g class=\"mark-group role-legend-entry\"><g transform=\"translate(0,16)\"><path class=\"background\" aria-hidden=\"true\" d=\"M0,0h0v0h0Z\" pointer-events=\"none\"/><g><g class=\"mark-group role-scope\" role=\"graphics-object\" aria-roledescription=\"group mark container\"><g transform=\"translate(0,0)\"><path class=\"background\" aria-hidden=\"true\" d=\"M0,0h175v11h-175Z\" pointer-events=\"none\" opacity=\"1\"/><g><g class=\"mark-symbol role-legend-symbol\" pointer-events=\"none\"><path transform=\"translate(6,6)\" d=\"M5,0A5,5,0,1,1,-5,0A5,5,0,1,1,5,0\" fill=\"#1f77b4\" stroke-width=\"1.5\" opacity=\"1\"/></g><g class=\"mark-text role-legend-label\" pointer-events=\"none\"><text text-anchor=\"start\" transform=\"translate(16,9)\" font-family=\"sans-serif\" font-size=\"10px\" fill=\"#000\" opacity=\"1\">_curtailment</text></g></g><path class=\"foreground\" aria-hidden=\"true\" d=\"\" pointer-events=\"none\" display=\"none\"/></g><g transform=\"translate(0,13)\"><path class=\"background\" aria-hidden=\"true\" d=\"M0,0h175v11h-175Z\" pointer-events=\"none\" opacity=\"1\"/><g><g class=\"mark-symbol role-legend-symbol\" pointer-events=\"none\"><path transform=\"translate(6,6)\" d=\"M5,0A5,5,0,1,1,-5,0A5,5,0,1,1,5,0\" fill=\"#ff7f0e\" stroke-width=\"1.5\" opacity=\"1\"/></g><g class=\"mark-text role-legend-label\" pointer-events=\"none\"><text text-anchor=\"start\" transform=\"translate(16,9)\" font-family=\"sans-serif\" font-size=\"10px\" fill=\"#000\" opacity=\"1\">_onshore_wind_turbine</text></g></g><path class=\"foreground\" aria-hidden=\"true\" d=\"\" pointer-events=\"none\" display=\"none\"/></g><g transform=\"translate(0,26)\"><path class=\"background\" aria-hidden=\"true\" d=\"M0,0h175v11h-175Z\" pointer-events=\"none\" opacity=\"1\"/><g><g class=\"mark-symbol role-legend-symbol\" pointer-events=\"none\"><path transform=\"translate(6,6)\" d=\"M5,0A5,5,0,1,1,-5,0A5,5,0,1,1,5,0\" fill=\"#2ca02c\" stroke-width=\"1.5\" opacity=\"1\"/></g><g class=\"mark-text role-legend-label\" pointer-events=\"none\"><text text-anchor=\"start\" transform=\"translate(16,9)\" font-family=\"sans-serif\" font-size=\"10px\" fill=\"#000\" opacity=\"1\">_small_hydroelectric</text></g></g><path class=\"foreground\" aria-hidden=\"true\" d=\"\" pointer-events=\"none\" display=\"none\"/></g><g transform=\"translate(0,39)\"><path class=\"background\" aria-hidden=\"true\" d=\"M0,0h175v11h-175Z\" pointer-events=\"none\" opacity=\"1\"/><g><g class=\"mark-symbol role-legend-symbol\" pointer-events=\"none\"><path transform=\"translate(6,6)\" d=\"M5,0A5,5,0,1,1,-5,0A5,5,0,1,1,5,0\" fill=\"#d62728\" stroke-width=\"1.5\" opacity=\"1\"/></g><g class=\"mark-text role-legend-label\" pointer-events=\"none\"><text text-anchor=\"start\" transform=\"translate(16,9)\" font-family=\"sans-serif\" font-size=\"10px\" fill=\"#000\" opacity=\"1\">_solar_photovoltaic</text></g></g><path class=\"foreground\" aria-hidden=\"true\" d=\"\" pointer-events=\"none\" display=\"none\"/></g><g transform=\"translate(0,52)\"><path class=\"background\" aria-hidden=\"true\" d=\"M0,0h175v11h-175Z\" pointer-events=\"none\" opacity=\"1\"/><g><g class=\"mark-symbol role-legend-symbol\" pointer-events=\"none\"><path transform=\"translate(6,6)\" d=\"M5,0A5,5,0,1,1,-5,0A5,5,0,1,1,5,0\" fill=\"#9467bd\" stroke-width=\"1.5\" opacity=\"1\"/></g><g class=\"mark-text role-legend-label\" pointer-events=\"none\"><text text-anchor=\"start\" transform=\"translate(16,9)\" font-family=\"sans-serif\" font-size=\"10px\" fill=\"#000\" opacity=\"1\">_solar_photovoltaic_btm</text></g></g><path class=\"foreground\" aria-hidden=\"true\" d=\"\" pointer-events=\"none\" display=\"none\"/></g><g transform=\"translate(0,65)\"><path class=\"background\" aria-hidden=\"true\" d=\"M0,0h175v11h-175Z\" pointer-events=\"none\" opacity=\"1\"/><g><g class=\"mark-symbol role-legend-symbol\" pointer-events=\"none\"><path transform=\"translate(6,6)\" d=\"M5,0A5,5,0,1,1,-5,0A5,5,0,1,1,5,0\" fill=\"#8c564b\" stroke-width=\"1.5\" opacity=\"1\"/></g><g class=\"mark-text role-legend-label\" pointer-events=\"none\"><text text-anchor=\"start\" transform=\"translate(16,9)\" font-family=\"sans-serif\" font-size=\"10px\" fill=\"#000\" opacity=\"1\">biomass</text></g></g><path class=\"foreground\" aria-hidden=\"true\" d=\"\" pointer-events=\"none\" display=\"none\"/></g><g transform=\"translate(0,78)\"><path class=\"background\" aria-hidden=\"true\" d=\"M0,0h175v11h-175Z\" pointer-events=\"none\" opacity=\"1\"/><g><g class=\"mark-symbol role-legend-symbol\" pointer-events=\"none\"><path transform=\"translate(6,6)\" d=\"M5,0A5,5,0,1,1,-5,0A5,5,0,1,1,5,0\" fill=\"#e377c2\" stroke-width=\"1.5\" opacity=\"1\"/></g><g class=\"mark-text role-legend-label\" pointer-events=\"none\"><text text-anchor=\"start\" transform=\"translate(16,9)\" font-family=\"sans-serif\" font-size=\"10px\" fill=\"#000\" opacity=\"1\">hydroelectric_pumped_storage</text></g></g><path class=\"foreground\" aria-hidden=\"true\" d=\"\" pointer-events=\"none\" display=\"none\"/></g><g transform=\"translate(0,91)\"><path class=\"background\" aria-hidden=\"true\" d=\"M0,0h175v11h-175Z\" pointer-events=\"none\" opacity=\"1\"/><g><g class=\"mark-symbol role-legend-symbol\" pointer-events=\"none\"><path transform=\"translate(6,6)\" d=\"M5,0A5,5,0,1,1,-5,0A5,5,0,1,1,5,0\" fill=\"#7f7f7f\" stroke-width=\"1.5\" opacity=\"1\"/></g><g class=\"mark-text role-legend-label\" pointer-events=\"none\"><text text-anchor=\"start\" transform=\"translate(16,9)\" font-family=\"sans-serif\" font-size=\"10px\" fill=\"#000\" opacity=\"1\">natural_gas_fired_combined_cy…</text></g></g><path class=\"foreground\" aria-hidden=\"true\" d=\"\" pointer-events=\"none\" display=\"none\"/></g><g transform=\"translate(0,104)\"><path class=\"background\" aria-hidden=\"true\" d=\"M0,0h175v11h-175Z\" pointer-events=\"none\" opacity=\"1\"/><g><g class=\"mark-symbol role-legend-symbol\" pointer-events=\"none\"><path transform=\"translate(6,6)\" d=\"M5,0A5,5,0,1,1,-5,0A5,5,0,1,1,5,0\" fill=\"#bcbd22\" stroke-width=\"1.5\" opacity=\"1\"/></g><g class=\"mark-text role-legend-label\" pointer-events=\"none\"><text text-anchor=\"start\" transform=\"translate(16,9)\" font-family=\"sans-serif\" font-size=\"10px\" fill=\"#000\" opacity=\"1\">natural_gas_fired_combustion_t…</text></g></g><path class=\"foreground\" aria-hidden=\"true\" d=\"\" pointer-events=\"none\" display=\"none\"/></g></g></g><path class=\"foreground\" aria-hidden=\"true\" d=\"\" pointer-events=\"none\" display=\"none\"/></g></g><g class=\"mark-text role-legend-title\" pointer-events=\"none\"><text text-anchor=\"start\" transform=\"translate(0,9)\" font-family=\"sans-serif\" font-size=\"11px\" font-weight=\"bold\" fill=\"#000\" opacity=\"1\">resource</text></g></g><path class=\"foreground\" aria-hidden=\"true\" d=\"\" pointer-events=\"none\" display=\"none\"/></g></g></g><path class=\"foreground\" aria-hidden=\"true\" d=\"\" display=\"none\"/></g></g></g></svg>\n"
      ],
      "text/plain": [
       "@vlplot(\n",
       "    mark=\"area\",\n",
       "    encoding={\n",
       "        x={\n",
       "            field=\"hour\"\n",
       "        },\n",
       "        y={\n",
       "            stack=\"zero\",\n",
       "            field=\"gen_sum\"\n",
       "        },\n",
       "        color={\n",
       "            scale={\n",
       "                scheme=\"category10\"\n",
       "            },\n",
       "            field=\"resource\",\n",
       "            type=\"nominal\"\n",
       "        }\n",
       "    },\n",
       "    data={\n",
       "        values=...\n",
       "    }\n",
       ")"
      ]
     },
     "execution_count": 29,
     "metadata": {},
     "output_type": "execute_result"
    }
   ],
   "source": [
    "solution = unit_commitment_ramp(\n",
    "    gen_df_sens, loads_multi, gen_variable_multi, 0.01); # 1% MIP gap\n",
    "\n",
    "# Add in BTM solar and curtailment and plot results\n",
    "\n",
    "sol_gen = innerjoin(solution.gen, \n",
    "                    gen_df[!, [:r_id, :resource]], \n",
    "                    on = :r_id)\n",
    "sol_gen = combine(groupby(sol_gen, [:resource, :hour]), \n",
    "            :gen => sum)\n",
    "\n",
    "# Rename generators (for plotting purposes)\n",
    "sol_gen[sol_gen.resource .== \"solar_photovoltaic\", :resource] .= \"_solar_photovoltaic\"\n",
    "sol_gen[sol_gen.resource .== \"onshore_wind_turbine\", :resource] .= \"_onshore_wind_turbine\"\n",
    "sol_gen[sol_gen.resource .== \"small_hydroelectric\", :resource] .= \"_small_hydroelectric\"\n",
    "\n",
    "# BTM solar\n",
    "btm = DataFrame(resource = repeat([\"_solar_photovoltaic_btm\"]; outer=length(T_period)), \n",
    "    hour = T_period,\n",
    "    gen_sum = gen_variable_multi[gen_variable_multi.gen_full .== \"wec_sdge_solar_photovoltaic_1.0\",:cf] * 600)\n",
    "append!(sol_gen, btm)\n",
    "\n",
    "# Curtailment\n",
    "curtail = combine(groupby(solution.curtail, [:hour]),\n",
    "            :curt => sum)\n",
    "curtail[!, :resource] .= \"_curtailment\"\n",
    "rename!(curtail, :curt_sum => :gen_sum)\n",
    "append!(sol_gen, curtail[:,[:resource, :hour, :gen_sum]])\n",
    "\n",
    "# Rescale hours\n",
    "sol_gen.hour = sol_gen.hour .- T_period[1]\n",
    "\n",
    "sol_gen |>\n",
    "@vlplot(:area, \n",
    "    x=:hour, y={:gen_sum, stack=:zero}, \n",
    "    color={\"resource:n\", scale={scheme=\"category10\"}})"
   ]
  },
  {
   "cell_type": "markdown",
   "metadata": {},
   "source": [
    "In contrast to when we added ramp constraints to the Economic Dispatch problem, adding ramp constraints to our Unit Commitment formulation does not change the solution as much (at least in this case). Much of the inflexibility here arises from the unit commitment constraints, and once committed, there is ample ramping capability. We do however get relatively more combustion turbines running to meet the evening ramp, given their faster ramp rates."
   ]
  },
  {
   "cell_type": "code",
   "execution_count": 30,
   "metadata": {},
   "outputs": [
    {
     "data": {
      "application/vnd.vegalite.v4+json": {
       "data": {
        "values": [
         {
          "gen_sum": 6,
          "hour": 0,
          "resource": "natural_gas_fired_combined_cycle"
         },
         {
          "gen_sum": 1,
          "hour": 0,
          "resource": "natural_gas_fired_combustion_turbine"
         },
         {
          "gen_sum": 6,
          "hour": 1,
          "resource": "natural_gas_fired_combined_cycle"
         },
         {
          "gen_sum": 1,
          "hour": 1,
          "resource": "natural_gas_fired_combustion_turbine"
         },
         {
          "gen_sum": 6,
          "hour": 2,
          "resource": "natural_gas_fired_combined_cycle"
         },
         {
          "gen_sum": 1,
          "hour": 2,
          "resource": "natural_gas_fired_combustion_turbine"
         },
         {
          "gen_sum": 6,
          "hour": 3,
          "resource": "natural_gas_fired_combined_cycle"
         },
         {
          "gen_sum": 1,
          "hour": 3,
          "resource": "natural_gas_fired_combustion_turbine"
         },
         {
          "gen_sum": 6,
          "hour": 4,
          "resource": "natural_gas_fired_combined_cycle"
         },
         {
          "gen_sum": 1,
          "hour": 4,
          "resource": "natural_gas_fired_combustion_turbine"
         },
         {
          "gen_sum": 6,
          "hour": 5,
          "resource": "natural_gas_fired_combined_cycle"
         },
         {
          "gen_sum": 1,
          "hour": 5,
          "resource": "natural_gas_fired_combustion_turbine"
         },
         {
          "gen_sum": 6,
          "hour": 6,
          "resource": "natural_gas_fired_combined_cycle"
         },
         {
          "gen_sum": 1,
          "hour": 6,
          "resource": "natural_gas_fired_combustion_turbine"
         },
         {
          "gen_sum": 6,
          "hour": 7,
          "resource": "natural_gas_fired_combined_cycle"
         },
         {
          "gen_sum": 0,
          "hour": 7,
          "resource": "natural_gas_fired_combustion_turbine"
         },
         {
          "gen_sum": 4,
          "hour": 8,
          "resource": "natural_gas_fired_combined_cycle"
         },
         {
          "gen_sum": 0,
          "hour": 8,
          "resource": "natural_gas_fired_combustion_turbine"
         },
         {
          "gen_sum": 4,
          "hour": 9,
          "resource": "natural_gas_fired_combined_cycle"
         },
         {
          "gen_sum": 0,
          "hour": 9,
          "resource": "natural_gas_fired_combustion_turbine"
         },
         {
          "gen_sum": 4,
          "hour": 10,
          "resource": "natural_gas_fired_combined_cycle"
         },
         {
          "gen_sum": 0,
          "hour": 10,
          "resource": "natural_gas_fired_combustion_turbine"
         },
         {
          "gen_sum": 4,
          "hour": 11,
          "resource": "natural_gas_fired_combined_cycle"
         },
         {
          "gen_sum": 0,
          "hour": 11,
          "resource": "natural_gas_fired_combustion_turbine"
         },
         {
          "gen_sum": 4,
          "hour": 12,
          "resource": "natural_gas_fired_combined_cycle"
         },
         {
          "gen_sum": 0,
          "hour": 12,
          "resource": "natural_gas_fired_combustion_turbine"
         },
         {
          "gen_sum": 4,
          "hour": 13,
          "resource": "natural_gas_fired_combined_cycle"
         },
         {
          "gen_sum": 0,
          "hour": 13,
          "resource": "natural_gas_fired_combustion_turbine"
         },
         {
          "gen_sum": 4,
          "hour": 14,
          "resource": "natural_gas_fired_combined_cycle"
         },
         {
          "gen_sum": 0,
          "hour": 14,
          "resource": "natural_gas_fired_combustion_turbine"
         },
         {
          "gen_sum": 4,
          "hour": 15,
          "resource": "natural_gas_fired_combined_cycle"
         },
         {
          "gen_sum": 0,
          "hour": 15,
          "resource": "natural_gas_fired_combustion_turbine"
         },
         {
          "gen_sum": 4,
          "hour": 16,
          "resource": "natural_gas_fired_combined_cycle"
         },
         {
          "gen_sum": 0,
          "hour": 16,
          "resource": "natural_gas_fired_combustion_turbine"
         },
         {
          "gen_sum": 4,
          "hour": 17,
          "resource": "natural_gas_fired_combined_cycle"
         },
         {
          "gen_sum": 0,
          "hour": 17,
          "resource": "natural_gas_fired_combustion_turbine"
         },
         {
          "gen_sum": 5,
          "hour": 18,
          "resource": "natural_gas_fired_combined_cycle"
         },
         {
          "gen_sum": 6,
          "hour": 18,
          "resource": "natural_gas_fired_combustion_turbine"
         },
         {
          "gen_sum": 5,
          "hour": 19,
          "resource": "natural_gas_fired_combined_cycle"
         },
         {
          "gen_sum": 9,
          "hour": 19,
          "resource": "natural_gas_fired_combustion_turbine"
         },
         {
          "gen_sum": 5,
          "hour": 20,
          "resource": "natural_gas_fired_combined_cycle"
         },
         {
          "gen_sum": 9,
          "hour": 20,
          "resource": "natural_gas_fired_combustion_turbine"
         },
         {
          "gen_sum": 5,
          "hour": 21,
          "resource": "natural_gas_fired_combined_cycle"
         },
         {
          "gen_sum": 6,
          "hour": 21,
          "resource": "natural_gas_fired_combustion_turbine"
         },
         {
          "gen_sum": 5,
          "hour": 22,
          "resource": "natural_gas_fired_combined_cycle"
         },
         {
          "gen_sum": 3,
          "hour": 22,
          "resource": "natural_gas_fired_combustion_turbine"
         },
         {
          "gen_sum": 5,
          "hour": 23,
          "resource": "natural_gas_fired_combined_cycle"
         },
         {
          "gen_sum": 1.5395041291331199e-15,
          "hour": 23,
          "resource": "natural_gas_fired_combustion_turbine"
         }
        ]
       },
       "encoding": {
        "color": {
         "field": "resource",
         "scale": {
          "scheme": "category10"
         },
         "type": "nominal"
        },
        "x": {
         "field": "hour",
         "type": "quantitative"
        },
        "y": {
         "field": "gen_sum",
         "stack": "zero",
         "type": "quantitative"
        }
       },
       "mark": "area"
      },
      "image/png": "[encoded data removed]",
      "image/svg+xml": [
       "<?xml version=\"1.0\" encoding=\"utf-8\"?>\n",
       "<!DOCTYPE svg PUBLIC \"-//W3C//DTD SVG 1.1//EN\" \"http://www.w3.org/Graphics/SVG/1.1/DTD/svg11.dtd\">\n",
       "<svg xmlns=\"http://www.w3.org/2000/svg\" xmlns:xlink=\"http://www.w3.org/1999/xlink\" version=\"1.1\" class=\"marks\" width=\"437\" height=\"247\" viewBox=\"0 0 437 247\"><rect width=\"437\" height=\"247\" fill=\"white\"/><g fill=\"none\" stroke-miterlimit=\"10\" transform=\"translate(39,10)\"><g class=\"mark-group role-frame root\" role=\"graphics-object\" aria-roledescription=\"group mark container\"><g transform=\"translate(0,0)\"><path class=\"background\" aria-hidden=\"true\" d=\"M0.5,0.5h200v200h-200Z\" stroke=\"#ddd\"/><g><g class=\"mark-group role-axis\" aria-hidden=\"true\"><g transform=\"translate(0.5,200.5)\"><path class=\"background\" aria-hidden=\"true\" d=\"M0,0h0v0h0Z\" pointer-events=\"none\"/><g><g class=\"mark-rule role-axis-grid\" pointer-events=\"none\"><line transform=\"translate(0,-200)\" x2=\"0\" y2=\"200\" stroke=\"#ddd\" stroke-width=\"1\" opacity=\"1\"/><line transform=\"translate(42,-200)\" x2=\"0\" y2=\"200\" stroke=\"#ddd\" stroke-width=\"1\" opacity=\"1\"/><line transform=\"translate(83,-200)\" x2=\"0\" y2=\"200\" stroke=\"#ddd\" stroke-width=\"1\" opacity=\"1\"/><line transform=\"translate(125,-200)\" x2=\"0\" y2=\"200\" stroke=\"#ddd\" stroke-width=\"1\" opacity=\"1\"/><line transform=\"translate(167,-200)\" x2=\"0\" y2=\"200\" stroke=\"#ddd\" stroke-width=\"1\" opacity=\"1\"/></g></g><path class=\"foreground\" aria-hidden=\"true\" d=\"\" pointer-events=\"none\" display=\"none\"/></g></g><g class=\"mark-group role-axis\" aria-hidden=\"true\"><g transform=\"translate(0.5,0.5)\"><path class=\"background\" aria-hidden=\"true\" d=\"M0,0h0v0h0Z\" pointer-events=\"none\"/><g><g class=\"mark-rule role-axis-grid\" pointer-events=\"none\"><line transform=\"translate(0,200)\" x2=\"200\" y2=\"0\" stroke=\"#ddd\" stroke-width=\"1\" opacity=\"1\"/><line transform=\"translate(0,171)\" x2=\"200\" y2=\"0\" stroke=\"#ddd\" stroke-width=\"1\" opacity=\"1\"/><line transform=\"translate(0,143)\" x2=\"200\" y2=\"0\" stroke=\"#ddd\" stroke-width=\"1\" opacity=\"1\"/><line transform=\"translate(0,114)\" x2=\"200\" y2=\"0\" stroke=\"#ddd\" stroke-width=\"1\" opacity=\"1\"/><line transform=\"translate(0,86)\" x2=\"200\" y2=\"0\" stroke=\"#ddd\" stroke-width=\"1\" opacity=\"1\"/><line transform=\"translate(0,57)\" x2=\"200\" y2=\"0\" stroke=\"#ddd\" stroke-width=\"1\" opacity=\"1\"/><line transform=\"translate(0,29)\" x2=\"200\" y2=\"0\" stroke=\"#ddd\" stroke-width=\"1\" opacity=\"1\"/><line transform=\"translate(0,0)\" x2=\"200\" y2=\"0\" stroke=\"#ddd\" stroke-width=\"1\" opacity=\"1\"/></g></g><path class=\"foreground\" aria-hidden=\"true\" d=\"\" pointer-events=\"none\" display=\"none\"/></g></g><g class=\"mark-group role-axis\" role=\"graphics-symbol\" aria-roledescription=\"axis\" aria-label=\"X-axis titled 'hour' for a linear scale with values from 0 to 24\"><g transform=\"translate(0.5,200.5)\"><path class=\"background\" aria-hidden=\"true\" d=\"M0,0h0v0h0Z\" pointer-events=\"none\"/><g><g class=\"mark-rule role-axis-tick\" pointer-events=\"none\"><line transform=\"translate(0,0)\" x2=\"0\" y2=\"5\" stroke=\"#888\" stroke-width=\"1\" opacity=\"1\"/><line transform=\"translate(42,0)\" x2=\"0\" y2=\"5\" stroke=\"#888\" stroke-width=\"1\" opacity=\"1\"/><line transform=\"translate(83,0)\" x2=\"0\" y2=\"5\" stroke=\"#888\" stroke-width=\"1\" opacity=\"1\"/><line transform=\"translate(125,0)\" x2=\"0\" y2=\"5\" stroke=\"#888\" stroke-width=\"1\" opacity=\"1\"/><line transform=\"translate(167,0)\" x2=\"0\" y2=\"5\" stroke=\"#888\" stroke-width=\"1\" opacity=\"1\"/></g><g class=\"mark-text role-axis-label\" pointer-events=\"none\"><text text-anchor=\"start\" transform=\"translate(0,15)\" font-family=\"sans-serif\" font-size=\"10px\" fill=\"#000\" opacity=\"1\">0</text><text text-anchor=\"middle\" transform=\"translate(41.66666666666667,15)\" font-family=\"sans-serif\" font-size=\"10px\" fill=\"#000\" opacity=\"1\">5</text><text text-anchor=\"middle\" transform=\"translate(83.33333333333334,15)\" font-family=\"sans-serif\" font-size=\"10px\" fill=\"#000\" opacity=\"1\">10</text><text text-anchor=\"middle\" transform=\"translate(125,15)\" font-family=\"sans-serif\" font-size=\"10px\" fill=\"#000\" opacity=\"1\">15</text><text text-anchor=\"middle\" transform=\"translate(166.66666666666669,15)\" font-family=\"sans-serif\" font-size=\"10px\" fill=\"#000\" opacity=\"1\">20</text></g><g class=\"mark-rule role-axis-domain\" pointer-events=\"none\"><line transform=\"translate(0,0)\" x2=\"200\" y2=\"0\" stroke=\"#888\" stroke-width=\"1\" opacity=\"1\"/></g><g class=\"mark-text role-axis-title\" pointer-events=\"none\"><text text-anchor=\"middle\" transform=\"translate(100,30)\" font-family=\"sans-serif\" font-size=\"11px\" font-weight=\"bold\" fill=\"#000\" opacity=\"1\">hour</text></g></g><path class=\"foreground\" aria-hidden=\"true\" d=\"\" pointer-events=\"none\" display=\"none\"/></g></g><g class=\"mark-group role-axis\" role=\"graphics-symbol\" aria-roledescription=\"axis\" aria-label=\"Y-axis titled 'gen_sum' for a linear scale with values from 0 to 14\"><g transform=\"translate(0.5,0.5)\"><path class=\"background\" aria-hidden=\"true\" d=\"M0,0h0v0h0Z\" pointer-events=\"none\"/><g><g class=\"mark-rule role-axis-tick\" pointer-events=\"none\"><line transform=\"translate(0,200)\" x2=\"-5\" y2=\"0\" stroke=\"#888\" stroke-width=\"1\" opacity=\"1\"/><line transform=\"translate(0,171)\" x2=\"-5\" y2=\"0\" stroke=\"#888\" stroke-width=\"1\" opacity=\"1\"/><line transform=\"translate(0,143)\" x2=\"-5\" y2=\"0\" stroke=\"#888\" stroke-width=\"1\" opacity=\"1\"/><line transform=\"translate(0,114)\" x2=\"-5\" y2=\"0\" stroke=\"#888\" stroke-width=\"1\" opacity=\"1\"/><line transform=\"translate(0,86)\" x2=\"-5\" y2=\"0\" stroke=\"#888\" stroke-width=\"1\" opacity=\"1\"/><line transform=\"translate(0,57)\" x2=\"-5\" y2=\"0\" stroke=\"#888\" stroke-width=\"1\" opacity=\"1\"/><line transform=\"translate(0,29)\" x2=\"-5\" y2=\"0\" stroke=\"#888\" stroke-width=\"1\" opacity=\"1\"/><line transform=\"translate(0,0)\" x2=\"-5\" y2=\"0\" stroke=\"#888\" stroke-width=\"1\" opacity=\"1\"/></g><g class=\"mark-text role-axis-label\" pointer-events=\"none\"><text text-anchor=\"end\" transform=\"translate(-7,203)\" font-family=\"sans-serif\" font-size=\"10px\" fill=\"#000\" opacity=\"1\">0</text><text text-anchor=\"end\" transform=\"translate(-7,174.42857142857144)\" font-family=\"sans-serif\" font-size=\"10px\" fill=\"#000\" opacity=\"1\">2</text><text text-anchor=\"end\" transform=\"translate(-7,145.85714285714286)\" font-family=\"sans-serif\" font-size=\"10px\" fill=\"#000\" opacity=\"1\">4</text><text text-anchor=\"end\" transform=\"translate(-7,117.28571428571428)\" font-family=\"sans-serif\" font-size=\"10px\" fill=\"#000\" opacity=\"1\">6</text><text text-anchor=\"end\" transform=\"translate(-7,88.71428571428572)\" font-family=\"sans-serif\" font-size=\"10px\" fill=\"#000\" opacity=\"1\">8</text><text text-anchor=\"end\" transform=\"translate(-7,60.14285714285714)\" font-family=\"sans-serif\" font-size=\"10px\" fill=\"#000\" opacity=\"1\">10</text><text text-anchor=\"end\" transform=\"translate(-7,31.57142857142858)\" font-family=\"sans-serif\" font-size=\"10px\" fill=\"#000\" opacity=\"1\">12</text><text text-anchor=\"end\" transform=\"translate(-7,3)\" font-family=\"sans-serif\" font-size=\"10px\" fill=\"#000\" opacity=\"1\">14</text></g><g class=\"mark-rule role-axis-domain\" pointer-events=\"none\"><line transform=\"translate(0,200)\" x2=\"0\" y2=\"-200\" stroke=\"#888\" stroke-width=\"1\" opacity=\"1\"/></g><g class=\"mark-text role-axis-title\" pointer-events=\"none\"><text text-anchor=\"middle\" transform=\"translate(-23,100) rotate(-90) translate(0,-2)\" font-family=\"sans-serif\" font-size=\"11px\" font-weight=\"bold\" fill=\"#000\" opacity=\"1\">gen_sum</text></g></g><path class=\"foreground\" aria-hidden=\"true\" d=\"\" pointer-events=\"none\" display=\"none\"/></g></g><g class=\"mark-group role-scope pathgroup\" role=\"graphics-object\" aria-roledescription=\"group mark container\"><g transform=\"translate(0,0)\"><path class=\"background\" aria-hidden=\"true\" d=\"M0,0h200v200h-200Z\"/><g><g class=\"mark-area role-mark marks\" role=\"graphics-object\" aria-roledescription=\"area mark container\"><path aria-label=\"hour: 0; gen_sum: 6; resource: natural_gas_fired_combined_cycle\" role=\"graphics-symbol\" aria-roledescription=\"area mark\" d=\"M0,100L8.333333333333332,100L16.666666666666664,100L25,100L33.33333333333333,100L41.66666666666667,100L50,100L58.333333333333336,114.28571428571428L66.66666666666666,142.85714285714286L75,142.85714285714286L83.33333333333334,142.85714285714286L91.66666666666666,142.85714285714286L100,142.85714285714286L108.33333333333333,142.85714285714286L116.66666666666667,142.85714285714286L125,142.85714285714286L133.33333333333331,142.85714285714286L141.66666666666669,142.85714285714286L150,42.85714285714286L158.33333333333331,0L166.66666666666669,0L175,42.85714285714286L183.33333333333331,85.71428571428572L191.66666666666669,128.57142857142856L191.66666666666669,199.99999999999997L183.33333333333331,157.14285714285714L175,114.28571428571428L166.66666666666669,71.42857142857142L158.33333333333331,71.42857142857142L150,114.28571428571428L141.66666666666669,200L133.33333333333331,200L125,200L116.66666666666667,200L108.33333333333333,200L100,200L91.66666666666666,200L83.33333333333334,200L75,200L66.66666666666666,200L58.333333333333336,200L50,185.71428571428572L41.66666666666667,185.71428571428572L33.33333333333333,185.71428571428572L25,185.71428571428572L16.666666666666664,185.71428571428572L8.333333333333332,185.71428571428572L0,185.71428571428572Z\" fill=\"#1f77b4\"/></g></g><path class=\"foreground\" aria-hidden=\"true\" d=\"\" display=\"none\"/></g><g transform=\"translate(0,0)\"><path class=\"background\" aria-hidden=\"true\" d=\"M0,0h200v200h-200Z\"/><g><g class=\"mark-area role-mark marks\" role=\"graphics-object\" aria-roledescription=\"area mark container\"><path aria-label=\"hour: 0; gen_sum: 1; resource: natural_gas_fired_combustion_turbine\" role=\"graphics-symbol\" aria-roledescription=\"area mark\" d=\"M0,185.71428571428572L8.333333333333332,185.71428571428572L16.666666666666664,185.71428571428572L25,185.71428571428572L33.33333333333333,185.71428571428572L41.66666666666667,185.71428571428572L50,185.71428571428572L58.333333333333336,200L66.66666666666666,200L75,200L83.33333333333334,200L91.66666666666666,200L100,200L108.33333333333333,200L116.66666666666667,200L125,200L133.33333333333331,200L141.66666666666669,200L150,114.28571428571428L158.33333333333331,71.42857142857142L166.66666666666669,71.42857142857142L175,114.28571428571428L183.33333333333331,157.14285714285714L191.66666666666669,199.99999999999997L191.66666666666669,200L183.33333333333331,200L175,200L166.66666666666669,200L158.33333333333331,200L150,200L141.66666666666669,200L133.33333333333331,200L125,200L116.66666666666667,200L108.33333333333333,200L100,200L91.66666666666666,200L83.33333333333334,200L75,200L66.66666666666666,200L58.333333333333336,200L50,200L41.66666666666667,200L33.33333333333333,200L25,200L16.666666666666664,200L8.333333333333332,200L0,200Z\" fill=\"#ff7f0e\"/></g></g><path class=\"foreground\" aria-hidden=\"true\" d=\"\" display=\"none\"/></g></g><g class=\"mark-group role-legend\" role=\"graphics-symbol\" aria-roledescription=\"legend\" aria-label=\"Symbol legend titled 'resource' for fill color with 2 values: natural_gas_fired_combined_cycle, natural_gas_fired_combustion_turbine\"><g transform=\"translate(218,0)\"><path class=\"background\" aria-hidden=\"true\" d=\"M0,0h175v40h-175Z\" pointer-events=\"none\"/><g><g class=\"mark-group role-legend-entry\"><g transform=\"translate(0,16)\"><path class=\"background\" aria-hidden=\"true\" d=\"M0,0h0v0h0Z\" pointer-events=\"none\"/><g><g class=\"mark-group role-scope\" role=\"graphics-object\" aria-roledescription=\"group mark container\"><g transform=\"translate(0,0)\"><path class=\"background\" aria-hidden=\"true\" d=\"M0,0h175v11h-175Z\" pointer-events=\"none\" opacity=\"1\"/><g><g class=\"mark-symbol role-legend-symbol\" pointer-events=\"none\"><path transform=\"translate(6,6)\" d=\"M5,0A5,5,0,1,1,-5,0A5,5,0,1,1,5,0\" fill=\"#1f77b4\" stroke-width=\"1.5\" opacity=\"1\"/></g><g class=\"mark-text role-legend-label\" pointer-events=\"none\"><text text-anchor=\"start\" transform=\"translate(16,9)\" font-family=\"sans-serif\" font-size=\"10px\" fill=\"#000\" opacity=\"1\">natural_gas_fired_combined_cy…</text></g></g><path class=\"foreground\" aria-hidden=\"true\" d=\"\" pointer-events=\"none\" display=\"none\"/></g><g transform=\"translate(0,13)\"><path class=\"background\" aria-hidden=\"true\" d=\"M0,0h175v11h-175Z\" pointer-events=\"none\" opacity=\"1\"/><g><g class=\"mark-symbol role-legend-symbol\" pointer-events=\"none\"><path transform=\"translate(6,6)\" d=\"M5,0A5,5,0,1,1,-5,0A5,5,0,1,1,5,0\" fill=\"#ff7f0e\" stroke-width=\"1.5\" opacity=\"1\"/></g><g class=\"mark-text role-legend-label\" pointer-events=\"none\"><text text-anchor=\"start\" transform=\"translate(16,9)\" font-family=\"sans-serif\" font-size=\"10px\" fill=\"#000\" opacity=\"1\">natural_gas_fired_combustion_t…</text></g></g><path class=\"foreground\" aria-hidden=\"true\" d=\"\" pointer-events=\"none\" display=\"none\"/></g></g></g><path class=\"foreground\" aria-hidden=\"true\" d=\"\" pointer-events=\"none\" display=\"none\"/></g></g><g class=\"mark-text role-legend-title\" pointer-events=\"none\"><text text-anchor=\"start\" transform=\"translate(0,9)\" font-family=\"sans-serif\" font-size=\"11px\" font-weight=\"bold\" fill=\"#000\" opacity=\"1\">resource</text></g></g><path class=\"foreground\" aria-hidden=\"true\" d=\"\" pointer-events=\"none\" display=\"none\"/></g></g></g><path class=\"foreground\" aria-hidden=\"true\" d=\"\" display=\"none\"/></g></g></g></svg>\n"
      ],
      "text/plain": [
       "@vlplot(\n",
       "    mark=\"area\",\n",
       "    encoding={\n",
       "        x={\n",
       "            field=\"hour\"\n",
       "        },\n",
       "        y={\n",
       "            stack=\"zero\",\n",
       "            field=\"gen_sum\"\n",
       "        },\n",
       "        color={\n",
       "            scale={\n",
       "                scheme=\"category10\"\n",
       "            },\n",
       "            field=\"resource\",\n",
       "            type=\"nominal\"\n",
       "        }\n",
       "    },\n",
       "    data={\n",
       "        values=...\n",
       "    }\n",
       ")"
      ]
     },
     "execution_count": 30,
     "metadata": {},
     "output_type": "execute_result"
    }
   ],
   "source": [
    "sol_commit = innerjoin(solution.commit, \n",
    "                    gen_df[!, [:r_id, :resource]], \n",
    "                    on = :r_id)\n",
    "sol_commit = combine(groupby(sol_commit, [:resource, :hour]), \n",
    "            :gen => sum)\n",
    "sol_commit.hour = sol_commit.hour .- T_period[1]\n",
    "\n",
    "sol_commit |>\n",
    "@vlplot(:area, \n",
    "    x=:hour, y={:gen_sum, stack=:zero}, \n",
    "    color={\"resource:n\", scale={scheme=\"category10\"}})"
   ]
  },
  {
   "cell_type": "markdown",
   "metadata": {},
   "source": [
    "A case involving more large coal or nuclear units with slower ramping limits than gas turbines or combined cycle plants might find ramp constraints more limiting. As in many cases, the impact of constraints is case dependent, and modelers must exercise some judicious application of domain knowledge (and experimentation with alternative formulations) to decide how complex your model should be to reflect important *binding* constraints that actually shape your outcomes of interest. Where constraints are non-binding or second order, it may be more practical to omit them entirely, reducing the computational intensity (solve time) of your model..."
   ]
  },
  {
   "cell_type": "markdown",
   "metadata": {},
   "source": [
    "## Unit commitment with ramping and reserves\n",
    "\n",
    "We now add spinning reserve requirements to the model. Spinning reserves refer to generation capacity that is online and able to generate (e.g., within 10-30 minutes) if needed by the system operator. (Note: in Europe, these are referred to as 'replacement reserves' or formerly 'tertiary reserves.') The SO will establish reserve requirements to maintain sufficient capacity to respond to demand or supply forecast errors or in case of \"contingencies,\" such as the unplanned and sudden loss of a generating station or a transmission line. The SO then typically operates a reserve market to competitively procure this available capacity. Most SO's actually define several classes of reserve products defined by their response time and period over which they may be activated. \n",
    "\n",
    "Here we will focus on spinning reserve requirements and establish a simple set of reserve requirements for reserves up (ability to quickly increase output) and reserves down (ability to quickly reduce output):\n",
    "\n",
    "$$\n",
    "\\begin{align}\n",
    " & ResReqUp_t = 300 MW + 5\\% \\times Demand_t  &\\forall \\quad t \\in T \\\\\n",
    " & ResReqDn_t = 5\\% \\times Demand_t & \\forall \\quad t \\in T\n",
    "\\end{align}\n",
    "$$\n",
    "\n",
    "Here, $300 MW$ is our contigency reserves, meant to ensure we have sufficient upwards ramping capability online and available to cover the unexpected loss of 300 MW worth of generation. \n",
    "\n",
    "The 5% of demand term in the constraints above is meant to provide sufficient reserves in either upwards or downwards direction to cover errors in the demand forecast. For simplicity, we ignore solar PV and wind production in our reserve calculation, though in practice, we would want to consider solar and wind forecast errors in calculating up reserve requirements as well.\n",
    "\n",
    "In our simple system, only thermal generators provide reserves. (This can be easily adjusted by changing the sets and defining the potential reserve contributions for different sets of resources differently, such as storage or hydro resources). The contribution of each generators to meeting reserves and the overall reserve constraint are thus given by:\n",
    "\n",
    "$$\n",
    "\\begin{align}\n",
    " & RESUP_{g,t} \\leq Pmax_{g,t}COMMIT_{g,t} - GEN_{g,t} & \\forall \\quad g \\in G_{thermal} , t \\in T \\\\\n",
    " & RESDN_{g,t} \\leq GEN_{g,t} - Pmin_{g,t}COMMIT_{g,t} & \\forall \\quad g \\in G_{thermal} , t \\in T \\\\\n",
    " & RESUP_{g,t} \\leq RampUp_{g} & \\forall \\quad g \\in G_{thermal}, t \\in T\\\\ \n",
    " & RESDN_{g,t} \\leq RampDn_{g} & \\forall \\quad g \\in G_{thermal}, t \\in T \\\\\n",
    " & \\sum_{g \\in G_{thermal}} RESUP_{g,t} \\geq ResReqUp_t & \\forall \\quad t \\in T \\\\\n",
    " & \\sum_{g \\in G_{thermal}} RESDN_{g,t} \\geq ResReqDn_t & \\forall \\quad t \\in T\n",
    "\\end{align}\n",
    "$$\n",
    "\n",
    "We have added two new **decision variables**:\n",
    "\n",
    "- $RESUP_{g,t}$, up-reserve capacity (in MW) of generator $g$ at time $t$\n",
    "- $RESDN_{g,t}$, down-reserve capacity (in MW) of generator $g$ at time $t$\n",
    "\n",
    "Note that in this case, we constrain the reserve contribution for each thermal generator to be the same as their hourly ramp rates, $RampUp_{g}, RampDown_{g}$. In practice, reserve products typically require a faster response time, on the order of 10-30 minutes for \"tertiary\" reserves (aka spinning reserves or contingency reserves), and 5-15 minutes for \"secondary\" reserves (regulation reserves). Thus, depending on the reserve requirements being modeled, one might specify a distinct maximum reserve contribution for each unit that reflects their ramping capabilities over shorter time periods."
   ]
  },
  {
   "cell_type": "markdown",
   "metadata": {},
   "source": [
    "<img src=\"img/reserves.png\" style=\"width: 450px; height: auto\" align=\"left\">\n",
    "\n",
    "<img src=\"img/reserves_taxonomy.png\" style=\"width: 450px; height: auto\" align=\"left\">"
   ]
  },
  {
   "cell_type": "markdown",
   "metadata": {},
   "source": [
    "### 3. Create solver function\n",
    "\n",
    "(We reuse steps 1 and 2 above to load packages and data.)"
   ]
  },
  {
   "cell_type": "code",
   "execution_count": 31,
   "metadata": {},
   "outputs": [
    {
     "data": {
      "text/plain": [
       "unit_commitment_full (generic function with 2 methods)"
      ]
     },
     "execution_count": 31,
     "metadata": {},
     "output_type": "execute_result"
    }
   ],
   "source": [
    "#=\n",
    "Function to solve full unit commitment problem (commitment, ramp, reserve equations)\n",
    "Inputs:\n",
    "    gen_df -- dataframe with generator info\n",
    "    loads  -- load by time\n",
    "    gen_variable -- capacity factors of variable generators (in \"long\" format)\n",
    "    mip_gap -- desired relative MIP gap to pass to solver\n",
    "=#\n",
    "function unit_commitment_full(gen_df, loads, gen_variable, mip_gap)\n",
    "    UC = Model(HiGHS.Optimizer)\n",
    "    set_optimizer_attribute(UC, \"mip_rel_gap\", mip_gap)\n",
    "\n",
    "    # Define sets based on data\n",
    "    # Note the creation of several different sets of generators for use in\n",
    "    # different equations.\n",
    "    G_thermal = gen_df[gen_df[!,:up_time] .> 0,:r_id]\n",
    "    G_nonthermal = gen_df[gen_df[!,:up_time] .== 0,:r_id]\n",
    "    G_var = gen_df[gen_df[!,:is_variable] .== 1,:r_id] \n",
    "    G_nonvar = gen_df[gen_df[!,:is_variable] .== 0,:r_id]\n",
    "    G_nt_nonvar = intersect(G_nonvar, G_nonthermal)\n",
    "    G = gen_df.r_id\n",
    "    T = loads.hour\n",
    "    T_red = loads.hour[1:end-1]  # reduced time periods without last one\n",
    "\n",
    "    # Generator capacity factor time series for variable generators\n",
    "    gen_var_cf = innerjoin(gen_variable, \n",
    "                    gen_df[gen_df.is_variable .== 1 , \n",
    "                        [:r_id, :gen_full, :existing_cap_mw, :resource]], \n",
    "                    on = :gen_full)\n",
    "    gen_var_cf.max_gen = gen_var_cf.cf .* gen_var_cf.existing_cap_mw\n",
    "    \n",
    "    # Compute reserve requirements\n",
    "    ResReqUp = Dict(T[i] => 300  \n",
    "              + 0.05 * loads[loads.hour .== T[i],:demand][1]\n",
    "                    for i in 1:length(T))\n",
    "    ResReqDn = Dict(T[i] => 0\n",
    "              + 0.05 * loads[loads.hour .== T[i],:demand][1]                    \n",
    "                    for i in 1:length(T))\n",
    "    \n",
    "    # Decision variables   \n",
    "    @variables(UC, begin\n",
    "        GEN[G, T]  >= 0     # generation\n",
    "        GENAUX[G_thermal, T] >= 0 # auxiliary generation variable\n",
    "        COMMIT[G_thermal, T], Bin # commitment status (Bin=binary)\n",
    "        START[G_thermal, T], Bin  # startup decision\n",
    "        SHUT[G_thermal, T], Bin   # shutdown decision\n",
    "        RESUP[G_thermal, T]       # up reserve capacity\n",
    "        RESDN[G_thermal, T]       # down reserve capacity\n",
    "    end)\n",
    "                \n",
    "    # Objective function\n",
    "    @objective(UC, Min, \n",
    "        sum( (gen_df[gen_df.r_id .== i,:heat_rate_mmbtu_per_mwh][1] * gen_df[gen_df.r_id .== i,:fuel_cost][1] +\n",
    "            gen_df[gen_df.r_id .== i,:var_om_cost_per_mwh][1]) * GEN[i,t] \n",
    "                        for i in G_nonvar for t in T) + \n",
    "        sum(gen_df[gen_df.r_id .== i,:var_om_cost_per_mwh][1] * GEN[i,t] \n",
    "                        for i in G_var for t in T) + \n",
    "        sum(gen_df[gen_df.r_id .== i,:start_cost_per_mw][1] * \n",
    "            gen_df[gen_df.r_id .== i,:existing_cap_mw][1] *\n",
    "            START[i,t] \n",
    "                        for i in G_thermal for t in T)\n",
    "    )\n",
    "    \n",
    "    # Demand constraint\n",
    "    @constraint(UC, cDemand[t in T], \n",
    "        sum(GEN[i,t] for i in G) == loads[loads.hour .== t,:demand][1])\n",
    "\n",
    "    # Capacity constraints (thermal generators requiring commitment)\n",
    "    @constraint(UC, Cap_thermal_min[i in G_thermal, t in T], \n",
    "        GEN[i,t] >= COMMIT[i, t] * gen_df[gen_df.r_id .== i,:existing_cap_mw][1] *\n",
    "                        gen_df[gen_df.r_id .== i,:min_power][1])\n",
    "    @constraint(UC, Cap_thermal_max[i in G_thermal, t in T], \n",
    "        GEN[i,t] <= COMMIT[i, t] * gen_df[gen_df.r_id .== i,:existing_cap_mw][1])\n",
    "\n",
    "    # Capacity constraints (non-variable generation not requiring commitment)\n",
    "    @constraint(UC, Cap_nt_nonvar[i in G_nt_nonvar, t in T], \n",
    "        GEN[i,t] <= gen_df[gen_df.r_id .== i,:existing_cap_mw][1])\n",
    "\n",
    "    # Capacity constraints (variable generation)\n",
    "    @constraint(UC, Cap_var[i in 1:nrow(gen_var_cf)], \n",
    "            GEN[gen_var_cf[i,:r_id], gen_var_cf[i,:hour] ] <= \n",
    "                        gen_var_cf[i,:max_gen])\n",
    "    \n",
    "    # Unit commitment constraints\n",
    "    @constraint(UC, Startup[i in G_thermal, t in T],\n",
    "        COMMIT[i, t] >= sum(START[i, tt] \n",
    "                        for tt in intersect(T,\n",
    "                            (t-gen_df[gen_df.r_id .== i,:up_time][1]):t)))\n",
    "\n",
    "    @constraint(UC, Shutdown[i in G_thermal, t in T],\n",
    "        1-COMMIT[i, t] >= sum(SHUT[i, tt] \n",
    "                        for tt in intersect(T,\n",
    "                            (t-gen_df[gen_df.r_id .== i,:down_time][1]):t)))\n",
    "    \n",
    "    @constraint(UC, CommitmentStatus[i in G_thermal, t in T_red],\n",
    "        COMMIT[i,t+1] - COMMIT[i,t] == START[i,t+1] - SHUT[i,t+1])\n",
    "    \n",
    "    # Auxiliary variable\n",
    "    @constraint(UC, AuxGen[i in G_thermal, t in T],\n",
    "        GENAUX[i,t] == GEN[i,t] - COMMIT[i, t] * gen_df[gen_df.r_id .== i,:existing_cap_mw][1] *\n",
    "                        gen_df[gen_df.r_id .== i,:min_power][1])\n",
    "    \n",
    "    # Ramp equations (thermal generators)\n",
    "    @constraint(UC, RampUp_thermal[i in G_thermal, t in T_red], \n",
    "        GENAUX[i,t+1] - GENAUX[i,t] <= gen_df[gen_df.r_id .== i,:existing_cap_mw][1] * \n",
    "                                 gen_df[gen_df.r_id .== i,:ramp_up_percentage][1] )\n",
    "\n",
    "    @constraint(UC, RampDn_thermal[i in G_thermal, t in T_red], \n",
    "        GENAUX[i,t] - GENAUX[i,t+1] <= gen_df[gen_df.r_id .== i,:existing_cap_mw][1] * \n",
    "                                 gen_df[gen_df.r_id .== i,:ramp_dn_percentage][1] )\n",
    "\n",
    "    # Ramp equations (non-thermal generators)\n",
    "    @constraint(UC, RampUp_nonthermal[i in G_nonthermal, t in T_red], \n",
    "        GEN[i,t+1] - GEN[i,t] <= gen_df[gen_df.r_id .== i,:existing_cap_mw][1] * \n",
    "                                 gen_df[gen_df.r_id .== i,:ramp_up_percentage][1] )\n",
    "\n",
    "    @constraint(UC, RampDn[i in G, t in T_red], \n",
    "        GEN[i,t] - GEN[i,t+1] <= gen_df[gen_df.r_id .== i,:existing_cap_mw][1] * \n",
    "                                 gen_df[gen_df.r_id .== i,:ramp_dn_percentage][1] )\n",
    "      \n",
    "    # Reserve equations\n",
    "    # (1) Reserves limited by committed capacity of generator\n",
    "    @constraint(UC, ResUpCap[i in G_thermal, t in T],\n",
    "        RESUP[i,t] <= COMMIT[i, t] * gen_df[gen_df.r_id .== i,:existing_cap_mw][1]\n",
    "                        - GEN[i,t])\n",
    "\n",
    "    @constraint(UC, ResDnCap[i in G_thermal, t in T],\n",
    "        RESDN[i,t] <= GEN[i,t] - \n",
    "                        COMMIT[i, t] * gen_df[gen_df.r_id .== i,:existing_cap_mw][1] *\n",
    "                        gen_df[gen_df.r_id .== i,:min_power][1])\n",
    "\n",
    "    # (2) Reserves limited by ramp rates\n",
    "    @constraint(UC, ResUpRamp[i in G_thermal, t in T],\n",
    "        RESUP[i,t] <= gen_df[gen_df.r_id .== i,:existing_cap_mw][1] * \n",
    "                          gen_df[gen_df.r_id .== i,:ramp_up_percentage][1])\n",
    "\n",
    "    @constraint(UC, ResDnRamp[i in G_thermal, t in T],\n",
    "        RESDN[i,t] <= gen_df[gen_df.r_id .== i,:existing_cap_mw][1] * \n",
    "                          gen_df[gen_df.r_id .== i,:ramp_dn_percentage][1])\n",
    "\n",
    "    # (3) Overall reserve requirements\n",
    "    @constraint(UC, ResUpRequirement[t in T],\n",
    "        sum(RESUP[i,t] for i in G_thermal) >= \n",
    "                ResReqUp[t])\n",
    "\n",
    "    @constraint(UC, ResDnRequirement[t in T],\n",
    "        sum(RESDN[i,t] for i in G_thermal) >= \n",
    "                ResReqDn[t])\n",
    "\n",
    "    # Solve statement (! indicates runs in place)\n",
    "    optimize!(UC)\n",
    "\n",
    "    # Generation solution\n",
    "    gen = value_to_df_2dim(value.(GEN))\n",
    "\n",
    "    # Commitment status solution\n",
    "    commit = value_to_df_2dim(value.(COMMIT))\n",
    "\n",
    "    # Calculate curtailment\n",
    "    curtail = innerjoin(gen_var_cf, gen, on = [:r_id, :hour])\n",
    "    curtail.curt = curtail.cf .* curtail.existing_cap_mw - curtail.gen\n",
    "    \n",
    "    # Return the solution and objective as named tuple\n",
    "    return (\n",
    "        gen,\n",
    "        commit,\n",
    "        curtail,\n",
    "        cost = objective_value(UC),\n",
    "        status = termination_status(UC)\n",
    "    )\n",
    "\n",
    "end"
   ]
  },
  {
   "cell_type": "markdown",
   "metadata": {},
   "source": [
    "### 4. Solve the model and plot results\n",
    "\n",
    "**Note: this might take a little while depending on your machine.**"
   ]
  },
  {
   "cell_type": "code",
   "execution_count": 32,
   "metadata": {},
   "outputs": [
    {
     "name": "stdout",
     "output_type": "stream",
     "text": [
      "Presolving model\n",
      "5334 rows, 3761 cols, 16921 nonzeros\n",
      "3795 rows, 2750 cols, 13799 nonzeros\n",
      "2805 rows, 2588 cols, 13303 nonzeros\n",
      "2194 rows, 2004 cols, 12003 nonzeros\n",
      "2179 rows, 2000 cols, 11839 nonzeros\n",
      "\n",
      "Solving MIP model with:\n",
      "   2179 rows\n",
      "   2000 cols (1232 binary, 0 integer, 0 implied int., 768 continuous)\n",
      "   11839 nonzeros\n",
      "\n",
      "( 0.0s) Starting symmetry detection\n",
      "( 0.0s) No symmetry present\n",
      "\n",
      "        Nodes      |    B&B Tree     |            Objective Bounds              |  Dynamic Constraints |       Work      \n",
      "     Proc. InQueue |  Leaves   Expl. | BestBound       BestSol              Gap |   Cuts   InLp Confl. | LpIters     Time\n",
      "\n",
      "         0       0         0   0.00%   -16834.579667   inf                  inf        0      0      0         0     0.0s\n",
      "         0       0         0   0.00%   897185.423847   inf                  inf        0      0      0       643     0.1s\n",
      " R       0       0         0   0.00%   898446.461994   931073.28755       3.50%      546     25      0       688     0.1s\n",
      " C       0       0         0   0.00%   899276.452448   915532.494331      1.78%     1301     60      4       834     0.2s\n",
      "\n",
      "Solving report\n",
      "  Status            Optimal\n",
      "  Primal bound      915532.494331\n",
      "  Dual bound        899276.452448\n",
      "  Gap               1.78% (tolerance: 2%)\n",
      "  Solution status   feasible\n",
      "                    915532.494331 (objective)\n",
      "                    0 (bound viol.)\n",
      "                    0 (int. viol.)\n",
      "                    0 (row viol.)\n",
      "  Timing            0.18 (total)\n",
      "                    0.04 (presolve)\n",
      "                    0.00 (postsolve)\n",
      "  Nodes             1\n",
      "  LP iterations     834 (total)\n",
      "                    0 (strong br.)\n",
      "                    191 (separation)\n",
      "                    0 (heuristics)\n"
     ]
    },
    {
     "data": {
      "application/vnd.vegalite.v4+json": {
       "data": {
        "values": [
         {
          "gen_sum": 21.4,
          "hour": 0,
          "resource": "biomass"
         },
         {
          "gen_sum": 42,
          "hour": 0,
          "resource": "hydroelectric_pumped_storage"
         },
         {
          "gen_sum": 1217.282468,
          "hour": 0,
          "resource": "natural_gas_fired_combined_cycle"
         },
         {
          "gen_sum": 167.8238,
          "hour": 0,
          "resource": "natural_gas_fired_combustion_turbine"
         },
         {
          "gen_sum": 163.3088,
          "hour": 0,
          "resource": "_onshore_wind_turbine"
         },
         {
          "gen_sum": 3.184932,
          "hour": 0,
          "resource": "_small_hydroelectric"
         },
         {
          "gen_sum": 0,
          "hour": 0,
          "resource": "_solar_photovoltaic"
         },
         {
          "gen_sum": 21.4,
          "hour": 1,
          "resource": "biomass"
         },
         {
          "gen_sum": 42,
          "hour": 1,
          "resource": "hydroelectric_pumped_storage"
         },
         {
          "gen_sum": 1184.149988,
          "hour": 1,
          "resource": "natural_gas_fired_combined_cycle"
         },
         {
          "gen_sum": 132.4718,
          "hour": 1,
          "resource": "natural_gas_fired_combustion_turbine"
         },
         {
          "gen_sum": 169.79327999999998,
          "hour": 1,
          "resource": "_onshore_wind_turbine"
         },
         {
          "gen_sum": 3.184932,
          "hour": 1,
          "resource": "_small_hydroelectric"
         },
         {
          "gen_sum": 0,
          "hour": 1,
          "resource": "_solar_photovoltaic"
         },
         {
          "gen_sum": 21.4,
          "hour": 2,
          "resource": "biomass"
         },
         {
          "gen_sum": 42,
          "hour": 2,
          "resource": "hydroelectric_pumped_storage"
         },
         {
          "gen_sum": 1203.8328680000002,
          "hour": 2,
          "resource": "natural_gas_fired_combined_cycle"
         },
         {
          "gen_sum": 132.4718,
          "hour": 2,
          "resource": "natural_gas_fired_combustion_turbine"
         },
         {
          "gen_sum": 115.1104,
          "hour": 2,
          "resource": "_onshore_wind_turbine"
         },
         {
          "gen_sum": 3.184932,
          "hour": 2,
          "resource": "_small_hydroelectric"
         },
         {
          "gen_sum": 0,
          "hour": 2,
          "resource": "_solar_photovoltaic"
         },
         {
          "gen_sum": 21.4,
          "hour": 3,
          "resource": "biomass"
         },
         {
          "gen_sum": 41.999999999999986,
          "hour": 3,
          "resource": "hydroelectric_pumped_storage"
         },
         {
          "gen_sum": 1262.390308,
          "hour": 3,
          "resource": "natural_gas_fired_combined_cycle"
         },
         {
          "gen_sum": 132.4718,
          "hour": 3,
          "resource": "natural_gas_fired_combustion_turbine"
         },
         {
          "gen_sum": 100.55296,
          "hour": 3,
          "resource": "_onshore_wind_turbine"
         },
         {
          "gen_sum": 3.184932,
          "hour": 3,
          "resource": "_small_hydroelectric"
         },
         {
          "gen_sum": 0,
          "hour": 3,
          "resource": "_solar_photovoltaic"
         },
         {
          "gen_sum": 21.4,
          "hour": 4,
          "resource": "biomass"
         },
         {
          "gen_sum": 42,
          "hour": 4,
          "resource": "hydroelectric_pumped_storage"
         },
         {
          "gen_sum": 1453.3659880000002,
          "hour": 4,
          "resource": "natural_gas_fired_combined_cycle"
         },
         {
          "gen_sum": 132.4718,
          "hour": 4,
          "resource": "natural_gas_fired_combustion_turbine"
         },
         {
          "gen_sum": 80.57728,
          "hour": 4,
          "resource": "_onshore_wind_turbine"
         },
         {
          "gen_sum": 3.184932,
          "hour": 4,
          "resource": "_small_hydroelectric"
         },
         {
          "gen_sum": 0,
          "hour": 4,
          "resource": "_solar_photovoltaic"
         },
         {
          "gen_sum": 21.4,
          "hour": 5,
          "resource": "biomass"
         },
         {
          "gen_sum": 42,
          "hour": 5,
          "resource": "hydroelectric_pumped_storage"
         },
         {
          "gen_sum": 1511.4011080000002,
          "hour": 5,
          "resource": "natural_gas_fired_combined_cycle"
         },
         {
          "gen_sum": 258.837,
          "hour": 5,
          "resource": "natural_gas_fired_combustion_turbine"
         },
         {
          "gen_sum": 139.17695999999998,
          "hour": 5,
          "resource": "_onshore_wind_turbine"
         },
         {
          "gen_sum": 3.184932,
          "hour": 5,
          "resource": "_small_hydroelectric"
         },
         {
          "gen_sum": 0,
          "hour": 5,
          "resource": "_solar_photovoltaic"
         },
         {
          "gen_sum": 21.4,
          "hour": 6,
          "resource": "biomass"
         },
         {
          "gen_sum": 42.000000000000014,
          "hour": 6,
          "resource": "hydroelectric_pumped_storage"
         },
         {
          "gen_sum": 1714.2362280000002,
          "hour": 6,
          "resource": "natural_gas_fired_combined_cycle"
         },
         {
          "gen_sum": 225.449,
          "hour": 6,
          "resource": "natural_gas_fired_combustion_turbine"
         },
         {
          "gen_sum": 74.17984,
          "hour": 6,
          "resource": "_onshore_wind_turbine"
         },
         {
          "gen_sum": 3.184932,
          "hour": 6,
          "resource": "_small_hydroelectric"
         },
         {
          "gen_sum": 193.55,
          "hour": 6,
          "resource": "_solar_photovoltaic"
         },
         {
          "gen_sum": 21.4,
          "hour": 7,
          "resource": "biomass"
         },
         {
          "gen_sum": 41.999999999999964,
          "hour": 7,
          "resource": "hydroelectric_pumped_storage"
         },
         {
          "gen_sum": 1605.161828,
          "hour": 7,
          "resource": "natural_gas_fired_combined_cycle"
         },
         {
          "gen_sum": 102.02980000000001,
          "hour": 7,
          "resource": "natural_gas_fired_combustion_turbine"
         },
         {
          "gen_sum": 49.373439999999995,
          "hour": 7,
          "resource": "_onshore_wind_turbine"
         },
         {
          "gen_sum": 3.184932,
          "hour": 7,
          "resource": "_small_hydroelectric"
         },
         {
          "gen_sum": 773.85,
          "hour": 7,
          "resource": "_solar_photovoltaic"
         },
         {
          "gen_sum": 21.4,
          "hour": 8,
          "resource": "biomass"
         },
         {
          "gen_sum": 41.99999999999994,
          "hour": 8,
          "resource": "hydroelectric_pumped_storage"
         },
         {
          "gen_sum": 895.1429079999996,
          "hour": 8,
          "resource": "natural_gas_fired_combined_cycle"
         },
         {
          "gen_sum": 37.316,
          "hour": 8,
          "resource": "natural_gas_fired_combustion_turbine"
         },
         {
          "gen_sum": 167.35616,
          "hour": 8,
          "resource": "_onshore_wind_turbine"
         },
         {
          "gen_sum": 3.184932,
          "hour": 8,
          "resource": "_small_hydroelectric"
         },
         {
          "gen_sum": 1671.6000000000001,
          "hour": 8,
          "resource": "_solar_photovoltaic"
         },
         {
          "gen_sum": 21.4,
          "hour": 9,
          "resource": "biomass"
         },
         {
          "gen_sum": 42.00000000000014,
          "hour": 9,
          "resource": "hydroelectric_pumped_storage"
         },
         {
          "gen_sum": 809.9041079999995,
          "hour": 9,
          "resource": "natural_gas_fired_combined_cycle"
         },
         {
          "gen_sum": 0,
          "hour": 9,
          "resource": "natural_gas_fired_combustion_turbine"
         },
         {
          "gen_sum": 131.56096,
          "hour": 9,
          "resource": "_onshore_wind_turbine"
         },
         {
          "gen_sum": 3.184932,
          "hour": 9,
          "resource": "_small_hydroelectric"
         },
         {
          "gen_sum": 2014.95,
          "hour": 9,
          "resource": "_solar_photovoltaic"
         },
         {
          "gen_sum": 21.4,
          "hour": 10,
          "resource": "biomass"
         },
         {
          "gen_sum": 42.00000000000017,
          "hour": 10,
          "resource": "hydroelectric_pumped_storage"
         },
         {
          "gen_sum": 833.5714679999999,
          "hour": 10,
          "resource": "natural_gas_fired_combined_cycle"
         },
         {
          "gen_sum": 0,
          "hour": 10,
          "resource": "natural_gas_fired_combustion_turbine"
         },
         {
          "gen_sum": 111.1936,
          "hour": 10,
          "resource": "_onshore_wind_turbine"
         },
         {
          "gen_sum": 3.184932,
          "hour": 10,
          "resource": "_small_hydroelectric"
         },
         {
          "gen_sum": 2113.65,
          "hour": 10,
          "resource": "_solar_photovoltaic"
         },
         {
          "gen_sum": 0,
          "hour": 11,
          "resource": "biomass"
         },
         {
          "gen_sum": 0,
          "hour": 11,
          "resource": "hydroelectric_pumped_storage"
         },
         {
          "gen_sum": 759.0462,
          "hour": 11,
          "resource": "natural_gas_fired_combined_cycle"
         },
         {
          "gen_sum": 0,
          "hour": 11,
          "resource": "natural_gas_fired_combustion_turbine"
         },
         {
          "gen_sum": 52.11886799999968,
          "hour": 11,
          "resource": "_onshore_wind_turbine"
         },
         {
          "gen_sum": 3.184932,
          "hour": 11,
          "resource": "_small_hydroelectric"
         },
         {
          "gen_sum": 2148.65,
          "hour": 11,
          "resource": "_solar_photovoltaic"
         },
         {
          "gen_sum": 0,
          "hour": 12,
          "resource": "biomass"
         },
         {
          "gen_sum": 0,
          "hour": 12,
          "resource": "hydroelectric_pumped_storage"
         },
         {
          "gen_sum": 748.0462,
          "hour": 12,
          "resource": "natural_gas_fired_combined_cycle"
         },
         {
          "gen_sum": 0,
          "hour": 12,
          "resource": "natural_gas_fired_combustion_turbine"
         },
         {
          "gen_sum": 0,
          "hour": 12,
          "resource": "_onshore_wind_turbine"
         },
         {
          "gen_sum": 0,
          "hour": 12,
          "resource": "_small_hydroelectric"
         },
         {
          "gen_sum": 1994.9537999999998,
          "hour": 12,
          "resource": "_solar_photovoltaic"
         },
         {
          "gen_sum": 0,
          "hour": 13,
          "resource": "biomass"
         },
         {
          "gen_sum": 0,
          "hour": 13,
          "resource": "hydroelectric_pumped_storage"
         },
         {
          "gen_sum": 744.1962,
          "hour": 13,
          "resource": "natural_gas_fired_combined_cycle"
         },
         {
          "gen_sum": 0,
          "hour": 13,
          "resource": "natural_gas_fired_combustion_turbine"
         },
         {
          "gen_sum": 0,
          "hour": 13,
          "resource": "_onshore_wind_turbine"
         },
         {
          "gen_sum": 0,
          "hour": 13,
          "resource": "_small_hydroelectric"
         },
         {
          "gen_sum": 1921.8038,
          "hour": 13,
          "resource": "_solar_photovoltaic"
         },
         {
          "gen_sum": 0,
          "hour": 14,
          "resource": "biomass"
         },
         {
          "gen_sum": 0,
          "hour": 14,
          "resource": "hydroelectric_pumped_storage"
         },
         {
          "gen_sum": 739.7962,
          "hour": 14,
          "resource": "natural_gas_fired_combined_cycle"
         },
         {
          "gen_sum": 0,
          "hour": 14,
          "resource": "natural_gas_fired_combustion_turbine"
         },
         {
          "gen_sum": 0,
          "hour": 14,
          "resource": "_onshore_wind_turbine"
         },
         {
          "gen_sum": 0,
          "hour": 14,
          "resource": "_small_hydroelectric"
         },
         {
          "gen_sum": 1838.2037999999998,
          "hour": 14,
          "resource": "_solar_photovoltaic"
         },
         {
          "gen_sum": 0,
          "hour": 15,
          "resource": "biomass"
         },
         {
          "gen_sum": 0,
          "hour": 15,
          "resource": "hydroelectric_pumped_storage"
         },
         {
          "gen_sum": 734.9962,
          "hour": 15,
          "resource": "natural_gas_fired_combined_cycle"
         },
         {
          "gen_sum": 0,
          "hour": 15,
          "resource": "natural_gas_fired_combustion_turbine"
         },
         {
          "gen_sum": 0,
          "hour": 15,
          "resource": "_onshore_wind_turbine"
         },
         {
          "gen_sum": 0,
          "hour": 15,
          "resource": "_small_hydroelectric"
         },
         {
          "gen_sum": 1747.0038000000002,
          "hour": 15,
          "resource": "_solar_photovoltaic"
         },
         {
          "gen_sum": 0,
          "hour": 16,
          "resource": "biomass"
         },
         {
          "gen_sum": 0,
          "hour": 16,
          "resource": "hydroelectric_pumped_storage"
         },
         {
          "gen_sum": 731.9962,
          "hour": 16,
          "resource": "natural_gas_fired_combined_cycle"
         },
         {
          "gen_sum": 0,
          "hour": 16,
          "resource": "natural_gas_fired_combustion_turbine"
         },
         {
          "gen_sum": 49.518868,
          "hour": 16,
          "resource": "_onshore_wind_turbine"
         },
         {
          "gen_sum": 3.184932,
          "hour": 16,
          "resource": "_small_hydroelectric"
         },
         {
          "gen_sum": 1637.3,
          "hour": 16,
          "resource": "_solar_photovoltaic"
         },
         {
          "gen_sum": 21.4,
          "hour": 17,
          "resource": "biomass"
         },
         {
          "gen_sum": 42.0000000000001,
          "hour": 17,
          "resource": "hydroelectric_pumped_storage"
         },
         {
          "gen_sum": 1096.196188,
          "hour": 17,
          "resource": "natural_gas_fired_combined_cycle"
         },
         {
          "gen_sum": 0,
          "hour": 17,
          "resource": "natural_gas_fired_combustion_turbine"
         },
         {
          "gen_sum": 78.61888,
          "hour": 17,
          "resource": "_onshore_wind_turbine"
         },
         {
          "gen_sum": 3.184932,
          "hour": 17,
          "resource": "_small_hydroelectric"
         },
         {
          "gen_sum": 1132.6,
          "hour": 17,
          "resource": "_solar_photovoltaic"
         },
         {
          "gen_sum": 21.4,
          "hour": 18,
          "resource": "biomass"
         },
         {
          "gen_sum": 42,
          "hour": 18,
          "resource": "hydroelectric_pumped_storage"
         },
         {
          "gen_sum": 1592.5,
          "hour": 18,
          "resource": "natural_gas_fired_combined_cycle"
         },
         {
          "gen_sum": 499.34938800000066,
          "hour": 18,
          "resource": "natural_gas_fired_combustion_turbine"
         },
         {
          "gen_sum": 52.61568,
          "hour": 18,
          "resource": "_onshore_wind_turbine"
         },
         {
          "gen_sum": 3.184932,
          "hour": 18,
          "resource": "_small_hydroelectric"
         },
         {
          "gen_sum": 166.95,
          "hour": 18,
          "resource": "_solar_photovoltaic"
         },
         {
          "gen_sum": 21.4,
          "hour": 19,
          "resource": "biomass"
         },
         {
          "gen_sum": 42.00000000000001,
          "hour": 19,
          "resource": "hydroelectric_pumped_storage"
         },
         {
          "gen_sum": 1592.5,
          "hour": 19,
          "resource": "natural_gas_fired_combined_cycle"
         },
         {
          "gen_sum": 780.4865880000004,
          "hour": 19,
          "resource": "natural_gas_fired_combustion_turbine"
         },
         {
          "gen_sum": 61.42848,
          "hour": 19,
          "resource": "_onshore_wind_turbine"
         },
         {
          "gen_sum": 3.184932,
          "hour": 19,
          "resource": "_small_hydroelectric"
         },
         {
          "gen_sum": 0,
          "hour": 19,
          "resource": "_solar_photovoltaic"
         },
         {
          "gen_sum": 21.4,
          "hour": 20,
          "resource": "biomass"
         },
         {
          "gen_sum": 42,
          "hour": 20,
          "resource": "hydroelectric_pumped_storage"
         },
         {
          "gen_sum": 1592.5,
          "hour": 20,
          "resource": "natural_gas_fired_combined_cycle"
         },
         {
          "gen_sum": 774.9982680000005,
          "hour": 20,
          "resource": "natural_gas_fired_combustion_turbine"
         },
         {
          "gen_sum": 71.9168,
          "hour": 20,
          "resource": "_onshore_wind_turbine"
         },
         {
          "gen_sum": 3.184932,
          "hour": 20,
          "resource": "_small_hydroelectric"
         },
         {
          "gen_sum": 0,
          "hour": 20,
          "resource": "_solar_photovoltaic"
         },
         {
          "gen_sum": 21.4,
          "hour": 21,
          "resource": "biomass"
         },
         {
          "gen_sum": 42,
          "hour": 21,
          "resource": "hydroelectric_pumped_storage"
         },
         {
          "gen_sum": 1592.5,
          "hour": 21,
          "resource": "natural_gas_fired_combined_cycle"
         },
         {
          "gen_sum": 502.86642800000084,
          "hour": 21,
          "resource": "natural_gas_fired_combustion_turbine"
         },
         {
          "gen_sum": 96.04864,
          "hour": 21,
          "resource": "_onshore_wind_turbine"
         },
         {
          "gen_sum": 3.184932,
          "hour": 21,
          "resource": "_small_hydroelectric"
         },
         {
          "gen_sum": 0,
          "hour": 21,
          "resource": "_solar_photovoltaic"
         },
         {
          "gen_sum": 21.4,
          "hour": 22,
          "resource": "biomass"
         },
         {
          "gen_sum": 42,
          "hour": 22,
          "resource": "hydroelectric_pumped_storage"
         },
         {
          "gen_sum": 1566.486848,
          "hour": 22,
          "resource": "natural_gas_fired_combined_cycle"
         },
         {
          "gen_sum": 228.4591,
          "hour": 22,
          "resource": "natural_gas_fired_combustion_turbine"
         },
         {
          "gen_sum": 126.46912,
          "hour": 22,
          "resource": "_onshore_wind_turbine"
         },
         {
          "gen_sum": 3.184932,
          "hour": 22,
          "resource": "_small_hydroelectric"
         },
         {
          "gen_sum": 0,
          "hour": 22,
          "resource": "_solar_photovoltaic"
         },
         {
          "gen_sum": 21.4,
          "hour": 23,
          "resource": "biomass"
         },
         {
          "gen_sum": 42,
          "hour": 23,
          "resource": "hydroelectric_pumped_storage"
         },
         {
          "gen_sum": 1392.2208480000002,
          "hour": 23,
          "resource": "natural_gas_fired_combined_cycle"
         },
         {
          "gen_sum": 156.7731,
          "hour": 23,
          "resource": "natural_gas_fired_combustion_turbine"
         },
         {
          "gen_sum": 144.42111999999997,
          "hour": 23,
          "resource": "_onshore_wind_turbine"
         },
         {
          "gen_sum": 3.184932,
          "hour": 23,
          "resource": "_small_hydroelectric"
         },
         {
          "gen_sum": 0,
          "hour": 23,
          "resource": "_solar_photovoltaic"
         },
         {
          "gen_sum": 0,
          "hour": 0,
          "resource": "_solar_photovoltaic_btm"
         },
         {
          "gen_sum": 0,
          "hour": 1,
          "resource": "_solar_photovoltaic_btm"
         },
         {
          "gen_sum": 0,
          "hour": 2,
          "resource": "_solar_photovoltaic_btm"
         },
         {
          "gen_sum": 0,
          "hour": 3,
          "resource": "_solar_photovoltaic_btm"
         },
         {
          "gen_sum": 0,
          "hour": 4,
          "resource": "_solar_photovoltaic_btm"
         },
         {
          "gen_sum": 0,
          "hour": 5,
          "resource": "_solar_photovoltaic_btm"
         },
         {
          "gen_sum": 33.18,
          "hour": 6,
          "resource": "_solar_photovoltaic_btm"
         },
         {
          "gen_sum": 132.66,
          "hour": 7,
          "resource": "_solar_photovoltaic_btm"
         },
         {
          "gen_sum": 286.56,
          "hour": 8,
          "resource": "_solar_photovoltaic_btm"
         },
         {
          "gen_sum": 345.42,
          "hour": 9,
          "resource": "_solar_photovoltaic_btm"
         },
         {
          "gen_sum": 362.34,
          "hour": 10,
          "resource": "_solar_photovoltaic_btm"
         },
         {
          "gen_sum": 368.34,
          "hour": 11,
          "resource": "_solar_photovoltaic_btm"
         },
         {
          "gen_sum": 386.76,
          "hour": 12,
          "resource": "_solar_photovoltaic_btm"
         },
         {
          "gen_sum": 387.29999999999995,
          "hour": 13,
          "resource": "_solar_photovoltaic_btm"
         },
         {
          "gen_sum": 374.46,
          "hour": 14,
          "resource": "_solar_photovoltaic_btm"
         },
         {
          "gen_sum": 341.7,
          "hour": 15,
          "resource": "_solar_photovoltaic_btm"
         },
         {
          "gen_sum": 280.68,
          "hour": 16,
          "resource": "_solar_photovoltaic_btm"
         },
         {
          "gen_sum": 194.16,
          "hour": 17,
          "resource": "_solar_photovoltaic_btm"
         },
         {
          "gen_sum": 28.62,
          "hour": 18,
          "resource": "_solar_photovoltaic_btm"
         },
         {
          "gen_sum": 0,
          "hour": 19,
          "resource": "_solar_photovoltaic_btm"
         },
         {
          "gen_sum": 0,
          "hour": 20,
          "resource": "_solar_photovoltaic_btm"
         },
         {
          "gen_sum": 0,
          "hour": 21,
          "resource": "_solar_photovoltaic_btm"
         },
         {
          "gen_sum": 0,
          "hour": 22,
          "resource": "_solar_photovoltaic_btm"
         },
         {
          "gen_sum": 0,
          "hour": 23,
          "resource": "_solar_photovoltaic_btm"
         },
         {
          "gen_sum": 0,
          "hour": 0,
          "resource": "_curtailment"
         },
         {
          "gen_sum": 0,
          "hour": 1,
          "resource": "_curtailment"
         },
         {
          "gen_sum": 0,
          "hour": 2,
          "resource": "_curtailment"
         },
         {
          "gen_sum": 0,
          "hour": 3,
          "resource": "_curtailment"
         },
         {
          "gen_sum": 0,
          "hour": 4,
          "resource": "_curtailment"
         },
         {
          "gen_sum": 0,
          "hour": 5,
          "resource": "_curtailment"
         },
         {
          "gen_sum": 0,
          "hour": 6,
          "resource": "_curtailment"
         },
         {
          "gen_sum": 0,
          "hour": 7,
          "resource": "_curtailment"
         },
         {
          "gen_sum": 0,
          "hour": 8,
          "resource": "_curtailment"
         },
         {
          "gen_sum": 0,
          "hour": 9,
          "resource": "_curtailment"
         },
         {
          "gen_sum": 0,
          "hour": 10,
          "resource": "_curtailment"
         },
         {
          "gen_sum": 39.99121200000032,
          "hour": 11,
          "resource": "_curtailment"
         },
         {
          "gen_sum": 316.4245720000001,
          "hour": 12,
          "resource": "_curtailment"
         },
         {
          "gen_sum": 405.3236120000001,
          "hour": 13,
          "resource": "_curtailment"
         },
         {
          "gen_sum": 398.5522520000001,
          "hour": 14,
          "resource": "_curtailment"
         },
         {
          "gen_sum": 314.8416919999998,
          "hour": 15,
          "resource": "_curtailment"
         },
         {
          "gen_sum": 7.666411999999994,
          "hour": 16,
          "resource": "_curtailment"
         },
         {
          "gen_sum": 0,
          "hour": 17,
          "resource": "_curtailment"
         },
         {
          "gen_sum": 0,
          "hour": 18,
          "resource": "_curtailment"
         },
         {
          "gen_sum": 0,
          "hour": 19,
          "resource": "_curtailment"
         },
         {
          "gen_sum": 0,
          "hour": 20,
          "resource": "_curtailment"
         },
         {
          "gen_sum": 0,
          "hour": 21,
          "resource": "_curtailment"
         },
         {
          "gen_sum": 0,
          "hour": 22,
          "resource": "_curtailment"
         },
         {
          "gen_sum": 0,
          "hour": 23,
          "resource": "_curtailment"
         }
        ]
       },
       "encoding": {
        "color": {
         "field": "resource",
         "scale": {
          "scheme": "category10"
         },
         "type": "nominal"
        },
        "x": {
         "field": "hour",
         "type": "quantitative"
        },
        "y": {
         "field": "gen_sum",
         "stack": "zero",
         "type": "quantitative"
        }
       },
       "mark": "area"
      },
      "image/png": "[encoded data removed]",
      "image/svg+xml": [
       "<?xml version=\"1.0\" encoding=\"utf-8\"?>\n",
       "<!DOCTYPE svg PUBLIC \"-//W3C//DTD SVG 1.1//EN\" \"http://www.w3.org/Graphics/SVG/1.1/DTD/svg11.dtd\">\n",
       "<svg xmlns=\"http://www.w3.org/2000/svg\" xmlns:xlink=\"http://www.w3.org/1999/xlink\" version=\"1.1\" class=\"marks\" width=\"452\" height=\"247\" viewBox=\"0 0 452 247\"><rect width=\"452\" height=\"247\" fill=\"white\"/><g fill=\"none\" stroke-miterlimit=\"10\" transform=\"translate(54,10)\"><g class=\"mark-group role-frame root\" role=\"graphics-object\" aria-roledescription=\"group mark container\"><g transform=\"translate(0,0)\"><path class=\"background\" aria-hidden=\"true\" d=\"M0.5,0.5h200v200h-200Z\" stroke=\"#ddd\"/><g><g class=\"mark-group role-axis\" aria-hidden=\"true\"><g transform=\"translate(0.5,200.5)\"><path class=\"background\" aria-hidden=\"true\" d=\"M0,0h0v0h0Z\" pointer-events=\"none\"/><g><g class=\"mark-rule role-axis-grid\" pointer-events=\"none\"><line transform=\"translate(0,-200)\" x2=\"0\" y2=\"200\" stroke=\"#ddd\" stroke-width=\"1\" opacity=\"1\"/><line transform=\"translate(42,-200)\" x2=\"0\" y2=\"200\" stroke=\"#ddd\" stroke-width=\"1\" opacity=\"1\"/><line transform=\"translate(83,-200)\" x2=\"0\" y2=\"200\" stroke=\"#ddd\" stroke-width=\"1\" opacity=\"1\"/><line transform=\"translate(125,-200)\" x2=\"0\" y2=\"200\" stroke=\"#ddd\" stroke-width=\"1\" opacity=\"1\"/><line transform=\"translate(167,-200)\" x2=\"0\" y2=\"200\" stroke=\"#ddd\" stroke-width=\"1\" opacity=\"1\"/></g></g><path class=\"foreground\" aria-hidden=\"true\" d=\"\" pointer-events=\"none\" display=\"none\"/></g></g><g class=\"mark-group role-axis\" aria-hidden=\"true\"><g transform=\"translate(0.5,0.5)\"><path class=\"background\" aria-hidden=\"true\" d=\"M0,0h0v0h0Z\" pointer-events=\"none\"/><g><g class=\"mark-rule role-axis-grid\" pointer-events=\"none\"><line transform=\"translate(0,200)\" x2=\"200\" y2=\"0\" stroke=\"#ddd\" stroke-width=\"1\" opacity=\"1\"/><line transform=\"translate(0,171)\" x2=\"200\" y2=\"0\" stroke=\"#ddd\" stroke-width=\"1\" opacity=\"1\"/><line transform=\"translate(0,143)\" x2=\"200\" y2=\"0\" stroke=\"#ddd\" stroke-width=\"1\" opacity=\"1\"/><line transform=\"translate(0,114)\" x2=\"200\" y2=\"0\" stroke=\"#ddd\" stroke-width=\"1\" opacity=\"1\"/><line transform=\"translate(0,86)\" x2=\"200\" y2=\"0\" stroke=\"#ddd\" stroke-width=\"1\" opacity=\"1\"/><line transform=\"translate(0,57)\" x2=\"200\" y2=\"0\" stroke=\"#ddd\" stroke-width=\"1\" opacity=\"1\"/><line transform=\"translate(0,29)\" x2=\"200\" y2=\"0\" stroke=\"#ddd\" stroke-width=\"1\" opacity=\"1\"/><line transform=\"translate(0,0)\" x2=\"200\" y2=\"0\" stroke=\"#ddd\" stroke-width=\"1\" opacity=\"1\"/></g></g><path class=\"foreground\" aria-hidden=\"true\" d=\"\" pointer-events=\"none\" display=\"none\"/></g></g><g class=\"mark-group role-axis\" role=\"graphics-symbol\" aria-roledescription=\"axis\" aria-label=\"X-axis titled 'hour' for a linear scale with values from 0 to 24\"><g transform=\"translate(0.5,200.5)\"><path class=\"background\" aria-hidden=\"true\" d=\"M0,0h0v0h0Z\" pointer-events=\"none\"/><g><g class=\"mark-rule role-axis-tick\" pointer-events=\"none\"><line transform=\"translate(0,0)\" x2=\"0\" y2=\"5\" stroke=\"#888\" stroke-width=\"1\" opacity=\"1\"/><line transform=\"translate(42,0)\" x2=\"0\" y2=\"5\" stroke=\"#888\" stroke-width=\"1\" opacity=\"1\"/><line transform=\"translate(83,0)\" x2=\"0\" y2=\"5\" stroke=\"#888\" stroke-width=\"1\" opacity=\"1\"/><line transform=\"translate(125,0)\" x2=\"0\" y2=\"5\" stroke=\"#888\" stroke-width=\"1\" opacity=\"1\"/><line transform=\"translate(167,0)\" x2=\"0\" y2=\"5\" stroke=\"#888\" stroke-width=\"1\" opacity=\"1\"/></g><g class=\"mark-text role-axis-label\" pointer-events=\"none\"><text text-anchor=\"start\" transform=\"translate(0,15)\" font-family=\"sans-serif\" font-size=\"10px\" fill=\"#000\" opacity=\"1\">0</text><text text-anchor=\"middle\" transform=\"translate(41.66666666666667,15)\" font-family=\"sans-serif\" font-size=\"10px\" fill=\"#000\" opacity=\"1\">5</text><text text-anchor=\"middle\" transform=\"translate(83.33333333333334,15)\" font-family=\"sans-serif\" font-size=\"10px\" fill=\"#000\" opacity=\"1\">10</text><text text-anchor=\"middle\" transform=\"translate(125,15)\" font-family=\"sans-serif\" font-size=\"10px\" fill=\"#000\" opacity=\"1\">15</text><text text-anchor=\"middle\" transform=\"translate(166.66666666666669,15)\" font-family=\"sans-serif\" font-size=\"10px\" fill=\"#000\" opacity=\"1\">20</text></g><g class=\"mark-rule role-axis-domain\" pointer-events=\"none\"><line transform=\"translate(0,0)\" x2=\"200\" y2=\"0\" stroke=\"#888\" stroke-width=\"1\" opacity=\"1\"/></g><g class=\"mark-text role-axis-title\" pointer-events=\"none\"><text text-anchor=\"middle\" transform=\"translate(100,30)\" font-family=\"sans-serif\" font-size=\"11px\" font-weight=\"bold\" fill=\"#000\" opacity=\"1\">hour</text></g></g><path class=\"foreground\" aria-hidden=\"true\" d=\"\" pointer-events=\"none\" display=\"none\"/></g></g><g class=\"mark-group role-axis\" role=\"graphics-symbol\" aria-roledescription=\"axis\" aria-label=\"Y-axis titled 'gen_sum' for a linear scale with values from 0 to 3,500\"><g transform=\"translate(0.5,0.5)\"><path class=\"background\" aria-hidden=\"true\" d=\"M0,0h0v0h0Z\" pointer-events=\"none\"/><g><g class=\"mark-rule role-axis-tick\" pointer-events=\"none\"><line transform=\"translate(0,200)\" x2=\"-5\" y2=\"0\" stroke=\"#888\" stroke-width=\"1\" opacity=\"1\"/><line transform=\"translate(0,171)\" x2=\"-5\" y2=\"0\" stroke=\"#888\" stroke-width=\"1\" opacity=\"1\"/><line transform=\"translate(0,143)\" x2=\"-5\" y2=\"0\" stroke=\"#888\" stroke-width=\"1\" opacity=\"1\"/><line transform=\"translate(0,114)\" x2=\"-5\" y2=\"0\" stroke=\"#888\" stroke-width=\"1\" opacity=\"1\"/><line transform=\"translate(0,86)\" x2=\"-5\" y2=\"0\" stroke=\"#888\" stroke-width=\"1\" opacity=\"1\"/><line transform=\"translate(0,57)\" x2=\"-5\" y2=\"0\" stroke=\"#888\" stroke-width=\"1\" opacity=\"1\"/><line transform=\"translate(0,29)\" x2=\"-5\" y2=\"0\" stroke=\"#888\" stroke-width=\"1\" opacity=\"1\"/><line transform=\"translate(0,0)\" x2=\"-5\" y2=\"0\" stroke=\"#888\" stroke-width=\"1\" opacity=\"1\"/></g><g class=\"mark-text role-axis-label\" pointer-events=\"none\"><text text-anchor=\"end\" transform=\"translate(-7,203)\" font-family=\"sans-serif\" font-size=\"10px\" fill=\"#000\" opacity=\"1\">0</text><text text-anchor=\"end\" transform=\"translate(-7,174.42857142857144)\" font-family=\"sans-serif\" font-size=\"10px\" fill=\"#000\" opacity=\"1\">500</text><text text-anchor=\"end\" transform=\"translate(-7,145.85714285714286)\" font-family=\"sans-serif\" font-size=\"10px\" fill=\"#000\" opacity=\"1\">1,000</text><text text-anchor=\"end\" transform=\"translate(-7,117.28571428571428)\" font-family=\"sans-serif\" font-size=\"10px\" fill=\"#000\" opacity=\"1\">1,500</text><text text-anchor=\"end\" transform=\"translate(-7,88.71428571428572)\" font-family=\"sans-serif\" font-size=\"10px\" fill=\"#000\" opacity=\"1\">2,000</text><text text-anchor=\"end\" transform=\"translate(-7,60.14285714285714)\" font-family=\"sans-serif\" font-size=\"10px\" fill=\"#000\" opacity=\"1\">2,500</text><text text-anchor=\"end\" transform=\"translate(-7,31.57142857142858)\" font-family=\"sans-serif\" font-size=\"10px\" fill=\"#000\" opacity=\"1\">3,000</text><text text-anchor=\"end\" transform=\"translate(-7,3)\" font-family=\"sans-serif\" font-size=\"10px\" fill=\"#000\" opacity=\"1\">3,500</text></g><g class=\"mark-rule role-axis-domain\" pointer-events=\"none\"><line transform=\"translate(0,200)\" x2=\"0\" y2=\"-200\" stroke=\"#888\" stroke-width=\"1\" opacity=\"1\"/></g><g class=\"mark-text role-axis-title\" pointer-events=\"none\"><text text-anchor=\"middle\" transform=\"translate(-38,100) rotate(-90) translate(0,-2)\" font-family=\"sans-serif\" font-size=\"11px\" font-weight=\"bold\" fill=\"#000\" opacity=\"1\">gen_sum</text></g></g><path class=\"foreground\" aria-hidden=\"true\" d=\"\" pointer-events=\"none\" display=\"none\"/></g></g><g class=\"mark-group role-scope pathgroup\" role=\"graphics-object\" aria-roledescription=\"group mark container\"><g transform=\"translate(0,0)\"><path class=\"background\" aria-hidden=\"true\" d=\"M0,0h200v200h-200Z\"/><g><g class=\"mark-area role-mark marks\" role=\"graphics-object\" aria-roledescription=\"area mark container\"><path aria-label=\"hour: 0; gen_sum: 21.4; resource: biomass\" role=\"graphics-symbol\" aria-roledescription=\"area mark\" d=\"M0,117.22821325714285L8.333333333333332,121.1416121142857L16.666666666666664,120.01687611428568L25,116.67073668571429L33.33333333333333,105.75784068571426L41.66666666666667,95.22067954285714L50,85.53798697142855L58.333333333333336,98.82333554285714L66.66666666666666,143.09377668571432L75,150.09690811428572L83.33333333333334,148.74448754285714L91.66666666666666,156.62593142857145L100,157.25450285714285L108.33333333333333,157.47450285714285L116.66666666666667,157.72593142857144L125,158.00021714285714L133.33333333333331,158.17164571428572L141.66666666666669,133.7373606857143L150,76.84289211428568L158.33333333333331,60.77790925714282L166.66666666666669,61.091527542857115L175,76.64191839999997L183.33333333333331,93.80880297142858L191.66666666666669,107.86320297142855L191.66666666666669,109.0860601142857L183.33333333333331,95.03166011428573L175,77.86477554285712L166.66666666666669,62.314384685714266L158.33333333333331,62.00076639999996L150,78.06574925714283L141.66666666666669,134.96021782857144L133.33333333333331,158.17164571428572L125,158.00021714285714L116.66666666666667,157.72593142857144L108.33333333333333,157.47450285714285L100,157.25450285714285L91.66666666666666,156.62593142857145L83.33333333333334,149.9673446857143L75,151.31976525714288L66.66666666666666,144.31663382857144L58.333333333333336,100.04619268571429L50,86.7608441142857L41.66666666666667,96.44353668571428L33.33333333333333,106.98069782857141L25,117.89359382857143L16.666666666666664,121.23973325714283L8.333333333333332,122.36446925714286L0,118.4510704Z\" fill=\"#8c564b\"/></g></g><path class=\"foreground\" aria-hidden=\"true\" d=\"\" display=\"none\"/></g><g transform=\"translate(0,0)\"><path class=\"background\" aria-hidden=\"true\" d=\"M0,0h200v200h-200Z\"/><g><g class=\"mark-area role-mark marks\" role=\"graphics-object\" aria-roledescription=\"area mark container\"><path aria-label=\"hour: 0; gen_sum: 42; resource: hydroelectric_pumped_storage\" role=\"graphics-symbol\" aria-roledescription=\"area mark\" d=\"M0,118.4510704L8.333333333333332,122.36446925714286L16.666666666666664,121.23973325714283L25,117.89359382857143L33.33333333333333,106.98069782857141L41.66666666666667,96.44353668571428L50,86.7608441142857L58.333333333333336,100.04619268571429L66.66666666666666,144.31663382857144L75,151.31976525714288L83.33333333333334,149.9673446857143L91.66666666666666,156.62593142857145L100,157.25450285714285L108.33333333333333,157.47450285714285L116.66666666666667,157.72593142857144L125,158.00021714285714L133.33333333333331,158.17164571428572L141.66666666666669,134.96021782857144L150,78.06574925714283L158.33333333333331,62.00076639999996L166.66666666666669,62.314384685714266L175,77.86477554285712L183.33333333333331,95.03166011428573L191.66666666666669,109.0860601142857L191.66666666666669,111.4860601142857L183.33333333333331,97.4316601142857L175,80.2647755428571L166.66666666666669,64.71438468571426L158.33333333333331,64.40076639999997L150,80.46574925714283L141.66666666666669,137.36021782857142L133.33333333333331,158.17164571428572L125,158.00021714285714L116.66666666666667,157.72593142857144L108.33333333333333,157.47450285714285L100,157.25450285714285L91.66666666666666,156.62593142857145L83.33333333333334,152.3673446857143L75,153.71976525714288L66.66666666666666,146.71663382857145L58.333333333333336,102.4461926857143L50,89.16084411428571L41.66666666666667,98.84353668571426L33.33333333333333,109.3806978285714L25,120.2935938285714L16.666666666666664,123.63973325714284L8.333333333333332,124.76446925714286L0,120.8510704Z\" fill=\"#e377c2\"/></g></g><path class=\"foreground\" aria-hidden=\"true\" d=\"\" display=\"none\"/></g><g transform=\"translate(0,0)\"><path class=\"background\" aria-hidden=\"true\" d=\"M0,0h200v200h-200Z\"/><g><g class=\"mark-area role-mark marks\" role=\"graphics-object\" aria-roledescription=\"area mark container\"><path aria-label=\"hour: 0; gen_sum: 1217.282468; resource: natural_gas_fired_combined_cycle\" role=\"graphics-symbol\" aria-roledescription=\"area mark\" d=\"M0,120.8510704L8.333333333333332,124.76446925714286L16.666666666666664,123.63973325714284L25,120.2935938285714L33.33333333333333,109.3806978285714L41.66666666666667,98.84353668571426L50,89.16084411428571L58.333333333333336,102.4461926857143L66.66666666666666,146.71663382857145L75,153.71976525714288L83.33333333333334,152.3673446857143L91.66666666666666,156.62593142857145L100,157.25450285714285L108.33333333333333,157.47450285714285L116.66666666666667,157.72593142857144L125,158.00021714285714L133.33333333333331,158.17164571428572L141.66666666666669,137.36021782857142L150,80.46574925714283L158.33333333333331,64.40076639999997L166.66666666666669,64.71438468571426L175,80.2647755428571L183.33333333333331,97.4316601142857L191.66666666666669,111.4860601142857L191.66666666666669,191.04153714285715L183.33333333333331,186.94519428571428L175,171.26477554285708L166.66666666666669,155.71438468571426L158.33333333333331,155.40076639999998L150,171.46574925714282L141.66666666666669,200L133.33333333333331,200L125,200L116.66666666666667,200L108.33333333333333,200L100,200L91.66666666666666,200L83.33333333333334,200L75,200L66.66666666666666,197.86765714285715L58.333333333333336,194.16972571428573L50,187.1172L41.66666666666667,185.20931428571427L33.33333333333333,192.43018285714285L25,192.43018285714285L16.666666666666664,192.43018285714285L8.333333333333332,192.43018285714285L0,190.41006857142858Z\" fill=\"#7f7f7f\"/></g></g><path class=\"foreground\" aria-hidden=\"true\" d=\"\" display=\"none\"/></g><g transform=\"translate(0,0)\"><path class=\"background\" aria-hidden=\"true\" d=\"M0,0h200v200h-200Z\"/><g><g class=\"mark-area role-mark marks\" role=\"graphics-object\" aria-roledescription=\"area mark container\"><path aria-label=\"hour: 0; gen_sum: 167.8238; resource: natural_gas_fired_combustion_turbine\" role=\"graphics-symbol\" aria-roledescription=\"area mark\" d=\"M0,190.41006857142858L8.333333333333332,192.43018285714285L16.666666666666664,192.43018285714285L25,192.43018285714285L33.33333333333333,192.43018285714285L41.66666666666667,185.20931428571427L50,187.1172L58.333333333333336,194.16972571428573L66.66666666666666,197.86765714285715L75,200L83.33333333333334,200L91.66666666666666,200L100,200L108.33333333333333,200L116.66666666666667,200L125,200L133.33333333333331,200L141.66666666666669,200L150,171.46574925714282L158.33333333333331,155.40076639999998L166.66666666666669,155.71438468571426L175,171.26477554285708L183.33333333333331,186.94519428571428L191.66666666666669,191.04153714285715L191.66666666666669,200L183.33333333333331,200L175,200L166.66666666666669,200L158.33333333333331,200L150,200L141.66666666666669,200L133.33333333333331,200L125,200L116.66666666666667,200L108.33333333333333,200L100,200L91.66666666666666,200L83.33333333333334,200L75,200L66.66666666666666,200L58.333333333333336,200L50,200L41.66666666666667,200L33.33333333333333,200L25,200L16.666666666666664,200L8.333333333333332,200L0,200Z\" fill=\"#bcbd22\"/></g></g><path class=\"foreground\" aria-hidden=\"true\" d=\"\" display=\"none\"/></g><g transform=\"translate(0,0)\"><path class=\"background\" aria-hidden=\"true\" d=\"M0,0h200v200h-200Z\"/><g><g class=\"mark-area role-mark marks\" role=\"graphics-object\" aria-roledescription=\"area mark container\"><path aria-label=\"hour: 0; gen_sum: 163.3088; resource: _onshore_wind_turbine\" role=\"graphics-symbol\" aria-roledescription=\"area mark\" d=\"M0,107.71428571428572L8.333333333333332,111.25714285714285L16.666666666666664,113.25714285714285L25,110.74285714285715L33.33333333333333,100.97142857142856L41.66666666666667,87.08571428571427L50,68.16114285714283L58.333333333333336,44.019428571428556L66.66666666666666,21.453714285714298L75,7.5188571428571604L83.33333333333334,0.7234285714285305L91.66666666666666,9.637714285714294L100,21.156571428571436L108.33333333333333,25.525714285714287L116.66666666666667,31.288000000000004L125,38.64571428571426L133.33333333333331,45.56114285714283L141.66666666666669,53.248000000000005L150,62.47885714285712L158.33333333333331,57.08571428571423L166.66666666666669,56.79999999999998L175,70.97142857142853L183.33333333333331,86.4L191.66666666666669,99.42857142857142L191.66666666666669,107.68120685714284L183.33333333333331,93.62680685714287L175,76.45992228571423L166.66666666666669,60.909531428571405L158.33333333333331,60.595913142857086L150,65.4854674285714L141.66666666666669,57.74050742857144L133.33333333333331,48.39079245714284L125,38.64571428571426L116.66666666666667,31.288000000000004L108.33333333333333,25.525714285714287L100,21.156571428571436L91.66666666666666,12.615935314285709L83.33333333333334,7.077348571428543L75,15.036626285714295L66.66666666666666,31.01692342857143L58.333333333333336,46.84076799999997L50,72.39999085714284L41.66666666666667,95.03868342857143L33.33333333333333,105.57584457142855L25,116.48874057142858L16.666666666666664,119.83487999999997L8.333333333333332,120.959616L0,117.04621714285715Z\" fill=\"#ff7f0e\"/></g></g><path class=\"foreground\" aria-hidden=\"true\" d=\"\" display=\"none\"/></g><g transform=\"translate(0,0)\"><path class=\"background\" aria-hidden=\"true\" d=\"M0,0h200v200h-200Z\"/><g><g class=\"mark-area role-mark marks\" role=\"graphics-object\" aria-roledescription=\"area mark container\"><path aria-label=\"hour: 0; gen_sum: 3.184932; resource: _small_hydroelectric\" role=\"graphics-symbol\" aria-roledescription=\"area mark\" d=\"M0,117.04621714285715L8.333333333333332,120.959616L16.666666666666664,119.83487999999997L25,116.48874057142858L33.33333333333333,105.57584457142855L41.66666666666667,95.03868342857143L50,72.39999085714284L58.333333333333336,46.84076799999997L66.66666666666666,31.01692342857143L75,15.036626285714295L83.33333333333334,7.077348571428543L91.66666666666666,12.615935314285709L100,21.156571428571436L108.33333333333333,25.525714285714287L116.66666666666667,31.288000000000004L125,38.64571428571426L133.33333333333331,48.39079245714284L141.66666666666669,57.74050742857144L150,65.4854674285714L158.33333333333331,60.595913142857086L166.66666666666669,60.909531428571405L175,76.45992228571423L183.33333333333331,93.62680685714287L191.66666666666669,107.68120685714284L191.66666666666669,107.86320297142855L183.33333333333331,93.80880297142858L175,76.64191839999997L166.66666666666669,61.091527542857115L158.33333333333331,60.77790925714282L150,65.66746354285713L141.66666666666669,57.92250354285715L133.33333333333331,48.572788571428575L125,38.64571428571426L116.66666666666667,31.288000000000004L108.33333333333333,25.525714285714287L100,21.156571428571436L91.66666666666666,12.797931428571419L83.33333333333334,7.259344685714253L75,15.218622400000026L66.66666666666666,31.19891954285714L58.333333333333336,47.0227641142857L50,72.58198697142855L41.66666666666667,95.22067954285714L33.33333333333333,105.75784068571426L25,116.67073668571429L16.666666666666664,120.01687611428568L8.333333333333332,121.1416121142857L0,117.22821325714285Z\" fill=\"#2ca02c\"/></g></g><path class=\"foreground\" aria-hidden=\"true\" d=\"\" display=\"none\"/></g><g transform=\"translate(0,0)\"><path class=\"background\" aria-hidden=\"true\" d=\"M0,0h200v200h-200Z\"/><g><g class=\"mark-area role-mark marks\" role=\"graphics-object\" aria-roledescription=\"area mark container\"><path aria-label=\"hour: 0; gen_sum: 0; resource: _solar_photovoltaic\" role=\"graphics-symbol\" aria-roledescription=\"area mark\" d=\"M0,117.22821325714285L8.333333333333332,121.1416121142857L16.666666666666664,120.01687611428568L25,116.67073668571429L33.33333333333333,105.75784068571426L41.66666666666667,95.22067954285714L50,72.58198697142855L58.333333333333336,47.0227641142857L66.66666666666666,31.19891954285714L75,15.218622400000026L83.33333333333334,7.259344685714253L91.66666666666666,12.797931428571419L100,21.156571428571436L108.33333333333333,25.525714285714287L116.66666666666667,31.288000000000004L125,38.64571428571426L133.33333333333331,48.572788571428575L141.66666666666669,57.92250354285715L150,65.66746354285713L158.33333333333331,60.77790925714282L166.66666666666669,61.091527542857115L175,76.64191839999997L183.33333333333331,93.80880297142858L191.66666666666669,107.86320297142855L191.66666666666669,107.86320297142855L183.33333333333331,93.80880297142858L175,76.64191839999997L166.66666666666669,61.091527542857115L158.33333333333331,60.77790925714282L150,75.20746354285713L141.66666666666669,122.64250354285716L133.33333333333331,142.13278857142856L125,138.47450285714285L116.66666666666667,136.32821714285714L108.33333333333333,135.3430742857143L100,135.1539314285714L91.66666666666666,135.57793142857145L83.33333333333334,128.0393446857143L75,130.35862240000003L66.66666666666666,126.71891954285717L58.333333333333336,91.2427641142857L50,83.64198697142855L41.66666666666667,95.22067954285714L33.33333333333333,105.75784068571426L25,116.67073668571429L16.666666666666664,120.01687611428568L8.333333333333332,121.1416121142857L0,117.22821325714285Z\" fill=\"#d62728\"/></g></g><path class=\"foreground\" aria-hidden=\"true\" d=\"\" display=\"none\"/></g><g transform=\"translate(0,0)\"><path class=\"background\" aria-hidden=\"true\" d=\"M0,0h200v200h-200Z\"/><g><g class=\"mark-area role-mark marks\" role=\"graphics-object\" aria-roledescription=\"area mark container\"><path aria-label=\"hour: 0; gen_sum: 0; resource: _solar_photovoltaic_btm\" role=\"graphics-symbol\" aria-roledescription=\"area mark\" d=\"M0,117.22821325714285L8.333333333333332,121.1416121142857L16.666666666666664,120.01687611428568L25,116.67073668571429L33.33333333333333,105.75784068571426L41.66666666666667,95.22067954285714L50,83.64198697142855L58.333333333333336,91.2427641142857L66.66666666666666,126.71891954285717L75,130.35862240000003L83.33333333333334,128.0393446857143L91.66666666666666,135.57793142857145L100,135.1539314285714L108.33333333333333,135.3430742857143L116.66666666666667,136.32821714285714L125,138.47450285714285L133.33333333333331,142.13278857142856L141.66666666666669,122.64250354285716L150,75.20746354285713L158.33333333333331,60.77790925714282L166.66666666666669,61.091527542857115L175,76.64191839999997L183.33333333333331,93.80880297142858L191.66666666666669,107.86320297142855L191.66666666666669,107.86320297142855L183.33333333333331,93.80880297142858L175,76.64191839999997L166.66666666666669,61.091527542857115L158.33333333333331,60.77790925714282L150,76.84289211428568L141.66666666666669,133.7373606857143L133.33333333333331,158.17164571428572L125,158.00021714285714L116.66666666666667,157.72593142857144L108.33333333333333,157.47450285714285L100,157.25450285714285L91.66666666666666,156.62593142857145L83.33333333333334,148.74448754285714L75,150.09690811428572L66.66666666666666,143.09377668571432L58.333333333333336,98.82333554285714L50,85.53798697142855L41.66666666666667,95.22067954285714L33.33333333333333,105.75784068571426L25,116.67073668571429L16.666666666666664,120.01687611428568L8.333333333333332,121.1416121142857L0,117.22821325714285Z\" fill=\"#9467bd\"/></g></g><path class=\"foreground\" aria-hidden=\"true\" d=\"\" display=\"none\"/></g><g transform=\"translate(0,0)\"><path class=\"background\" aria-hidden=\"true\" d=\"M0,0h200v200h-200Z\"/><g><g class=\"mark-area role-mark marks\" role=\"graphics-object\" aria-roledescription=\"area mark container\"><path aria-label=\"hour: 0; gen_sum: 0; resource: _curtailment\" role=\"graphics-symbol\" aria-roledescription=\"area mark\" d=\"M0,107.71428571428572L8.333333333333332,111.25714285714285L16.666666666666664,113.25714285714285L25,110.74285714285715L33.33333333333333,100.97142857142856L41.66666666666667,87.08571428571427L50,68.16114285714283L58.333333333333336,44.019428571428556L66.66666666666666,21.453714285714298L75,7.5188571428571604L83.33333333333334,0.7234285714285305L91.66666666666666,7.3525021714285765L100,3.0751673142856983L108.33333333333333,2.3643650285714024L116.66666666666667,8.513585599999995L125,20.65476045714285L133.33333333333331,45.123062171428565L141.66666666666669,53.248000000000005L150,62.47885714285712L158.33333333333331,57.08571428571423L166.66666666666669,56.79999999999998L175,70.97142857142853L183.33333333333331,86.4L191.66666666666669,99.42857142857142L191.66666666666669,99.42857142857142L183.33333333333331,86.4L175,70.97142857142853L166.66666666666669,56.79999999999998L158.33333333333331,57.08571428571423L150,62.47885714285712L141.66666666666669,53.248000000000005L133.33333333333331,45.56114285714283L125,38.64571428571426L116.66666666666667,31.288000000000004L108.33333333333333,25.525714285714287L100,21.15657142857144L91.66666666666666,9.637714285714294L83.33333333333334,0.7234285714285305L75,7.5188571428571604L66.66666666666666,21.453714285714298L58.333333333333336,44.019428571428556L50,68.16114285714283L41.66666666666667,87.08571428571427L33.33333333333333,100.97142857142856L25,110.74285714285715L16.666666666666664,113.25714285714285L8.333333333333332,111.25714285714285L0,107.71428571428572Z\" fill=\"#1f77b4\"/></g></g><path class=\"foreground\" aria-hidden=\"true\" d=\"\" display=\"none\"/></g></g><g class=\"mark-group role-legend\" role=\"graphics-symbol\" aria-roledescription=\"legend\" aria-label=\"Symbol legend titled 'resource' for fill color with 9 values: _curtailment, _onshore_wind_turbine, _small_hydroelectric, _solar_photovoltaic, _solar_photovoltaic_btm, ending with natural_gas_fired_combustion_turbine\"><g transform=\"translate(218,0)\"><path class=\"background\" aria-hidden=\"true\" d=\"M0,0h175v131h-175Z\" pointer-events=\"none\"/><g><g class=\"mark-group role-legend-entry\"><g transform=\"translate(0,16)\"><path class=\"background\" aria-hidden=\"true\" d=\"M0,0h0v0h0Z\" pointer-events=\"none\"/><g><g class=\"mark-group role-scope\" role=\"graphics-object\" aria-roledescription=\"group mark container\"><g transform=\"translate(0,0)\"><path class=\"background\" aria-hidden=\"true\" d=\"M0,0h175v11h-175Z\" pointer-events=\"none\" opacity=\"1\"/><g><g class=\"mark-symbol role-legend-symbol\" pointer-events=\"none\"><path transform=\"translate(6,6)\" d=\"M5,0A5,5,0,1,1,-5,0A5,5,0,1,1,5,0\" fill=\"#1f77b4\" stroke-width=\"1.5\" opacity=\"1\"/></g><g class=\"mark-text role-legend-label\" pointer-events=\"none\"><text text-anchor=\"start\" transform=\"translate(16,9)\" font-family=\"sans-serif\" font-size=\"10px\" fill=\"#000\" opacity=\"1\">_curtailment</text></g></g><path class=\"foreground\" aria-hidden=\"true\" d=\"\" pointer-events=\"none\" display=\"none\"/></g><g transform=\"translate(0,13)\"><path class=\"background\" aria-hidden=\"true\" d=\"M0,0h175v11h-175Z\" pointer-events=\"none\" opacity=\"1\"/><g><g class=\"mark-symbol role-legend-symbol\" pointer-events=\"none\"><path transform=\"translate(6,6)\" d=\"M5,0A5,5,0,1,1,-5,0A5,5,0,1,1,5,0\" fill=\"#ff7f0e\" stroke-width=\"1.5\" opacity=\"1\"/></g><g class=\"mark-text role-legend-label\" pointer-events=\"none\"><text text-anchor=\"start\" transform=\"translate(16,9)\" font-family=\"sans-serif\" font-size=\"10px\" fill=\"#000\" opacity=\"1\">_onshore_wind_turbine</text></g></g><path class=\"foreground\" aria-hidden=\"true\" d=\"\" pointer-events=\"none\" display=\"none\"/></g><g transform=\"translate(0,26)\"><path class=\"background\" aria-hidden=\"true\" d=\"M0,0h175v11h-175Z\" pointer-events=\"none\" opacity=\"1\"/><g><g class=\"mark-symbol role-legend-symbol\" pointer-events=\"none\"><path transform=\"translate(6,6)\" d=\"M5,0A5,5,0,1,1,-5,0A5,5,0,1,1,5,0\" fill=\"#2ca02c\" stroke-width=\"1.5\" opacity=\"1\"/></g><g class=\"mark-text role-legend-label\" pointer-events=\"none\"><text text-anchor=\"start\" transform=\"translate(16,9)\" font-family=\"sans-serif\" font-size=\"10px\" fill=\"#000\" opacity=\"1\">_small_hydroelectric</text></g></g><path class=\"foreground\" aria-hidden=\"true\" d=\"\" pointer-events=\"none\" display=\"none\"/></g><g transform=\"translate(0,39)\"><path class=\"background\" aria-hidden=\"true\" d=\"M0,0h175v11h-175Z\" pointer-events=\"none\" opacity=\"1\"/><g><g class=\"mark-symbol role-legend-symbol\" pointer-events=\"none\"><path transform=\"translate(6,6)\" d=\"M5,0A5,5,0,1,1,-5,0A5,5,0,1,1,5,0\" fill=\"#d62728\" stroke-width=\"1.5\" opacity=\"1\"/></g><g class=\"mark-text role-legend-label\" pointer-events=\"none\"><text text-anchor=\"start\" transform=\"translate(16,9)\" font-family=\"sans-serif\" font-size=\"10px\" fill=\"#000\" opacity=\"1\">_solar_photovoltaic</text></g></g><path class=\"foreground\" aria-hidden=\"true\" d=\"\" pointer-events=\"none\" display=\"none\"/></g><g transform=\"translate(0,52)\"><path class=\"background\" aria-hidden=\"true\" d=\"M0,0h175v11h-175Z\" pointer-events=\"none\" opacity=\"1\"/><g><g class=\"mark-symbol role-legend-symbol\" pointer-events=\"none\"><path transform=\"translate(6,6)\" d=\"M5,0A5,5,0,1,1,-5,0A5,5,0,1,1,5,0\" fill=\"#9467bd\" stroke-width=\"1.5\" opacity=\"1\"/></g><g class=\"mark-text role-legend-label\" pointer-events=\"none\"><text text-anchor=\"start\" transform=\"translate(16,9)\" font-family=\"sans-serif\" font-size=\"10px\" fill=\"#000\" opacity=\"1\">_solar_photovoltaic_btm</text></g></g><path class=\"foreground\" aria-hidden=\"true\" d=\"\" pointer-events=\"none\" display=\"none\"/></g><g transform=\"translate(0,65)\"><path class=\"background\" aria-hidden=\"true\" d=\"M0,0h175v11h-175Z\" pointer-events=\"none\" opacity=\"1\"/><g><g class=\"mark-symbol role-legend-symbol\" pointer-events=\"none\"><path transform=\"translate(6,6)\" d=\"M5,0A5,5,0,1,1,-5,0A5,5,0,1,1,5,0\" fill=\"#8c564b\" stroke-width=\"1.5\" opacity=\"1\"/></g><g class=\"mark-text role-legend-label\" pointer-events=\"none\"><text text-anchor=\"start\" transform=\"translate(16,9)\" font-family=\"sans-serif\" font-size=\"10px\" fill=\"#000\" opacity=\"1\">biomass</text></g></g><path class=\"foreground\" aria-hidden=\"true\" d=\"\" pointer-events=\"none\" display=\"none\"/></g><g transform=\"translate(0,78)\"><path class=\"background\" aria-hidden=\"true\" d=\"M0,0h175v11h-175Z\" pointer-events=\"none\" opacity=\"1\"/><g><g class=\"mark-symbol role-legend-symbol\" pointer-events=\"none\"><path transform=\"translate(6,6)\" d=\"M5,0A5,5,0,1,1,-5,0A5,5,0,1,1,5,0\" fill=\"#e377c2\" stroke-width=\"1.5\" opacity=\"1\"/></g><g class=\"mark-text role-legend-label\" pointer-events=\"none\"><text text-anchor=\"start\" transform=\"translate(16,9)\" font-family=\"sans-serif\" font-size=\"10px\" fill=\"#000\" opacity=\"1\">hydroelectric_pumped_storage</text></g></g><path class=\"foreground\" aria-hidden=\"true\" d=\"\" pointer-events=\"none\" display=\"none\"/></g><g transform=\"translate(0,91)\"><path class=\"background\" aria-hidden=\"true\" d=\"M0,0h175v11h-175Z\" pointer-events=\"none\" opacity=\"1\"/><g><g class=\"mark-symbol role-legend-symbol\" pointer-events=\"none\"><path transform=\"translate(6,6)\" d=\"M5,0A5,5,0,1,1,-5,0A5,5,0,1,1,5,0\" fill=\"#7f7f7f\" stroke-width=\"1.5\" opacity=\"1\"/></g><g class=\"mark-text role-legend-label\" pointer-events=\"none\"><text text-anchor=\"start\" transform=\"translate(16,9)\" font-family=\"sans-serif\" font-size=\"10px\" fill=\"#000\" opacity=\"1\">natural_gas_fired_combined_cy…</text></g></g><path class=\"foreground\" aria-hidden=\"true\" d=\"\" pointer-events=\"none\" display=\"none\"/></g><g transform=\"translate(0,104)\"><path class=\"background\" aria-hidden=\"true\" d=\"M0,0h175v11h-175Z\" pointer-events=\"none\" opacity=\"1\"/><g><g class=\"mark-symbol role-legend-symbol\" pointer-events=\"none\"><path transform=\"translate(6,6)\" d=\"M5,0A5,5,0,1,1,-5,0A5,5,0,1,1,5,0\" fill=\"#bcbd22\" stroke-width=\"1.5\" opacity=\"1\"/></g><g class=\"mark-text role-legend-label\" pointer-events=\"none\"><text text-anchor=\"start\" transform=\"translate(16,9)\" font-family=\"sans-serif\" font-size=\"10px\" fill=\"#000\" opacity=\"1\">natural_gas_fired_combustion_t…</text></g></g><path class=\"foreground\" aria-hidden=\"true\" d=\"\" pointer-events=\"none\" display=\"none\"/></g></g></g><path class=\"foreground\" aria-hidden=\"true\" d=\"\" pointer-events=\"none\" display=\"none\"/></g></g><g class=\"mark-text role-legend-title\" pointer-events=\"none\"><text text-anchor=\"start\" transform=\"translate(0,9)\" font-family=\"sans-serif\" font-size=\"11px\" font-weight=\"bold\" fill=\"#000\" opacity=\"1\">resource</text></g></g><path class=\"foreground\" aria-hidden=\"true\" d=\"\" pointer-events=\"none\" display=\"none\"/></g></g></g><path class=\"foreground\" aria-hidden=\"true\" d=\"\" display=\"none\"/></g></g></g></svg>\n"
      ],
      "text/plain": [
       "@vlplot(\n",
       "    mark=\"area\",\n",
       "    encoding={\n",
       "        x={\n",
       "            field=\"hour\"\n",
       "        },\n",
       "        y={\n",
       "            stack=\"zero\",\n",
       "            field=\"gen_sum\"\n",
       "        },\n",
       "        color={\n",
       "            scale={\n",
       "                scheme=\"category10\"\n",
       "            },\n",
       "            field=\"resource\",\n",
       "            type=\"nominal\"\n",
       "        }\n",
       "    },\n",
       "    data={\n",
       "        values=...\n",
       "    }\n",
       ")"
      ]
     },
     "execution_count": 32,
     "metadata": {},
     "output_type": "execute_result"
    }
   ],
   "source": [
    "solution = unit_commitment_full(gen_df_sens, loads_multi, gen_variable_multi, 0.02);\n",
    " # To keep solve times to a few minutes, we increase the MIP gap tolerance\n",
    " # in this more complex case to 2% (mip_gap=0.02). You can play with this setting to see \n",
    " # how the MIP gap affects solve times on your computer.\n",
    "   \n",
    "\n",
    "# Add in BTM solar and curtailment and plot results\n",
    "\n",
    "sol_gen = innerjoin(solution.gen, \n",
    "                    gen_df[!, [:r_id, :resource]], \n",
    "                    on = :r_id)\n",
    "sol_gen = combine(groupby(sol_gen, [:resource, :hour]), \n",
    "            :gen => sum)\n",
    "\n",
    "# Rename generators (for plotting purposes)\n",
    "sol_gen[sol_gen.resource .== \"solar_photovoltaic\", :resource] .= \"_solar_photovoltaic\"\n",
    "sol_gen[sol_gen.resource .== \"onshore_wind_turbine\", :resource] .= \"_onshore_wind_turbine\"\n",
    "sol_gen[sol_gen.resource .== \"small_hydroelectric\", :resource] .= \"_small_hydroelectric\"\n",
    "\n",
    "# BTM solar\n",
    "btm = DataFrame(resource = repeat([\"_solar_photovoltaic_btm\"]; outer=length(T_period)), \n",
    "    hour = T_period,\n",
    "    gen_sum = gen_variable_multi[gen_variable_multi.gen_full .== \"wec_sdge_solar_photovoltaic_1.0\",:cf] * 600)\n",
    "append!(sol_gen, btm)\n",
    "\n",
    "# Curtailment\n",
    "curtail = combine(groupby(solution.curtail, [:hour]),\n",
    "            :curt => sum)\n",
    "curtail[!, :resource] .= \"_curtailment\"\n",
    "rename!(curtail, :curt_sum => :gen_sum)\n",
    "append!(sol_gen, curtail[:,[:resource, :hour, :gen_sum]])\n",
    "\n",
    "# Rescale hours\n",
    "sol_gen.hour = sol_gen.hour .- T_period[1]\n",
    "\n",
    "sol_gen |>\n",
    "@vlplot(:area, \n",
    "    x=:hour, y={:gen_sum, stack=:zero}, \n",
    "    color={\"resource:n\", scale={scheme=\"category10\"}})"
   ]
  },
  {
   "cell_type": "markdown",
   "metadata": {},
   "source": [
    "We can now see that the need to maintain reserve requirements leads to greater commitment of natural gas units throughout the day. The addition of CCGTs and GTs to meet reserve requirements leads to greater curtailment of wind and solar in the afternoon hours. We also see more CT units committed during the morning ramp as well as the afternoon hours to help provide reserves."
   ]
  },
  {
   "cell_type": "code",
   "execution_count": 33,
   "metadata": {},
   "outputs": [
    {
     "data": {
      "application/vnd.vegalite.v4+json": {
       "data": {
        "values": [
         {
          "gen_sum": 6,
          "hour": 0,
          "resource": "natural_gas_fired_combined_cycle"
         },
         {
          "gen_sum": 5,
          "hour": 0,
          "resource": "natural_gas_fired_combustion_turbine"
         },
         {
          "gen_sum": 6,
          "hour": 1,
          "resource": "natural_gas_fired_combined_cycle"
         },
         {
          "gen_sum": 4,
          "hour": 1,
          "resource": "natural_gas_fired_combustion_turbine"
         },
         {
          "gen_sum": 6,
          "hour": 2,
          "resource": "natural_gas_fired_combined_cycle"
         },
         {
          "gen_sum": 4,
          "hour": 2,
          "resource": "natural_gas_fired_combustion_turbine"
         },
         {
          "gen_sum": 6,
          "hour": 3,
          "resource": "natural_gas_fired_combined_cycle"
         },
         {
          "gen_sum": 4,
          "hour": 3,
          "resource": "natural_gas_fired_combustion_turbine"
         },
         {
          "gen_sum": 6,
          "hour": 4,
          "resource": "natural_gas_fired_combined_cycle"
         },
         {
          "gen_sum": 4,
          "hour": 4,
          "resource": "natural_gas_fired_combustion_turbine"
         },
         {
          "gen_sum": 6,
          "hour": 5,
          "resource": "natural_gas_fired_combined_cycle"
         },
         {
          "gen_sum": 6,
          "hour": 5,
          "resource": "natural_gas_fired_combustion_turbine"
         },
         {
          "gen_sum": 6,
          "hour": 6,
          "resource": "natural_gas_fired_combined_cycle"
         },
         {
          "gen_sum": 5,
          "hour": 6,
          "resource": "natural_gas_fired_combustion_turbine"
         },
         {
          "gen_sum": 6,
          "hour": 7,
          "resource": "natural_gas_fired_combined_cycle"
         },
         {
          "gen_sum": 3,
          "hour": 7,
          "resource": "natural_gas_fired_combustion_turbine"
         },
         {
          "gen_sum": 5,
          "hour": 8,
          "resource": "natural_gas_fired_combined_cycle"
         },
         {
          "gen_sum": 1,
          "hour": 8,
          "resource": "natural_gas_fired_combustion_turbine"
         },
         {
          "gen_sum": 5,
          "hour": 9,
          "resource": "natural_gas_fired_combined_cycle"
         },
         {
          "gen_sum": 0,
          "hour": 9,
          "resource": "natural_gas_fired_combustion_turbine"
         },
         {
          "gen_sum": 5,
          "hour": 10,
          "resource": "natural_gas_fired_combined_cycle"
         },
         {
          "gen_sum": 0,
          "hour": 10,
          "resource": "natural_gas_fired_combustion_turbine"
         },
         {
          "gen_sum": 5,
          "hour": 11,
          "resource": "natural_gas_fired_combined_cycle"
         },
         {
          "gen_sum": 0,
          "hour": 11,
          "resource": "natural_gas_fired_combustion_turbine"
         },
         {
          "gen_sum": 5,
          "hour": 12,
          "resource": "natural_gas_fired_combined_cycle"
         },
         {
          "gen_sum": 0,
          "hour": 12,
          "resource": "natural_gas_fired_combustion_turbine"
         },
         {
          "gen_sum": 5,
          "hour": 13,
          "resource": "natural_gas_fired_combined_cycle"
         },
         {
          "gen_sum": 0,
          "hour": 13,
          "resource": "natural_gas_fired_combustion_turbine"
         },
         {
          "gen_sum": 5,
          "hour": 14,
          "resource": "natural_gas_fired_combined_cycle"
         },
         {
          "gen_sum": 0,
          "hour": 14,
          "resource": "natural_gas_fired_combustion_turbine"
         },
         {
          "gen_sum": 5,
          "hour": 15,
          "resource": "natural_gas_fired_combined_cycle"
         },
         {
          "gen_sum": 0,
          "hour": 15,
          "resource": "natural_gas_fired_combustion_turbine"
         },
         {
          "gen_sum": 5,
          "hour": 16,
          "resource": "natural_gas_fired_combined_cycle"
         },
         {
          "gen_sum": 0,
          "hour": 16,
          "resource": "natural_gas_fired_combustion_turbine"
         },
         {
          "gen_sum": 5,
          "hour": 17,
          "resource": "natural_gas_fired_combined_cycle"
         },
         {
          "gen_sum": 0,
          "hour": 17,
          "resource": "natural_gas_fired_combustion_turbine"
         },
         {
          "gen_sum": 5,
          "hour": 18,
          "resource": "natural_gas_fired_combined_cycle"
         },
         {
          "gen_sum": 10,
          "hour": 18,
          "resource": "natural_gas_fired_combustion_turbine"
         },
         {
          "gen_sum": 5,
          "hour": 19,
          "resource": "natural_gas_fired_combined_cycle"
         },
         {
          "gen_sum": 15,
          "hour": 19,
          "resource": "natural_gas_fired_combustion_turbine"
         },
         {
          "gen_sum": 5,
          "hour": 20,
          "resource": "natural_gas_fired_combined_cycle"
         },
         {
          "gen_sum": 15,
          "hour": 20,
          "resource": "natural_gas_fired_combustion_turbine"
         },
         {
          "gen_sum": 5,
          "hour": 21,
          "resource": "natural_gas_fired_combined_cycle"
         },
         {
          "gen_sum": 10,
          "hour": 21,
          "resource": "natural_gas_fired_combustion_turbine"
         },
         {
          "gen_sum": 5,
          "hour": 22,
          "resource": "natural_gas_fired_combined_cycle"
         },
         {
          "gen_sum": 7,
          "hour": 22,
          "resource": "natural_gas_fired_combustion_turbine"
         },
         {
          "gen_sum": 5,
          "hour": 23,
          "resource": "natural_gas_fired_combined_cycle"
         },
         {
          "gen_sum": 5,
          "hour": 23,
          "resource": "natural_gas_fired_combustion_turbine"
         }
        ]
       },
       "encoding": {
        "color": {
         "field": "resource",
         "scale": {
          "scheme": "category10"
         },
         "type": "nominal"
        },
        "x": {
         "field": "hour",
         "type": "quantitative"
        },
        "y": {
         "field": "gen_sum",
         "stack": "zero",
         "type": "quantitative"
        }
       },
       "mark": "area"
      },
      "image/png": "[encoded data removed]",
      "image/svg+xml": [
       "<?xml version=\"1.0\" encoding=\"utf-8\"?>\n",
       "<!DOCTYPE svg PUBLIC \"-//W3C//DTD SVG 1.1//EN\" \"http://www.w3.org/Graphics/SVG/1.1/DTD/svg11.dtd\">\n",
       "<svg xmlns=\"http://www.w3.org/2000/svg\" xmlns:xlink=\"http://www.w3.org/1999/xlink\" version=\"1.1\" class=\"marks\" width=\"437\" height=\"247\" viewBox=\"0 0 437 247\"><rect width=\"437\" height=\"247\" fill=\"white\"/><g fill=\"none\" stroke-miterlimit=\"10\" transform=\"translate(39,10)\"><g class=\"mark-group role-frame root\" role=\"graphics-object\" aria-roledescription=\"group mark container\"><g transform=\"translate(0,0)\"><path class=\"background\" aria-hidden=\"true\" d=\"M0.5,0.5h200v200h-200Z\" stroke=\"#ddd\"/><g><g class=\"mark-group role-axis\" aria-hidden=\"true\"><g transform=\"translate(0.5,200.5)\"><path class=\"background\" aria-hidden=\"true\" d=\"M0,0h0v0h0Z\" pointer-events=\"none\"/><g><g class=\"mark-rule role-axis-grid\" pointer-events=\"none\"><line transform=\"translate(0,-200)\" x2=\"0\" y2=\"200\" stroke=\"#ddd\" stroke-width=\"1\" opacity=\"1\"/><line transform=\"translate(42,-200)\" x2=\"0\" y2=\"200\" stroke=\"#ddd\" stroke-width=\"1\" opacity=\"1\"/><line transform=\"translate(83,-200)\" x2=\"0\" y2=\"200\" stroke=\"#ddd\" stroke-width=\"1\" opacity=\"1\"/><line transform=\"translate(125,-200)\" x2=\"0\" y2=\"200\" stroke=\"#ddd\" stroke-width=\"1\" opacity=\"1\"/><line transform=\"translate(167,-200)\" x2=\"0\" y2=\"200\" stroke=\"#ddd\" stroke-width=\"1\" opacity=\"1\"/></g></g><path class=\"foreground\" aria-hidden=\"true\" d=\"\" pointer-events=\"none\" display=\"none\"/></g></g><g class=\"mark-group role-axis\" aria-hidden=\"true\"><g transform=\"translate(0.5,0.5)\"><path class=\"background\" aria-hidden=\"true\" d=\"M0,0h0v0h0Z\" pointer-events=\"none\"/><g><g class=\"mark-rule role-axis-grid\" pointer-events=\"none\"><line transform=\"translate(0,200)\" x2=\"200\" y2=\"0\" stroke=\"#ddd\" stroke-width=\"1\" opacity=\"1\"/><line transform=\"translate(0,150)\" x2=\"200\" y2=\"0\" stroke=\"#ddd\" stroke-width=\"1\" opacity=\"1\"/><line transform=\"translate(0,100)\" x2=\"200\" y2=\"0\" stroke=\"#ddd\" stroke-width=\"1\" opacity=\"1\"/><line transform=\"translate(0,50)\" x2=\"200\" y2=\"0\" stroke=\"#ddd\" stroke-width=\"1\" opacity=\"1\"/><line transform=\"translate(0,0)\" x2=\"200\" y2=\"0\" stroke=\"#ddd\" stroke-width=\"1\" opacity=\"1\"/></g></g><path class=\"foreground\" aria-hidden=\"true\" d=\"\" pointer-events=\"none\" display=\"none\"/></g></g><g class=\"mark-group role-axis\" role=\"graphics-symbol\" aria-roledescription=\"axis\" aria-label=\"X-axis titled 'hour' for a linear scale with values from 0 to 24\"><g transform=\"translate(0.5,200.5)\"><path class=\"background\" aria-hidden=\"true\" d=\"M0,0h0v0h0Z\" pointer-events=\"none\"/><g><g class=\"mark-rule role-axis-tick\" pointer-events=\"none\"><line transform=\"translate(0,0)\" x2=\"0\" y2=\"5\" stroke=\"#888\" stroke-width=\"1\" opacity=\"1\"/><line transform=\"translate(42,0)\" x2=\"0\" y2=\"5\" stroke=\"#888\" stroke-width=\"1\" opacity=\"1\"/><line transform=\"translate(83,0)\" x2=\"0\" y2=\"5\" stroke=\"#888\" stroke-width=\"1\" opacity=\"1\"/><line transform=\"translate(125,0)\" x2=\"0\" y2=\"5\" stroke=\"#888\" stroke-width=\"1\" opacity=\"1\"/><line transform=\"translate(167,0)\" x2=\"0\" y2=\"5\" stroke=\"#888\" stroke-width=\"1\" opacity=\"1\"/></g><g class=\"mark-text role-axis-label\" pointer-events=\"none\"><text text-anchor=\"start\" transform=\"translate(0,15)\" font-family=\"sans-serif\" font-size=\"10px\" fill=\"#000\" opacity=\"1\">0</text><text text-anchor=\"middle\" transform=\"translate(41.66666666666667,15)\" font-family=\"sans-serif\" font-size=\"10px\" fill=\"#000\" opacity=\"1\">5</text><text text-anchor=\"middle\" transform=\"translate(83.33333333333334,15)\" font-family=\"sans-serif\" font-size=\"10px\" fill=\"#000\" opacity=\"1\">10</text><text text-anchor=\"middle\" transform=\"translate(125,15)\" font-family=\"sans-serif\" font-size=\"10px\" fill=\"#000\" opacity=\"1\">15</text><text text-anchor=\"middle\" transform=\"translate(166.66666666666669,15)\" font-family=\"sans-serif\" font-size=\"10px\" fill=\"#000\" opacity=\"1\">20</text></g><g class=\"mark-rule role-axis-domain\" pointer-events=\"none\"><line transform=\"translate(0,0)\" x2=\"200\" y2=\"0\" stroke=\"#888\" stroke-width=\"1\" opacity=\"1\"/></g><g class=\"mark-text role-axis-title\" pointer-events=\"none\"><text text-anchor=\"middle\" transform=\"translate(100,30)\" font-family=\"sans-serif\" font-size=\"11px\" font-weight=\"bold\" fill=\"#000\" opacity=\"1\">hour</text></g></g><path class=\"foreground\" aria-hidden=\"true\" d=\"\" pointer-events=\"none\" display=\"none\"/></g></g><g class=\"mark-group role-axis\" role=\"graphics-symbol\" aria-roledescription=\"axis\" aria-label=\"Y-axis titled 'gen_sum' for a linear scale with values from 0 to 20\"><g transform=\"translate(0.5,0.5)\"><path class=\"background\" aria-hidden=\"true\" d=\"M0,0h0v0h0Z\" pointer-events=\"none\"/><g><g class=\"mark-rule role-axis-tick\" pointer-events=\"none\"><line transform=\"translate(0,200)\" x2=\"-5\" y2=\"0\" stroke=\"#888\" stroke-width=\"1\" opacity=\"1\"/><line transform=\"translate(0,150)\" x2=\"-5\" y2=\"0\" stroke=\"#888\" stroke-width=\"1\" opacity=\"1\"/><line transform=\"translate(0,100)\" x2=\"-5\" y2=\"0\" stroke=\"#888\" stroke-width=\"1\" opacity=\"1\"/><line transform=\"translate(0,50)\" x2=\"-5\" y2=\"0\" stroke=\"#888\" stroke-width=\"1\" opacity=\"1\"/><line transform=\"translate(0,0)\" x2=\"-5\" y2=\"0\" stroke=\"#888\" stroke-width=\"1\" opacity=\"1\"/></g><g class=\"mark-text role-axis-label\" pointer-events=\"none\"><text text-anchor=\"end\" transform=\"translate(-7,203)\" font-family=\"sans-serif\" font-size=\"10px\" fill=\"#000\" opacity=\"1\">0</text><text text-anchor=\"end\" transform=\"translate(-7,153)\" font-family=\"sans-serif\" font-size=\"10px\" fill=\"#000\" opacity=\"1\">5</text><text text-anchor=\"end\" transform=\"translate(-7,103)\" font-family=\"sans-serif\" font-size=\"10px\" fill=\"#000\" opacity=\"1\">10</text><text text-anchor=\"end\" transform=\"translate(-7,53)\" font-family=\"sans-serif\" font-size=\"10px\" fill=\"#000\" opacity=\"1\">15</text><text text-anchor=\"end\" transform=\"translate(-7,3)\" font-family=\"sans-serif\" font-size=\"10px\" fill=\"#000\" opacity=\"1\">20</text></g><g class=\"mark-rule role-axis-domain\" pointer-events=\"none\"><line transform=\"translate(0,200)\" x2=\"0\" y2=\"-200\" stroke=\"#888\" stroke-width=\"1\" opacity=\"1\"/></g><g class=\"mark-text role-axis-title\" pointer-events=\"none\"><text text-anchor=\"middle\" transform=\"translate(-23,100) rotate(-90) translate(0,-2)\" font-family=\"sans-serif\" font-size=\"11px\" font-weight=\"bold\" fill=\"#000\" opacity=\"1\">gen_sum</text></g></g><path class=\"foreground\" aria-hidden=\"true\" d=\"\" pointer-events=\"none\" display=\"none\"/></g></g><g class=\"mark-group role-scope pathgroup\" role=\"graphics-object\" aria-roledescription=\"group mark container\"><g transform=\"translate(0,0)\"><path class=\"background\" aria-hidden=\"true\" d=\"M0,0h200v200h-200Z\"/><g><g class=\"mark-area role-mark marks\" role=\"graphics-object\" aria-roledescription=\"area mark container\"><path aria-label=\"hour: 0; gen_sum: 6; resource: natural_gas_fired_combined_cycle\" role=\"graphics-symbol\" aria-roledescription=\"area mark\" d=\"M0,89.99999999999999L8.333333333333332,100L16.666666666666664,100L25,100L33.33333333333333,100L41.66666666666667,80L50,89.99999999999999L58.333333333333336,110.00000000000001L66.66666666666666,140L75,150L83.33333333333334,150L91.66666666666666,150L100,150L108.33333333333333,150L116.66666666666667,150L125,150L133.33333333333331,150L141.66666666666669,150L150,50L158.33333333333331,0L166.66666666666669,0L175,50L183.33333333333331,80L191.66666666666669,100L191.66666666666669,150L183.33333333333331,130L175,100L166.66666666666669,50L158.33333333333331,50L150,100L141.66666666666669,200L133.33333333333331,200L125,200L116.66666666666667,200L108.33333333333333,200L100,200L91.66666666666666,200L83.33333333333334,200L75,200L66.66666666666666,190L58.333333333333336,170L50,150L41.66666666666667,140L33.33333333333333,160L25,160L16.666666666666664,160L8.333333333333332,160L0,150Z\" fill=\"#1f77b4\"/></g></g><path class=\"foreground\" aria-hidden=\"true\" d=\"\" display=\"none\"/></g><g transform=\"translate(0,0)\"><path class=\"background\" aria-hidden=\"true\" d=\"M0,0h200v200h-200Z\"/><g><g class=\"mark-area role-mark marks\" role=\"graphics-object\" aria-roledescription=\"area mark container\"><path aria-label=\"hour: 0; gen_sum: 5; resource: natural_gas_fired_combustion_turbine\" role=\"graphics-symbol\" aria-roledescription=\"area mark\" d=\"M0,150L8.333333333333332,160L16.666666666666664,160L25,160L33.33333333333333,160L41.66666666666667,140L50,150L58.333333333333336,170L66.66666666666666,190L75,200L83.33333333333334,200L91.66666666666666,200L100,200L108.33333333333333,200L116.66666666666667,200L125,200L133.33333333333331,200L141.66666666666669,200L150,100L158.33333333333331,50L166.66666666666669,50L175,100L183.33333333333331,130L191.66666666666669,150L191.66666666666669,200L183.33333333333331,200L175,200L166.66666666666669,200L158.33333333333331,200L150,200L141.66666666666669,200L133.33333333333331,200L125,200L116.66666666666667,200L108.33333333333333,200L100,200L91.66666666666666,200L83.33333333333334,200L75,200L66.66666666666666,200L58.333333333333336,200L50,200L41.66666666666667,200L33.33333333333333,200L25,200L16.666666666666664,200L8.333333333333332,200L0,200Z\" fill=\"#ff7f0e\"/></g></g><path class=\"foreground\" aria-hidden=\"true\" d=\"\" display=\"none\"/></g></g><g class=\"mark-group role-legend\" role=\"graphics-symbol\" aria-roledescription=\"legend\" aria-label=\"Symbol legend titled 'resource' for fill color with 2 values: natural_gas_fired_combined_cycle, natural_gas_fired_combustion_turbine\"><g transform=\"translate(218,0)\"><path class=\"background\" aria-hidden=\"true\" d=\"M0,0h175v40h-175Z\" pointer-events=\"none\"/><g><g class=\"mark-group role-legend-entry\"><g transform=\"translate(0,16)\"><path class=\"background\" aria-hidden=\"true\" d=\"M0,0h0v0h0Z\" pointer-events=\"none\"/><g><g class=\"mark-group role-scope\" role=\"graphics-object\" aria-roledescription=\"group mark container\"><g transform=\"translate(0,0)\"><path class=\"background\" aria-hidden=\"true\" d=\"M0,0h175v11h-175Z\" pointer-events=\"none\" opacity=\"1\"/><g><g class=\"mark-symbol role-legend-symbol\" pointer-events=\"none\"><path transform=\"translate(6,6)\" d=\"M5,0A5,5,0,1,1,-5,0A5,5,0,1,1,5,0\" fill=\"#1f77b4\" stroke-width=\"1.5\" opacity=\"1\"/></g><g class=\"mark-text role-legend-label\" pointer-events=\"none\"><text text-anchor=\"start\" transform=\"translate(16,9)\" font-family=\"sans-serif\" font-size=\"10px\" fill=\"#000\" opacity=\"1\">natural_gas_fired_combined_cy…</text></g></g><path class=\"foreground\" aria-hidden=\"true\" d=\"\" pointer-events=\"none\" display=\"none\"/></g><g transform=\"translate(0,13)\"><path class=\"background\" aria-hidden=\"true\" d=\"M0,0h175v11h-175Z\" pointer-events=\"none\" opacity=\"1\"/><g><g class=\"mark-symbol role-legend-symbol\" pointer-events=\"none\"><path transform=\"translate(6,6)\" d=\"M5,0A5,5,0,1,1,-5,0A5,5,0,1,1,5,0\" fill=\"#ff7f0e\" stroke-width=\"1.5\" opacity=\"1\"/></g><g class=\"mark-text role-legend-label\" pointer-events=\"none\"><text text-anchor=\"start\" transform=\"translate(16,9)\" font-family=\"sans-serif\" font-size=\"10px\" fill=\"#000\" opacity=\"1\">natural_gas_fired_combustion_t…</text></g></g><path class=\"foreground\" aria-hidden=\"true\" d=\"\" pointer-events=\"none\" display=\"none\"/></g></g></g><path class=\"foreground\" aria-hidden=\"true\" d=\"\" pointer-events=\"none\" display=\"none\"/></g></g><g class=\"mark-text role-legend-title\" pointer-events=\"none\"><text text-anchor=\"start\" transform=\"translate(0,9)\" font-family=\"sans-serif\" font-size=\"11px\" font-weight=\"bold\" fill=\"#000\" opacity=\"1\">resource</text></g></g><path class=\"foreground\" aria-hidden=\"true\" d=\"\" pointer-events=\"none\" display=\"none\"/></g></g></g><path class=\"foreground\" aria-hidden=\"true\" d=\"\" display=\"none\"/></g></g></g></svg>\n"
      ],
      "text/plain": [
       "@vlplot(\n",
       "    mark=\"area\",\n",
       "    encoding={\n",
       "        x={\n",
       "            field=\"hour\"\n",
       "        },\n",
       "        y={\n",
       "            stack=\"zero\",\n",
       "            field=\"gen_sum\"\n",
       "        },\n",
       "        color={\n",
       "            scale={\n",
       "                scheme=\"category10\"\n",
       "            },\n",
       "            field=\"resource\",\n",
       "            type=\"nominal\"\n",
       "        }\n",
       "    },\n",
       "    data={\n",
       "        values=...\n",
       "    }\n",
       ")"
      ]
     },
     "execution_count": 33,
     "metadata": {},
     "output_type": "execute_result"
    }
   ],
   "source": [
    "sol_commit = innerjoin(solution.commit, \n",
    "                    gen_df[!, [:r_id, :resource]], \n",
    "                    on = :r_id)\n",
    "sol_commit = combine(groupby(sol_commit, [:resource, :hour]), \n",
    "            :gen => sum)\n",
    "sol_commit.hour = sol_commit.hour .- T_period[1]\n",
    "\n",
    "sol_commit |>\n",
    "@vlplot(:area, \n",
    "    x=:hour, y={:gen_sum, stack=:zero}, \n",
    "    color={\"resource:n\", scale={scheme=\"category10\"}})"
   ]
  },
  {
   "cell_type": "markdown",
   "metadata": {},
   "source": [
    "### Further resources\n",
    "\n",
    "Knueven, B., Ostrowski, J., & Watson, J.-P. (2019). On Mixed Integer Programming Formulations for the Unit Commitment Problem. Optimization Online, 91. http://www.optimization-online.org/DB_FILE/2018/11/6930.pdf\n",
    "\n",
    "Morales-Espana, G., Latorre, J. M., & Ramos, A. (2013). Tight and Compact MILP Formulation of Start-Up and Shut-Down Ramping in Unit Commitment. IEEE Transactions on Power Systems, 28(2), 1288–1296. https://doi.org/10.1109/TPWRS.2012.2222938\n",
    "\n",
    "Morales-España, G., Ramírez-Elizondo, L., & Hobbs, B. F. (2017). Hidden power system inflexibilities imposed by traditional unit commitment formulations. Applied Energy, 191, 223–238. https://doi.org/10.1016/j.apenergy.2017.01.089\n",
    "\n",
    "Ostrowski, J., Anjos, M. F., & Vannelli, A. (2012). Tight Mixed Integer Linear Programming Formulations for the Unit Commitment Problem. IEEE Transactions on Power Systems, 27(1), 39–46. https://doi.org/10.1109/TPWRS.2011.2162008"
   ]
  }
 ],
 "metadata": {
  "@webio": {
   "lastCommId": null,
   "lastKernelId": null
  },
  "kernelspec": {
   "display_name": "Julia 1.8.1",
   "language": "julia",
   "name": "julia-1.8"
  },
  "language_info": {
   "file_extension": ".jl",
   "mimetype": "application/julia",
   "name": "julia",
   "version": "1.8.1"
  }
 },
 "nbformat": 4,
 "nbformat_minor": 2
}
