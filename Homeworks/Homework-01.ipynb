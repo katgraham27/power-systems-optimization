{
 "cells": [
  {
   "cell_type": "markdown",
   "metadata": {},
   "source": [
    "# Homework 1\n",
    "### Katherine Graham's Answers"
   ]
  },
  {
   "cell_type": "markdown",
   "metadata": {},
   "source": [
    "_**[Power Systems Optimization](https://github.com/east-winds/power-systems-optimization)**_\n",
    "\n",
    "_by Jesse D. Jenkins and Michael R. Davidson (last updated: September 14, 2022)_\n",
    "\n",
    "This Notebook will walk you through defining a simple transport flow model and then ask you to interact with the solutions and modify to model to add additional constraints..."
   ]
  },
  {
   "cell_type": "markdown",
   "metadata": {},
   "source": [
    "## Setting up the model"
   ]
  },
  {
   "cell_type": "markdown",
   "metadata": {},
   "source": [
    "### Load packages"
   ]
  },
  {
   "cell_type": "code",
   "execution_count": 194,
   "metadata": {},
   "outputs": [],
   "source": [
    "using JuMP\n",
    "using HiGHS\n",
    "using DataFrames\n",
    "using CSV"
   ]
  },
  {
   "cell_type": "markdown",
   "metadata": {},
   "source": [
    "### Define sets"
   ]
  },
  {
   "cell_type": "markdown",
   "metadata": {},
   "source": [
    "We will define two sets, both as arrays of strings"
   ]
  },
  {
   "cell_type": "markdown",
   "metadata": {},
   "source": [
    "***Production plants, $P$***"
   ]
  },
  {
   "cell_type": "code",
   "execution_count": 195,
   "metadata": {},
   "outputs": [
    {
     "data": {
      "text/plain": [
       "2-element Vector{String}:\n",
       " \"trenton\"\n",
       " \"newark\""
      ]
     },
     "execution_count": 195,
     "metadata": {},
     "output_type": "execute_result"
    }
   ],
   "source": [
    "P=[\"trenton\", \"newark\"] # production plants"
   ]
  },
  {
   "cell_type": "markdown",
   "metadata": {},
   "source": [
    "***Markets for products, $M$***"
   ]
  },
  {
   "cell_type": "code",
   "execution_count": 196,
   "metadata": {},
   "outputs": [
    {
     "data": {
      "text/plain": [
       "3-element Vector{String}:\n",
       " \"newyork\"\n",
       " \"princeton\"\n",
       " \"philadelphia\""
      ]
     },
     "execution_count": 196,
     "metadata": {},
     "output_type": "execute_result"
    }
   ],
   "source": [
    "M=[\"newyork\", \"princeton\", \"philadelphia\"] # markets for products"
   ]
  },
  {
   "cell_type": "markdown",
   "metadata": {},
   "source": [
    "Note that sets can also be defined over intervals (as in `i=1:10`) or numerical vectors (as in `x=[2, 4, 5, 11]`) "
   ]
  },
  {
   "cell_type": "markdown",
   "metadata": {},
   "source": [
    "### Define parameters"
   ]
  },
  {
   "cell_type": "markdown",
   "metadata": {},
   "source": [
    "We'll make use of the defined sets as indexes for our parameters...\n",
    "\n",
    "***Plant production capacities***"
   ]
  },
  {
   "cell_type": "code",
   "execution_count": 197,
   "metadata": {},
   "outputs": [
    {
     "data": {
      "text/html": [
       "<div class=\"data-frame\"><p>2 rows × 2 columns</p><table class=\"data-frame\"><thead><tr><th></th><th>plant</th><th>capacity</th></tr><tr><th></th><th title=\"String\">String</th><th title=\"Int64\">Int64</th></tr></thead><tbody><tr><th>1</th><td>trenton</td><td>350</td></tr><tr><th>2</th><td>newark</td><td>650</td></tr></tbody></table></div>"
      ],
      "text/latex": [
       "\\begin{tabular}{r|cc}\n",
       "\t& plant & capacity\\\\\n",
       "\t\\hline\n",
       "\t& String & Int64\\\\\n",
       "\t\\hline\n",
       "\t1 & trenton & 350 \\\\\n",
       "\t2 & newark & 650 \\\\\n",
       "\\end{tabular}\n"
      ],
      "text/plain": [
       "\u001b[1m2×2 DataFrame\u001b[0m\n",
       "\u001b[1m Row \u001b[0m│\u001b[1m plant   \u001b[0m\u001b[1m capacity \u001b[0m\n",
       "\u001b[1m     \u001b[0m│\u001b[90m String  \u001b[0m\u001b[90m Int64    \u001b[0m\n",
       "─────┼───────────────────\n",
       "   1 │ trenton       350\n",
       "   2 │ newark        650"
      ]
     },
     "execution_count": 197,
     "metadata": {},
     "output_type": "execute_result"
    }
   ],
   "source": [
    "plants = DataFrame(plant=P, capacity=[350,650])\n",
    "# KATNOTE - Is this a pandas dataframe? "
   ]
  },
  {
   "cell_type": "markdown",
   "metadata": {},
   "source": [
    "***Demand for products***\n",
    "\n",
    "Stored in a [DataFrame](https://juliadata.github.io/DataFrames.jl/stable/)"
   ]
  },
  {
   "cell_type": "code",
   "execution_count": 198,
   "metadata": {},
   "outputs": [
    {
     "data": {
      "text/html": [
       "<div class=\"data-frame\"><p>3 rows × 2 columns</p><table class=\"data-frame\"><thead><tr><th></th><th>market</th><th>demand</th></tr><tr><th></th><th title=\"String\">String</th><th title=\"Int64\">Int64</th></tr></thead><tbody><tr><th>1</th><td>newyork</td><td>325</td></tr><tr><th>2</th><td>princeton</td><td>300</td></tr><tr><th>3</th><td>philadelphia</td><td>275</td></tr></tbody></table></div>"
      ],
      "text/latex": [
       "\\begin{tabular}{r|cc}\n",
       "\t& market & demand\\\\\n",
       "\t\\hline\n",
       "\t& String & Int64\\\\\n",
       "\t\\hline\n",
       "\t1 & newyork & 325 \\\\\n",
       "\t2 & princeton & 300 \\\\\n",
       "\t3 & philadelphia & 275 \\\\\n",
       "\\end{tabular}\n"
      ],
      "text/plain": [
       "\u001b[1m3×2 DataFrame\u001b[0m\n",
       "\u001b[1m Row \u001b[0m│\u001b[1m market       \u001b[0m\u001b[1m demand \u001b[0m\n",
       "\u001b[1m     \u001b[0m│\u001b[90m String       \u001b[0m\u001b[90m Int64  \u001b[0m\n",
       "─────┼──────────────────────\n",
       "   1 │ newyork          325\n",
       "   2 │ princeton        300\n",
       "   3 │ philadelphia     275"
      ]
     },
     "execution_count": 198,
     "metadata": {},
     "output_type": "execute_result"
    }
   ],
   "source": [
    "markets = DataFrame(\n",
    "    market=M, \n",
    "    demand=[325, 300, 275]\n",
    ")"
   ]
  },
  {
   "cell_type": "markdown",
   "metadata": {},
   "source": [
    "A few different ways to index into our DataFrames to access parameters (all of the below are equivalent)"
   ]
  },
  {
   "cell_type": "code",
   "execution_count": 199,
   "metadata": {},
   "outputs": [
    {
     "data": {
      "text/plain": [
       "1-element Vector{Int64}:\n",
       " 650"
      ]
     },
     "execution_count": 199,
     "metadata": {},
     "output_type": "execute_result"
    }
   ],
   "source": [
    "plants[plants.plant.==\"newark\",:capacity] # option 1 # KATNOTE - THIS IS A PREFERRED METHOD FOR ME"
   ]
  },
  {
   "cell_type": "code",
   "execution_count": 200,
   "metadata": {},
   "outputs": [
    {
     "data": {
      "text/plain": [
       "1-element Vector{Int64}:\n",
       " 650"
      ]
     },
     "execution_count": 200,
     "metadata": {},
     "output_type": "execute_result"
    }
   ],
   "source": [
    "plants[plants.plant.==\"newark\",:].capacity # option 2 # KATNOTE - THIS IS A PREFERRED METHOD FOR ME"
   ]
  },
  {
   "cell_type": "code",
   "execution_count": 201,
   "metadata": {},
   "outputs": [
    {
     "data": {
      "text/plain": [
       "1-element Vector{Int64}:\n",
       " 650"
      ]
     },
     "execution_count": 201,
     "metadata": {},
     "output_type": "execute_result"
    }
   ],
   "source": [
    "plants.capacity[plants.plant.==\"newark\"] # option 3"
   ]
  },
  {
   "cell_type": "code",
   "execution_count": 202,
   "metadata": {},
   "outputs": [
    {
     "data": {
      "text/plain": [
       "1-element Vector{Int64}:\n",
       " 650"
      ]
     },
     "execution_count": 202,
     "metadata": {},
     "output_type": "execute_result"
    }
   ],
   "source": [
    "plants[:,:capacity][plants.plant.==\"newark\"] # option 4"
   ]
  },
  {
   "cell_type": "markdown",
   "metadata": {},
   "source": [
    "Note that DataFrame indexing returns an Array by default, in this case, a 1-element Array of type Int64 (64-bit integer), as indicated by `Array{Int64,1}` above. \n",
    "\n",
    "To access the single Int64 value, append `[1]` to any of the above to reference the first (and only) element in this array. "
   ]
  },
  {
   "cell_type": "code",
   "execution_count": 203,
   "metadata": {},
   "outputs": [
    {
     "data": {
      "text/plain": [
       "650"
      ]
     },
     "execution_count": 203,
     "metadata": {},
     "output_type": "execute_result"
    }
   ],
   "source": [
    "plants.capacity[plants.plant.==\"newark\"][1]"
   ]
  },
  {
   "cell_type": "code",
   "execution_count": 204,
   "metadata": {},
   "outputs": [
    {
     "data": {
      "text/plain": [
       "Int64"
      ]
     },
     "execution_count": 204,
     "metadata": {},
     "output_type": "execute_result"
    }
   ],
   "source": [
    "typeof(plants.capacity[plants.plant.==\"newark\"][1])"
   ]
  },
  {
   "cell_type": "code",
   "execution_count": 205,
   "metadata": {},
   "outputs": [
    {
     "data": {
      "text/plain": [
       "Vector{Int64}\u001b[90m (alias for \u001b[39m\u001b[90mArray{Int64, 1}\u001b[39m\u001b[90m)\u001b[39m"
      ]
     },
     "execution_count": 205,
     "metadata": {},
     "output_type": "execute_result"
    }
   ],
   "source": [
    "typeof(plants.capacity[plants.plant.==\"newark\"])"
   ]
  },
  {
   "cell_type": "markdown",
   "metadata": {},
   "source": [
    "***Distance from plants to markets***\n",
    "\n",
    "Stored in a JuMP [DenseAxisArray](https://jump.dev/JuMP.jl/v0.19/containers/) with data array and symbolic references across each of our sets (plants and markets), converted to Symbols for referencing"
   ]
  },
  {
   "cell_type": "code",
   "execution_count": 206,
   "metadata": {},
   "outputs": [
    {
     "data": {
      "text/plain": [
       "2-dimensional DenseAxisArray{Float64,2,...} with index sets:\n",
       "    Dimension 1, [:trenton, :newark]\n",
       "    Dimension 2, [:newyork, :princeton, :philadelphia]\n",
       "And data, a 2×3 Matrix{Float64}:\n",
       " 2.5  0.5  1.5\n",
       " 0.5  1.5  3.5"
      ]
     },
     "execution_count": 206,
     "metadata": {},
     "output_type": "execute_result"
    }
   ],
   "source": [
    "# two dimensional symbolic DenseAxisArray, with from/to distance pairs\n",
    "distances = JuMP.Containers.DenseAxisArray(\n",
    "    [2.5 0.5 1.5;\n",
    "     0.5 1.5 3.5],\n",
    "    Symbol.(P),\n",
    "    Symbol.(M),\n",
    ")"
   ]
  },
  {
   "cell_type": "markdown",
   "metadata": {},
   "source": [
    "A couple example references to our DenseAxisArray to access parameters..."
   ]
  },
  {
   "cell_type": "code",
   "execution_count": 207,
   "metadata": {},
   "outputs": [
    {
     "data": {
      "text/plain": [
       "2.5"
      ]
     },
     "execution_count": 207,
     "metadata": {},
     "output_type": "execute_result"
    }
   ],
   "source": [
    "distances[:trenton, :newyork] #example of distance references"
   ]
  },
  {
   "cell_type": "code",
   "execution_count": 208,
   "metadata": {},
   "outputs": [
    {
     "data": {
      "text/plain": [
       "0.5"
      ]
     },
     "execution_count": 208,
     "metadata": {},
     "output_type": "execute_result"
    }
   ],
   "source": [
    "distances[:newark, :newyork] #example of distance references"
   ]
  },
  {
   "cell_type": "code",
   "execution_count": 209,
   "metadata": {},
   "outputs": [
    {
     "data": {
      "text/plain": [
       "0.5"
      ]
     },
     "execution_count": 209,
     "metadata": {},
     "output_type": "execute_result"
    }
   ],
   "source": [
    "distances[Symbol(P[2]),Symbol(M[1])] # another way to find distance from newark to trenton"
   ]
  },
  {
   "cell_type": "code",
   "execution_count": 210,
   "metadata": {},
   "outputs": [
    {
     "data": {
      "text/plain": [
       "0.5"
      ]
     },
     "execution_count": 210,
     "metadata": {},
     "output_type": "execute_result"
    }
   ],
   "source": [
    "distances[Symbol(\"newark\"), Symbol(\"newyork\")] # and a third..."
   ]
  },
  {
   "cell_type": "markdown",
   "metadata": {},
   "source": [
    "***Costs of transport***"
   ]
  },
  {
   "cell_type": "code",
   "execution_count": 211,
   "metadata": {},
   "outputs": [
    {
     "data": {
      "text/plain": [
       "90"
      ]
     },
     "execution_count": 211,
     "metadata": {},
     "output_type": "execute_result"
    }
   ],
   "source": [
    "freight_cost = 90 # Cost of freight shipment per unit of distance"
   ]
  },
  {
   "cell_type": "markdown",
   "metadata": {},
   "source": [
    "### Create model\n",
    "(and specify the HiGHS solver)"
   ]
  },
  {
   "cell_type": "code",
   "execution_count": 212,
   "metadata": {},
   "outputs": [],
   "source": [
    "transport = Model(HiGHS.Optimizer);"
   ]
  },
  {
   "cell_type": "markdown",
   "metadata": {},
   "source": [
    "### Define variables"
   ]
  },
  {
   "cell_type": "markdown",
   "metadata": {},
   "source": [
    "***Quantities of product to transport from plant $p \\in P$ to market $m \\in M$***"
   ]
  },
  {
   "cell_type": "code",
   "execution_count": 213,
   "metadata": {},
   "outputs": [
    {
     "data": {
      "text/plain": [
       "2-dimensional DenseAxisArray{VariableRef,2,...} with index sets:\n",
       "    Dimension 1, [\"trenton\", \"newark\"]\n",
       "    Dimension 2, [\"newyork\", \"princeton\", \"philadelphia\"]\n",
       "And data, a 2×3 Matrix{VariableRef}:\n",
       " X[trenton,newyork]  X[trenton,princeton]  X[trenton,philadelphia]\n",
       " X[newark,newyork]   X[newark,princeton]   X[newark,philadelphia]"
      ]
     },
     "execution_count": 213,
     "metadata": {},
     "output_type": "execute_result"
    }
   ],
   "source": [
    "@variable(transport, X[P,M] >= 0) # non-negativity constraints"
   ]
  },
  {
   "cell_type": "markdown",
   "metadata": {},
   "source": [
    "Example reference to single quantity decision variable, the quantity shipped from Newark to Philadelphia:"
   ]
  },
  {
   "cell_type": "code",
   "execution_count": 214,
   "metadata": {},
   "outputs": [
    {
     "data": {
      "text/latex": [
       "$$ X_{newark,philadelphia} $$"
      ],
      "text/plain": [
       "X[newark,philadelphia]"
      ]
     },
     "execution_count": 214,
     "metadata": {},
     "output_type": "execute_result"
    }
   ],
   "source": [
    "X[\"newark\",\"philadelphia\"]"
   ]
  },
  {
   "cell_type": "markdown",
   "metadata": {},
   "source": [
    "### Define constraints"
   ]
  },
  {
   "cell_type": "markdown",
   "metadata": {},
   "source": [
    "***Supply capacity constraint***"
   ]
  },
  {
   "cell_type": "code",
   "execution_count": 215,
   "metadata": {},
   "outputs": [
    {
     "data": {
      "text/plain": [
       "1-dimensional DenseAxisArray{ConstraintRef{Model, MathOptInterface.ConstraintIndex{MathOptInterface.ScalarAffineFunction{Float64}, MathOptInterface.LessThan{Float64}}, ScalarShape},1,...} with index sets:\n",
       "    Dimension 1, [\"trenton\", \"newark\"]\n",
       "And data, a 2-element Vector{ConstraintRef{Model, MathOptInterface.ConstraintIndex{MathOptInterface.ScalarAffineFunction{Float64}, MathOptInterface.LessThan{Float64}}, ScalarShape}}:\n",
       " cSupply[trenton] : X[trenton,newyork] + X[trenton,princeton] + X[trenton,philadelphia] ≤ 350.0\n",
       " cSupply[newark] : X[newark,newyork] + X[newark,princeton] + X[newark,philadelphia] ≤ 650.0"
      ]
     },
     "execution_count": 215,
     "metadata": {},
     "output_type": "execute_result"
    }
   ],
   "source": [
    "@constraint(transport, cSupply[p in P], \n",
    "    sum(X[p,m] for m in M) \n",
    "    <= plants.capacity[plants.plant.==p][1]) # .= for elementwise? "
   ]
  },
  {
   "cell_type": "markdown",
   "metadata": {},
   "source": [
    "***Demand balance constraint***\n",
    "\n",
    "Ensure all demand is satisfied at each market"
   ]
  },
  {
   "cell_type": "code",
   "execution_count": 216,
   "metadata": {},
   "outputs": [
    {
     "data": {
      "text/plain": [
       "1-dimensional DenseAxisArray{ConstraintRef{Model, MathOptInterface.ConstraintIndex{MathOptInterface.ScalarAffineFunction{Float64}, MathOptInterface.GreaterThan{Float64}}, ScalarShape},1,...} with index sets:\n",
       "    Dimension 1, [\"newyork\", \"princeton\", \"philadelphia\"]\n",
       "And data, a 3-element Vector{ConstraintRef{Model, MathOptInterface.ConstraintIndex{MathOptInterface.ScalarAffineFunction{Float64}, MathOptInterface.GreaterThan{Float64}}, ScalarShape}}:\n",
       " cDemand[newyork] : X[trenton,newyork] + X[newark,newyork] ≥ 325.0\n",
       " cDemand[princeton] : X[trenton,princeton] + X[newark,princeton] ≥ 300.0\n",
       " cDemand[philadelphia] : X[trenton,philadelphia] + X[newark,philadelphia] ≥ 275.0"
      ]
     },
     "execution_count": 216,
     "metadata": {},
     "output_type": "execute_result"
    }
   ],
   "source": [
    "@constraint(transport, cDemand[m in M], \n",
    "    sum(X[p,m] for p in P) \n",
    "    >= markets.demand[markets.market.==m][1]) ### KATNOTE/Q : why is it indexed like this..\n",
    "\n",
    "# KATNOTE -- THIS SYNTAX DOES NOT WORk\n",
    "# @constraint(transport, cDemand[m in M], \n",
    "#     sum(X[p,m] for p in P) \n",
    "#     >= markets.demand[m][1]) ### KATNOTE/Q : why is it indexed like this.."
   ]
  },
  {
   "cell_type": "markdown",
   "metadata": {},
   "source": [
    "### Define objective function\n",
    "\n",
    "Minimize total cost of transport to satisfy all demand.\n",
    "\n",
    "First we'll define an expression for total cost of shipments..."
   ]
  },
  {
   "cell_type": "code",
   "execution_count": 217,
   "metadata": {},
   "outputs": [
    {
     "data": {
      "text/latex": [
       "$$ 225 X_{trenton,newyork} + 45 X_{trenton,princeton} + 135 X_{trenton,philadelphia} + 45 X_{newark,newyork} + 135 X_{newark,princeton} + 315 X_{newark,philadelphia} $$"
      ],
      "text/plain": [
       "225 X[trenton,newyork] + 45 X[trenton,princeton] + 135 X[trenton,philadelphia] + 45 X[newark,newyork] + 135 X[newark,princeton] + 315 X[newark,philadelphia]"
      ]
     },
     "execution_count": 217,
     "metadata": {},
     "output_type": "execute_result"
    }
   ],
   "source": [
    "@expression(transport, eCost, \n",
    "    sum(freight_cost*distances[Symbol(p),Symbol(m)]*X[p,m] \n",
    "        for p in P, m in M)\n",
    "    )"
   ]
  },
  {
   "cell_type": "markdown",
   "metadata": {},
   "source": [
    "Now we'll minimize this total cost"
   ]
  },
  {
   "cell_type": "code",
   "execution_count": 218,
   "metadata": {},
   "outputs": [
    {
     "data": {
      "text/latex": [
       "$$ 225 X_{trenton,newyork} + 45 X_{trenton,princeton} + 135 X_{trenton,philadelphia} + 45 X_{newark,newyork} + 135 X_{newark,princeton} + 315 X_{newark,philadelphia} $$"
      ],
      "text/plain": [
       "225 X[trenton,newyork] + 45 X[trenton,princeton] + 135 X[trenton,philadelphia] + 45 X[newark,newyork] + 135 X[newark,princeton] + 315 X[newark,philadelphia]"
      ]
     },
     "execution_count": 218,
     "metadata": {},
     "output_type": "execute_result"
    }
   ],
   "source": [
    "@objective(transport, Min, eCost)"
   ]
  },
  {
   "cell_type": "markdown",
   "metadata": {},
   "source": [
    "## Interact with the model"
   ]
  },
  {
   "cell_type": "markdown",
   "metadata": {},
   "source": [
    "**(a)** Now let's solve the model. In the blank cell below, enter the command for JuMP to solve a model and run the cell"
   ]
  },
  {
   "cell_type": "code",
   "execution_count": 219,
   "metadata": {},
   "outputs": [
    {
     "name": "stdout",
     "output_type": "stream",
     "text": [
      "Presolving model\n",
      "5 rows, 6 cols, 12 nonzeros\n",
      "5 rows, 6 cols, 12 nonzeros\n",
      "Presolve : Reductions: rows 5(-0); columns 6(-0); elements 12(-0)\n",
      "Solving the presolved LP\n",
      "Using EKK dual simplex solver - serial\n",
      "  Iteration        Objective     Infeasibilities num(sum)\n",
      "          0     0.0000000000e+00 Pr: 3(900) 0s\n",
      "          4     8.5500000000e+04 Pr: 0(0) 0s\n",
      "Solving the original LP from the solution after postsolve\n",
      "Model   status      : Optimal\n",
      "Simplex   iterations: 4\n",
      "Objective value     :  8.5500000000e+04\n",
      "HiGHS run time      :          0.00\n"
     ]
    },
    {
     "data": {
      "text/latex": [
       "$$ \\begin{aligned}\n",
       "\\min\\quad & 225 X_{trenton,newyork} + 45 X_{trenton,princeton} + 135 X_{trenton,philadelphia} + 45 X_{newark,newyork} + 135 X_{newark,princeton} + 315 X_{newark,philadelphia}\\\\\n",
       "\\text{Subject to} \\quad & X_{trenton,newyork} + X_{newark,newyork} \\geq 325.0\\\\\n",
       " & X_{trenton,princeton} + X_{newark,princeton} \\geq 300.0\\\\\n",
       " & X_{trenton,philadelphia} + X_{newark,philadelphia} \\geq 275.0\\\\\n",
       " & X_{trenton,newyork} + X_{trenton,princeton} + X_{trenton,philadelphia} \\leq 350.0\\\\\n",
       " & X_{newark,newyork} + X_{newark,princeton} + X_{newark,philadelphia} \\leq 650.0\\\\\n",
       " & X_{trenton,newyork} \\geq 0.0\\\\\n",
       " & X_{newark,newyork} \\geq 0.0\\\\\n",
       " & X_{trenton,princeton} \\geq 0.0\\\\\n",
       " & X_{newark,princeton} \\geq 0.0\\\\\n",
       " & X_{trenton,philadelphia} \\geq 0.0\\\\\n",
       " & X_{newark,philadelphia} \\geq 0.0\\\\\n",
       "\\end{aligned} $$"
      ]
     },
     "metadata": {},
     "output_type": "display_data"
    }
   ],
   "source": [
    "optimize!(transport)\n",
    "print(transport)\n",
    "# OPTIMAL VALUE = 85500"
   ]
  },
  {
   "cell_type": "markdown",
   "metadata": {},
   "source": [
    "**(b)** You've got a solution. Now query the objective function in the empty cell below and save it to a variable (name of your choice)"
   ]
  },
  {
   "cell_type": "code",
   "execution_count": 220,
   "metadata": {},
   "outputs": [
    {
     "data": {
      "text/latex": [
       "$$ 225 X_{trenton,newyork} + 45 X_{trenton,princeton} + 135 X_{trenton,philadelphia} + 45 X_{newark,newyork} + 135 X_{newark,princeton} + 315 X_{newark,philadelphia} $$"
      ],
      "text/plain": [
       "225 X[trenton,newyork] + 45 X[trenton,princeton] + 135 X[trenton,philadelphia] + 45 X[newark,newyork] + 135 X[newark,princeton] + 315 X[newark,philadelphia]"
      ]
     },
     "execution_count": 220,
     "metadata": {},
     "output_type": "execute_result"
    }
   ],
   "source": [
    "# Katnote - I couldn't find a good idea of what \"query\" means other than printing it\n",
    "objfn_transport = objective_function(transport)"
   ]
  },
  {
   "cell_type": "markdown",
   "metadata": {},
   "source": [
    "**(c)** Now query and save the optimal solution for X (the decisions about shipment quantities from plant to market) to an Array or DataFrame"
   ]
  },
  {
   "cell_type": "code",
   "execution_count": 221,
   "metadata": {},
   "outputs": [
    {
     "data": {
      "text/plain": [
       "2-dimensional DenseAxisArray{Float64,2,...} with index sets:\n",
       "    Dimension 1, [\"trenton\", \"newark\"]\n",
       "    Dimension 2, [\"newyork\", \"princeton\", \"philadelphia\"]\n",
       "And data, a 2×3 Matrix{Float64}:\n",
       "   0.0   75.0  275.0\n",
       " 325.0  225.0    0.0"
      ]
     },
     "execution_count": 221,
     "metadata": {},
     "output_type": "execute_result"
    }
   ],
   "source": [
    "# X\n",
    "#solution_summary(transport)\n",
    "# JuMP.value(X) # Incorrect syntax\n",
    "solution_transport = JuMP.value.(X)"
   ]
  },
  {
   "cell_type": "markdown",
   "metadata": {},
   "source": [
    "**(d)** Please interpret your results by writing an explanation in the markdown cell below. \n",
    "\n",
    "Which facility or facilities supplies the most demand in New York? Does this result make sense? Why?\n",
    "\n",
    "Which facility or facilities supplies the most demand in Philadelphia? Does this result make sense? Why?\n",
    "\n",
    "Which facility or facilities supplies the demand in Princeton? Does this result make sense? Why?"
   ]
  },
  {
   "cell_type": "markdown",
   "metadata": {},
   "source": [
    "[ANSWER: ]\n",
    "\n",
    "Newark supplies most of New York's demand with 325.0 (Trenton does not supply any of New York's demand). This makes sense because Newark is closer to New York than Trenton is, so the optimization will want to minimize transport costs by having Newark supply New York's demand. \n",
    "Similarly, Trenton is closer to Philly than Newark, so Trenton supplies all of Philadelphia's demand (275). \n",
    "Newark supplies most of Princeton's demand, with Trenton still supplying some of that demand. This makes sense because Trenton and Newark are both relatively close to Princeton, with Trenton being closer, *but* travel costs from Trenton to Princeton or from Newark to Princeton are the smallest costs as compared to Trenton to NY or Newark to Philly, and Newark has 300 more units of production capacity than Trenton did, so it ended up supplying most of Princeton's demand once the remainin supply from Trenton was used up. \n"
   ]
  },
  {
   "cell_type": "markdown",
   "metadata": {},
   "source": [
    "**(e)** A new market in New Brunswick appears, with a demand for 50 units. It is located 1.0 units away from both plants. Add this market to the model and solve again."
   ]
  },
  {
   "cell_type": "code",
   "execution_count": 222,
   "metadata": {},
   "outputs": [
    {
     "data": {
      "text/plain": [
       "90"
      ]
     },
     "execution_count": 222,
     "metadata": {},
     "output_type": "execute_result"
    }
   ],
   "source": [
    "# PARAMETERS \n",
    "P=[\"trenton\", \"newark\"] # production plants, redundent\n",
    "M=[\"newyork\", \"princeton\", \"philadelphia\", \"newbrunswick\"] # markets for products\n",
    "\n",
    "plants = DataFrame(plant=P, capacity=[350,650])\n",
    "markets = DataFrame(\n",
    "    market=M, \n",
    "    demand=[325, 300, 275, 50]\n",
    ")\n",
    "# two dimensional symbolic DenseAxisArray, with from/to distance pairs\n",
    "distances = JuMP.Containers.DenseAxisArray(\n",
    "    [2.5 0.5 1.5 1.0;\n",
    "     0.5 1.5 3.5 1.0],\n",
    "    Symbol.(P),\n",
    "    Symbol.(M),\n",
    ")\n",
    "freight_cost = 90 # Cost of freight shipment per unit of distance\n"
   ]
  },
  {
   "cell_type": "code",
   "execution_count": 223,
   "metadata": {},
   "outputs": [
    {
     "name": "stdout",
     "output_type": "stream",
     "text": [
      "Presolving model\n",
      "6 rows, 8 cols, 16 nonzeros\n",
      "6 rows, 8 cols, 16 nonzeros\n",
      "Presolve : Reductions: rows 6(-0); columns 8(-0); elements 16(-0)\n",
      "Solving the presolved LP\n",
      "Using EKK dual simplex solver - serial\n",
      "  Iteration        Objective     Infeasibilities num(sum)\n",
      "          0     0.0000000000e+00 Pr: 4(950) 0s\n",
      "          5     9.0000000000e+04 Pr: 0(0) 0s\n",
      "Solving the original LP from the solution after postsolve\n",
      "Model   status      : Optimal\n",
      "Simplex   iterations: 5\n",
      "Objective value     :  9.0000000000e+04\n",
      "HiGHS run time      :          0.00\n"
     ]
    },
    {
     "data": {
      "text/latex": [
       "$$ \\begin{aligned}\n",
       "\\min\\quad & 225 Y_{trenton,newyork} + 45 Y_{trenton,princeton} + 135 Y_{trenton,philadelphia} + 90 Y_{trenton,newbrunswick} + 45 Y_{newark,newyork} + 135 Y_{newark,princeton} + 315 Y_{newark,philadelphia} + 90 Y_{newark,newbrunswick}\\\\\n",
       "\\text{Subject to} \\quad & Y_{trenton,newyork} + Y_{newark,newyork} \\geq 325.0\\\\\n",
       " & Y_{trenton,princeton} + Y_{newark,princeton} \\geq 300.0\\\\\n",
       " & Y_{trenton,philadelphia} + Y_{newark,philadelphia} \\geq 275.0\\\\\n",
       " & Y_{trenton,newbrunswick} + Y_{newark,newbrunswick} \\geq 50.0\\\\\n",
       " & Y_{trenton,newyork} + Y_{trenton,princeton} + Y_{trenton,philadelphia} + Y_{trenton,newbrunswick} \\leq 350.0\\\\\n",
       " & Y_{newark,newyork} + Y_{newark,princeton} + Y_{newark,philadelphia} + Y_{newark,newbrunswick} \\leq 650.0\\\\\n",
       " & Y_{trenton,newyork} \\geq 0.0\\\\\n",
       " & Y_{newark,newyork} \\geq 0.0\\\\\n",
       " & Y_{trenton,princeton} \\geq 0.0\\\\\n",
       " & Y_{newark,princeton} \\geq 0.0\\\\\n",
       " & Y_{trenton,philadelphia} \\geq 0.0\\\\\n",
       " & Y_{newark,philadelphia} \\geq 0.0\\\\\n",
       " & Y_{trenton,newbrunswick} \\geq 0.0\\\\\n",
       " & Y_{newark,newbrunswick} \\geq 0.0\\\\\n",
       "\\end{aligned} $$"
      ]
     },
     "metadata": {},
     "output_type": "display_data"
    }
   ],
   "source": [
    "# Model\n",
    "transport2 = Model(HiGHS.Optimizer);\n",
    "\n",
    "# non-negativity constraints\n",
    "@variable(transport2, Y[P,M] >= 0) \n",
    "\n",
    "# capacity constraints\n",
    "@constraint(transport2, cSupply[p in P], \n",
    "    sum(Y[p,m] for m in M) \n",
    "    <= plants.capacity[plants.plant.==p][1]) \n",
    "\n",
    "# demand constraints\n",
    "@constraint(transport2, cDemand[m in M], \n",
    "    sum(Y[p,m] for p in P) \n",
    "    >= markets.demand[markets.market.==m][1])\n",
    "\n",
    "# objective function = eCost\n",
    "@expression(transport2, eCost, \n",
    "    sum(freight_cost*distances[Symbol(p),Symbol(m)]*Y[p,m] \n",
    "        for p in P, m in M)\n",
    "    )\n",
    "\n",
    "# definte the objective function as eCost (above)\n",
    "@objective(transport2, Min, eCost)\n",
    "\n",
    "# Run the model and print the optimal value\n",
    "optimize!(transport2)\n",
    "print(transport2)\n",
    "# OPTIMAL VALUE = 90000\n",
    "\n"
   ]
  },
  {
   "cell_type": "markdown",
   "metadata": {},
   "source": [
    "**(f)** What is new optimal solution? "
   ]
  },
  {
   "cell_type": "code",
   "execution_count": 224,
   "metadata": {},
   "outputs": [
    {
     "data": {
      "text/plain": [
       "2-dimensional DenseAxisArray{Float64,2,...} with index sets:\n",
       "    Dimension 1, [\"trenton\", \"newark\"]\n",
       "    Dimension 2, [\"newyork\", \"princeton\", \"philadelphia\", \"newbrunswick\"]\n",
       "And data, a 2×4 Matrix{Float64}:\n",
       "   0.0   75.0  275.0   0.0\n",
       " 325.0  225.0    0.0  50.0"
      ]
     },
     "execution_count": 224,
     "metadata": {},
     "output_type": "execute_result"
    }
   ],
   "source": [
    "solution_transport2 = JuMP.value.(Y)"
   ]
  },
  {
   "cell_type": "markdown",
   "metadata": {},
   "source": [
    "**(g)** Interpret this result in the markdown cell below. Which facility or facilities supplies the demand in New Brunswick? Does this result make sense? Why?"
   ]
  },
  {
   "cell_type": "markdown",
   "metadata": {},
   "source": [
    "First, the objective value went up from 85,500 to 90,000, which makes sense because we will add to the total cost if we supply another city. \n",
    "Secondly, the solutions shows that 50 units of capacity are supplied to New Brunswick from Newark (despite Newark being further away than Trenton) because we had already used up Trenton's capacity when supplying other cities to minimize overall transportation costs."
   ]
  },
  {
   "cell_type": "code",
   "execution_count": null,
   "metadata": {},
   "outputs": [],
   "source": []
  }
 ],
 "metadata": {
  "kernelspec": {
   "display_name": "Julia 1.8.1",
   "language": "julia",
   "name": "julia-1.8"
  },
  "language_info": {
   "file_extension": ".jl",
   "mimetype": "application/julia",
   "name": "julia",
   "version": "1.8.1"
  }
 },
 "nbformat": 4,
 "nbformat_minor": 4
}
